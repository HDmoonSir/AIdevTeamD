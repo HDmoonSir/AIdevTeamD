{
  "nbformat": 4,
  "nbformat_minor": 0,
  "metadata": {
    "colab": {
      "provenance": []
    },
    "kernelspec": {
      "name": "python3",
      "display_name": "Python 3"
    },
    "language_info": {
      "name": "python"
    },
    "accelerator": "GPU",
    "gpuClass": "standard"
  },
  "cells": [
    {
      "cell_type": "code",
      "execution_count": null,
      "metadata": {
        "id": "ltkdJvP75JXT"
      },
      "outputs": [],
      "source": [
        "import tensorflow as tf\n",
        "from tensorflow.keras import layers, models\n",
        "import matplotlib.pyplot as plt"
      ]
    },
    {
      "cell_type": "code",
      "source": [
        "# 데이터 로드\n",
        "from PIL import Image\n",
        "import numpy as np\n",
        "import os\n",
        "\n",
        "def load_images_from_folder(folder):\n",
        "    images = []\n",
        "    for filename in os.listdir(folder):\n",
        "        img = Image.open(os.path.join(folder,filename))\n",
        "        if img is not None:\n",
        "            images.append(np.array(img))\n",
        "    return np.array(images)"
      ],
      "metadata": {
        "id": "hNnCxRFbeH_R"
      },
      "execution_count": null,
      "outputs": []
    },
    {
      "cell_type": "code",
      "source": [
        "folder_path = '/content/drive/MyDrive/colab_data/COVID_19_XRAY/train'\n",
        "train_images = load_images_from_folder(folder_path)\n"
      ],
      "metadata": {
        "id": "W5b2cwQ4B64F"
      },
      "execution_count": null,
      "outputs": []
    },
    {
      "cell_type": "code",
      "source": [
        "import pandas as pd\n",
        "\n",
        "labels_df = pd.read_csv('/content/drive/MyDrive/colab_data/COVID_19_XRAY/labels.csv')\n",
        "labels = labels_df['label']\n",
        "\n",
        "for i, label in enumerate(labels):\n",
        "    if label == 'covid':\n",
        "        labels[i] = 0\n",
        "    elif label == 'normal':\n",
        "        labels[i] = 1\n",
        "    else:\n",
        "        print(f\"Unexpected label: {label}\")\n",
        "\n",
        "train_labels = labels\n",
        "train_labels"
      ],
      "metadata": {
        "colab": {
          "base_uri": "https://localhost:8080/"
        },
        "id": "tWOyHr3ZDC9k",
        "outputId": "c4ca2bf8-f0cb-4d75-fdf2-9f90b2636378"
      },
      "execution_count": null,
      "outputs": [
        {
          "output_type": "execute_result",
          "data": {
            "text/plain": [
              "0       0\n",
              "1       0\n",
              "2       1\n",
              "3       1\n",
              "4       1\n",
              "       ..\n",
              "1995    0\n",
              "1996    1\n",
              "1997    0\n",
              "1998    1\n",
              "1999    1\n",
              "Name: label, Length: 2000, dtype: object"
            ]
          },
          "metadata": {},
          "execution_count": 47
        }
      ]
    },
    {
      "cell_type": "code",
      "source": [
        "from sklearn.model_selection import train_test_split\n",
        "\n",
        "train_images1, val_images1, train_labels1, val_labels1 = train_test_split(train_images, train_labels, test_size=0.1, random_state=42)"
      ],
      "metadata": {
        "id": "rlQg5-p6FZb0"
      },
      "execution_count": null,
      "outputs": []
    },
    {
      "cell_type": "code",
      "source": [
        "train_images1 = train_images1.reshape((1800, 299, 299, 1))\n",
        "train_images1 = train_images1 / 255.0\n",
        "\n",
        "val_images1 = val_images1.reshape((200, 299, 299, 1))\n",
        "val_labels1 = val_labels1 / 255.0"
      ],
      "metadata": {
        "id": "bHEz6hSAGQPk"
      },
      "execution_count": null,
      "outputs": []
    },
    {
      "cell_type": "code",
      "source": [
        "import tensorflow as tf\n",
        "\n",
        "# GPU 메모리 할당\n",
        "gpus = tf.config.experimental.list_physical_devices('GPU')\n",
        "if gpus:\n",
        "    try:\n",
        "        tf.config.experimental.set_visible_devices(gpus[0], 'GPU')\n",
        "        tf.config.experimental.set_memory_growth(gpus[0], True)\n",
        "    except RuntimeError as e:\n",
        "        print(e)\n"
      ],
      "metadata": {
        "id": "sIld_M_7Msx6"
      },
      "execution_count": null,
      "outputs": []
    },
    {
      "cell_type": "code",
      "source": [
        "train_labels1 = train_labels1.astype(int)\n",
        "val_labels1 = val_labels1.astype(int)"
      ],
      "metadata": {
        "id": "TrjnZY2qMwPU"
      },
      "execution_count": null,
      "outputs": []
    },
    {
      "cell_type": "code",
      "source": [
        "model = models.Sequential()\n",
        "model.add(layers.Conv2D(32, (3, 3), activation='relu', input_shape=(299, 299, 1)))\n",
        "model.add(layers.MaxPooling2D((2, 2)))\n",
        "model.add(layers.Conv2D(64, (3, 3), activation='relu'))\n",
        "model.add(layers.MaxPooling2D((2, 2)))\n",
        "model.add(layers.Conv2D(128, (3, 3), activation='relu'))\n",
        "model.add(layers.MaxPooling2D((2, 2)))\n",
        "model.add(layers.Conv2D(256, (3, 3), activation='relu'))\n",
        "model.add(layers.MaxPooling2D((2, 2)))\n",
        "model.add(layers.Flatten())\n",
        "model.add(layers.Dense(128, activation='relu'))\n",
        "model.add(layers.Dropout(0.5))\n",
        "model.add(layers.Dense(1, activation='sigmoid'))"
      ],
      "metadata": {
        "id": "notyHxGaGslB"
      },
      "execution_count": null,
      "outputs": []
    },
    {
      "cell_type": "code",
      "source": [
        "model.compile(optimizer='adam',\n",
        "              loss='binary_crossentropy',\n",
        "              metrics=['accuracy'])"
      ],
      "metadata": {
        "id": "i2EjOaWoG1U8"
      },
      "execution_count": null,
      "outputs": []
    },
    {
      "cell_type": "code",
      "source": [
        "history = model.fit(train_images1, train_labels1, epochs=50, batch_size=128,\n",
        "                    validation_data=(val_images1, val_labels1))"
      ],
      "metadata": {
        "colab": {
          "base_uri": "https://localhost:8080/"
        },
        "id": "Md0YS5fiG2h5",
        "outputId": "27496528-d88d-4a5c-c00f-a359225273ed"
      },
      "execution_count": null,
      "outputs": [
        {
          "output_type": "stream",
          "name": "stdout",
          "text": [
            "Epoch 1/50\n",
            "15/15 [==============================] - 8s 312ms/step - loss: 0.7677 - accuracy: 0.4978 - val_loss: 2.8123 - val_accuracy: 0.0000e+00\n",
            "Epoch 2/50\n",
            "15/15 [==============================] - 4s 295ms/step - loss: 0.6932 - accuracy: 0.5117 - val_loss: 2.1488 - val_accuracy: 0.0000e+00\n",
            "Epoch 3/50\n",
            "15/15 [==============================] - 5s 306ms/step - loss: 0.6956 - accuracy: 0.4989 - val_loss: 0.5660 - val_accuracy: 1.0000\n",
            "Epoch 4/50\n",
            "15/15 [==============================] - 4s 296ms/step - loss: 0.6935 - accuracy: 0.5044 - val_loss: 0.6536 - val_accuracy: 0.9750\n",
            "Epoch 5/50\n",
            "15/15 [==============================] - 4s 291ms/step - loss: 0.6931 - accuracy: 0.5072 - val_loss: 0.7015 - val_accuracy: 0.2200\n",
            "Epoch 6/50\n",
            "15/15 [==============================] - 5s 303ms/step - loss: 0.6931 - accuracy: 0.5056 - val_loss: 1.2524 - val_accuracy: 0.0250\n",
            "Epoch 7/50\n",
            "15/15 [==============================] - 4s 295ms/step - loss: 0.6931 - accuracy: 0.5056 - val_loss: 0.5163 - val_accuracy: 0.8750\n",
            "Epoch 8/50\n",
            "15/15 [==============================] - 4s 297ms/step - loss: 0.6933 - accuracy: 0.5122 - val_loss: 0.5160 - val_accuracy: 0.8850\n",
            "Epoch 9/50\n",
            "15/15 [==============================] - 5s 306ms/step - loss: 0.6919 - accuracy: 0.5128 - val_loss: 2.6354 - val_accuracy: 0.6450\n",
            "Epoch 10/50\n",
            "15/15 [==============================] - 4s 298ms/step - loss: 0.6910 - accuracy: 0.5294 - val_loss: 3.1709 - val_accuracy: 0.6200\n",
            "Epoch 11/50\n",
            "15/15 [==============================] - 4s 296ms/step - loss: 0.6917 - accuracy: 0.5256 - val_loss: 6.5459 - val_accuracy: 0.7150\n",
            "Epoch 12/50\n",
            "15/15 [==============================] - 5s 309ms/step - loss: 0.6867 - accuracy: 0.5156 - val_loss: 16.4255 - val_accuracy: 0.4150\n",
            "Epoch 13/50\n",
            "15/15 [==============================] - 4s 298ms/step - loss: 0.6827 - accuracy: 0.5356 - val_loss: 17.1944 - val_accuracy: 0.8450\n",
            "Epoch 14/50\n",
            "15/15 [==============================] - 4s 298ms/step - loss: 0.6802 - accuracy: 0.5383 - val_loss: 19.4257 - val_accuracy: 0.6750\n",
            "Epoch 15/50\n",
            "15/15 [==============================] - 5s 306ms/step - loss: 0.6693 - accuracy: 0.5578 - val_loss: 42.3882 - val_accuracy: 0.3950\n",
            "Epoch 16/50\n",
            "15/15 [==============================] - 4s 298ms/step - loss: 0.6682 - accuracy: 0.5761 - val_loss: 45.7345 - val_accuracy: 0.4550\n",
            "Epoch 17/50\n",
            "15/15 [==============================] - 4s 299ms/step - loss: 0.6531 - accuracy: 0.5856 - val_loss: 46.3863 - val_accuracy: 0.5350\n",
            "Epoch 18/50\n",
            "15/15 [==============================] - 5s 310ms/step - loss: 0.6385 - accuracy: 0.5933 - val_loss: 45.2829 - val_accuracy: 0.5950\n",
            "Epoch 19/50\n",
            "15/15 [==============================] - 5s 302ms/step - loss: 0.6301 - accuracy: 0.6217 - val_loss: 49.5168 - val_accuracy: 0.6350\n",
            "Epoch 20/50\n",
            "15/15 [==============================] - 5s 302ms/step - loss: 0.6219 - accuracy: 0.6278 - val_loss: 73.9826 - val_accuracy: 0.5250\n",
            "Epoch 21/50\n",
            "15/15 [==============================] - 5s 311ms/step - loss: 0.5797 - accuracy: 0.6650 - val_loss: 74.4021 - val_accuracy: 0.7650\n",
            "Epoch 22/50\n",
            "15/15 [==============================] - 5s 303ms/step - loss: 0.5684 - accuracy: 0.6767 - val_loss: 66.9875 - val_accuracy: 0.6700\n",
            "Epoch 23/50\n",
            "15/15 [==============================] - 5s 305ms/step - loss: 0.5834 - accuracy: 0.6628 - val_loss: 122.3226 - val_accuracy: 0.4350\n",
            "Epoch 24/50\n",
            "15/15 [==============================] - 5s 307ms/step - loss: 0.5665 - accuracy: 0.6811 - val_loss: 98.2494 - val_accuracy: 0.6300\n",
            "Epoch 25/50\n",
            "15/15 [==============================] - 5s 302ms/step - loss: 0.5191 - accuracy: 0.7150 - val_loss: 82.8731 - val_accuracy: 0.6850\n",
            "Epoch 26/50\n",
            "15/15 [==============================] - 5s 308ms/step - loss: 0.4888 - accuracy: 0.7389 - val_loss: 157.8181 - val_accuracy: 0.4700\n",
            "Epoch 27/50\n",
            "15/15 [==============================] - 5s 310ms/step - loss: 0.4274 - accuracy: 0.7756 - val_loss: 153.5707 - val_accuracy: 0.6500\n",
            "Epoch 28/50\n",
            "15/15 [==============================] - 5s 303ms/step - loss: 0.4736 - accuracy: 0.7706 - val_loss: 175.3885 - val_accuracy: 0.5400\n",
            "Epoch 29/50\n",
            "15/15 [==============================] - 5s 305ms/step - loss: 0.4402 - accuracy: 0.7778 - val_loss: 208.5711 - val_accuracy: 0.4800\n",
            "Epoch 30/50\n",
            "15/15 [==============================] - 5s 309ms/step - loss: 0.3680 - accuracy: 0.8172 - val_loss: 216.5903 - val_accuracy: 0.6650\n",
            "Epoch 31/50\n",
            "15/15 [==============================] - 5s 303ms/step - loss: 0.3273 - accuracy: 0.8428 - val_loss: 237.5934 - val_accuracy: 0.5700\n",
            "Epoch 32/50\n",
            "15/15 [==============================] - 5s 311ms/step - loss: 0.2904 - accuracy: 0.8678 - val_loss: 297.6433 - val_accuracy: 0.5600\n",
            "Epoch 33/50\n",
            "15/15 [==============================] - 5s 308ms/step - loss: 0.2507 - accuracy: 0.8917 - val_loss: 304.8224 - val_accuracy: 0.5050\n",
            "Epoch 34/50\n",
            "15/15 [==============================] - 5s 305ms/step - loss: 0.2412 - accuracy: 0.9028 - val_loss: 308.9360 - val_accuracy: 0.5550\n",
            "Epoch 35/50\n",
            "15/15 [==============================] - 5s 312ms/step - loss: 0.2271 - accuracy: 0.9061 - val_loss: 302.0844 - val_accuracy: 0.5950\n",
            "Epoch 36/50\n",
            "15/15 [==============================] - 5s 307ms/step - loss: 0.1842 - accuracy: 0.9294 - val_loss: 402.4315 - val_accuracy: 0.5050\n",
            "Epoch 37/50\n",
            "15/15 [==============================] - 5s 306ms/step - loss: 0.1679 - accuracy: 0.9294 - val_loss: 376.3086 - val_accuracy: 0.5850\n",
            "Epoch 38/50\n",
            "15/15 [==============================] - 5s 318ms/step - loss: 0.1380 - accuracy: 0.9444 - val_loss: 448.1372 - val_accuracy: 0.4700\n",
            "Epoch 39/50\n",
            "15/15 [==============================] - 5s 306ms/step - loss: 0.1242 - accuracy: 0.9533 - val_loss: 557.6750 - val_accuracy: 0.4300\n",
            "Epoch 40/50\n",
            "15/15 [==============================] - 5s 306ms/step - loss: 0.1264 - accuracy: 0.9550 - val_loss: 499.3708 - val_accuracy: 0.4900\n",
            "Epoch 41/50\n",
            "15/15 [==============================] - 5s 312ms/step - loss: 0.1109 - accuracy: 0.9617 - val_loss: 549.8895 - val_accuracy: 0.4950\n",
            "Epoch 42/50\n",
            "15/15 [==============================] - 5s 307ms/step - loss: 0.0967 - accuracy: 0.9639 - val_loss: 560.6188 - val_accuracy: 0.5050\n",
            "Epoch 43/50\n",
            "15/15 [==============================] - 5s 306ms/step - loss: 0.0890 - accuracy: 0.9667 - val_loss: 615.7731 - val_accuracy: 0.5700\n",
            "Epoch 44/50\n",
            "15/15 [==============================] - 5s 316ms/step - loss: 0.0757 - accuracy: 0.9767 - val_loss: 560.5756 - val_accuracy: 0.5750\n",
            "Epoch 45/50\n",
            "15/15 [==============================] - 5s 308ms/step - loss: 0.0642 - accuracy: 0.9778 - val_loss: 581.6641 - val_accuracy: 0.5750\n",
            "Epoch 46/50\n",
            "15/15 [==============================] - 5s 306ms/step - loss: 0.0599 - accuracy: 0.9817 - val_loss: 545.1686 - val_accuracy: 0.5850\n",
            "Epoch 47/50\n",
            "15/15 [==============================] - 5s 317ms/step - loss: 0.0659 - accuracy: 0.9783 - val_loss: 690.4817 - val_accuracy: 0.5300\n",
            "Epoch 48/50\n",
            "15/15 [==============================] - 5s 308ms/step - loss: 0.0504 - accuracy: 0.9872 - val_loss: 716.9774 - val_accuracy: 0.5500\n",
            "Epoch 49/50\n",
            "15/15 [==============================] - 5s 310ms/step - loss: 0.0547 - accuracy: 0.9850 - val_loss: 647.5446 - val_accuracy: 0.5900\n",
            "Epoch 50/50\n",
            "15/15 [==============================] - 5s 311ms/step - loss: 0.0625 - accuracy: 0.9817 - val_loss: 471.3142 - val_accuracy: 0.6850\n"
          ]
        }
      ]
    },
    {
      "cell_type": "code",
      "source": [
        "test_loss, test_acc = model.evaluate(val_images1, val_labels1)\n",
        "print('Test accuracy:', test_acc)"
      ],
      "metadata": {
        "colab": {
          "base_uri": "https://localhost:8080/"
        },
        "id": "VsKcr7dNG2cU",
        "outputId": "9065122a-5921-41e3-b6b8-0a113b8427ed"
      },
      "execution_count": null,
      "outputs": [
        {
          "output_type": "stream",
          "name": "stdout",
          "text": [
            "7/7 [==============================] - 0s 31ms/step - loss: 471.3141 - accuracy: 0.6850\n",
            "Test accuracy: 0.6850000023841858\n"
          ]
        }
      ]
    },
    {
      "cell_type": "code",
      "source": [
        "folder_path = '/content/drive/MyDrive/colab_data/COVID_19_XRAY/test'\n",
        "test_images = load_images_from_folder(folder_path)\n",
        "\n",
        "test_images"
      ],
      "metadata": {
        "id": "6E-43DAHIiyM",
        "colab": {
          "base_uri": "https://localhost:8080/"
        },
        "outputId": "95f1e63d-ce3e-4ee1-b48a-a593c2d38d03"
      },
      "execution_count": null,
      "outputs": [
        {
          "output_type": "execute_result",
          "data": {
            "text/plain": [
              "array([[[  0,   0,   0, ...,   0,   0,   2],\n",
              "        [  0,   0,   0, ...,   0,   0,   0],\n",
              "        [  0,   0,   0, ...,   0,   0,   0],\n",
              "        ...,\n",
              "        [ 18,  15,  12, ...,   0,   0,   0],\n",
              "        [  7,   8,  11, ...,   0,   0,   0],\n",
              "        [  6,  10,  13, ...,   0,   0,   0]],\n",
              "\n",
              "       [[ 28,  27,  24, ...,  15,  16,  15],\n",
              "        [ 31,  30,  27, ...,  18,  19,  17],\n",
              "        [ 30,  30,  28, ...,  18,  18,  18],\n",
              "        ...,\n",
              "        [221, 245, 246, ..., 233, 231, 211],\n",
              "        [170, 190, 191, ..., 182, 180, 164],\n",
              "        [ 12,  12,  11, ...,  11,  12,  11]],\n",
              "\n",
              "       [[ 62,  62,  62, ...,  73,  77,  85],\n",
              "        [ 10,  10,  10, ...,  18,  23,  34],\n",
              "        [  0,   0,   0, ...,   9,  15,  26],\n",
              "        ...,\n",
              "        [134,  79,  44, ...,  15,  16,  18],\n",
              "        [139,  86,  52, ...,  24,  25,  26],\n",
              "        [166, 125, 100, ...,  76,  77,  79]],\n",
              "\n",
              "       ...,\n",
              "\n",
              "       [[ 10,   3,   1, ...,   3,   4,   5],\n",
              "        [  9,   2,   1, ...,   1,   2,   2],\n",
              "        [  9,   2,   1, ...,   1,   1,   0],\n",
              "        ...,\n",
              "        [ 72,  78,  87, ..., 162, 184, 200],\n",
              "        [103, 110, 119, ..., 171, 188, 203],\n",
              "        [143, 148, 157, ..., 181, 195, 202]],\n",
              "\n",
              "       [[158, 150, 120, ..., 151, 153, 155],\n",
              "        [153, 137, 106, ..., 171, 171, 173],\n",
              "        [152, 133, 102, ..., 145, 146, 148],\n",
              "        ...,\n",
              "        [  9,  10,  10, ...,  74, 117, 158],\n",
              "        [ 11,  12,  12, ...,  75, 119, 159],\n",
              "        [ 16,  17,  18, ...,  77, 122, 159]],\n",
              "\n",
              "       [[ 72,  67,  60, ...,  14,  14,  15],\n",
              "        [ 82,  77,  73, ...,  16,  17,  19],\n",
              "        [ 77,  82,  83, ...,  18,  17,  17],\n",
              "        ...,\n",
              "        [182, 183, 184, ...,   7,   8,   8],\n",
              "        [178, 179, 180, ...,   7,   8,   8],\n",
              "        [159, 159, 160, ...,   7,   8,   8]]], dtype=uint8)"
            ]
          },
          "metadata": {},
          "execution_count": 122
        }
      ]
    },
    {
      "cell_type": "code",
      "source": [
        "test_images = test_images.reshape((400, 299, 299, 1))\n",
        "test_images = test_images / 255.0"
      ],
      "metadata": {
        "id": "vH2CZ_K8Za12"
      },
      "execution_count": null,
      "outputs": []
    },
    {
      "cell_type": "code",
      "source": [
        "import csv\n",
        "\n",
        "def get_predicted_labels(model, test_images):    \n",
        "    # 모델을 사용하여 예측\n",
        "    predictions = model.predict(test_images)\n",
        "    predicted_labels = (np.array(predictions) > 0.5).astype('int32')\n",
        "    return predicted_labels\n",
        "\n",
        "def save_labels_to_csv(labels, file_path):\n",
        "    with open(file_path, mode='w', newline='') as file:\n",
        "        writer = csv.writer(file)\n",
        "        writer.writerow(['id', 'label'])\n",
        "        for i, label in enumerate(labels):\n",
        "            writer.writerow([i, label])"
      ],
      "metadata": {
        "id": "heCv18qoXLX5"
      },
      "execution_count": null,
      "outputs": []
    },
    {
      "cell_type": "code",
      "source": [
        "predict_labels = get_predicted_labels(model, test_images)\n",
        "save_labels_to_csv(predict_labels, '/content/drive/MyDrive/colab_data/COVID_19_XRAY/predict_labels')"
      ],
      "metadata": {
        "colab": {
          "base_uri": "https://localhost:8080/"
        },
        "id": "3yGL6-_qcNDr",
        "outputId": "9d99be2b-e684-4a53-f02b-2aa5847147b2"
      },
      "execution_count": null,
      "outputs": [
        {
          "output_type": "stream",
          "name": "stdout",
          "text": [
            "13/13 [==============================] - 0s 29ms/step\n"
          ]
        }
      ]
    }
  ]
}