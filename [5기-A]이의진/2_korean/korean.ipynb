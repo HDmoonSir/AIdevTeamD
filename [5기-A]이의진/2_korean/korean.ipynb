{
 "cells": [
  {
   "attachments": {},
   "cell_type": "markdown",
   "metadata": {},
   "source": [
    "## 필요한 데이터와 의존성 설치, 모듈 Importing\n"
   ]
  },
  {
   "cell_type": "code",
   "execution_count": 30,
   "metadata": {},
   "outputs": [
    {
     "name": "stdout",
     "output_type": "stream",
     "text": [
      "zsh:1: command not found: kaggle\n",
      "unzip:  cannot find or open kdtai-2.zip, kdtai-2.zip.zip or kdtai-2.zip.ZIP.\n"
     ]
    }
   ],
   "source": [
    "!kaggle competitions download - c kdtai-2\n",
    "!unzip kdtai-2.zip - d dataset\n"
   ]
  },
  {
   "cell_type": "code",
   "execution_count": 31,
   "metadata": {},
   "outputs": [
    {
     "name": "stdout",
     "output_type": "stream",
     "text": [
      "Package                       Version\n",
      "----------------------------- ---------\n",
      "appnope                       0.1.3\n",
      "asttokens                     2.2.1\n",
      "backcall                      0.2.0\n",
      "backports.functools-lru-cache 1.6.4\n",
      "certifi                       2022.12.7\n",
      "charset-normalizer            3.1.0\n",
      "click                         8.1.3\n",
      "comm                          0.1.3\n",
      "debugpy                       1.6.7\n",
      "decorator                     5.1.1\n",
      "executing                     1.2.0\n",
      "filelock                      3.12.0\n",
      "future                        0.18.3\n",
      "gensim                        4.3.1\n",
      "idna                          3.4\n",
      "importlib-metadata            6.6.0\n",
      "ipykernel                     6.22.0\n",
      "ipython                       8.12.0\n",
      "jamotools                     0.1.10\n",
      "jedi                          0.18.2\n",
      "Jinja2                        3.1.2\n",
      "joblib                        1.2.0\n",
      "JPype1                        1.4.1\n",
      "jupyter_client                8.2.0\n",
      "jupyter_core                  5.3.0\n",
      "konlpy                        0.6.0\n",
      "lxml                          4.9.2\n",
      "MarkupSafe                    2.1.2\n",
      "matplotlib-inline             0.1.6\n",
      "mpmath                        1.3.0\n",
      "nest-asyncio                  1.5.6\n",
      "networkx                      3.1\n",
      "nltk                          3.8.1\n",
      "numpy                         1.24.3\n",
      "packaging                     23.1\n",
      "pandas                        2.0.1\n",
      "parso                         0.8.3\n",
      "pexpect                       4.8.0\n",
      "pickleshare                   0.7.5\n",
      "pip                           23.1.2\n",
      "platformdirs                  3.4.0\n",
      "prompt-toolkit                3.0.38\n",
      "psutil                        5.9.5\n",
      "ptyprocess                    0.7.0\n",
      "pure-eval                     0.2.2\n",
      "Pygments                      2.15.1\n",
      "python-dateutil               2.8.2\n",
      "pytz                          2023.3\n",
      "pyzmq                         25.0.2\n",
      "regex                         2023.3.23\n",
      "requests                      2.29.0\n",
      "scikit-learn                  1.2.2\n",
      "scipy                         1.10.1\n",
      "setuptools                    67.7.2\n",
      "six                           1.16.0\n",
      "smart-open                    6.3.0\n",
      "soynlp                        0.0.493\n",
      "stack-data                    0.6.2\n",
      "sympy                         1.11.1\n",
      "threadpoolctl                 3.1.0\n",
      "torch                         2.0.0\n",
      "torchdata                     0.6.0\n",
      "torchtext                     0.15.1\n",
      "tornado                       6.3\n",
      "tqdm                          4.65.0\n",
      "traitlets                     5.9.0\n",
      "typing_extensions             4.5.0\n",
      "tzdata                        2023.3\n",
      "urllib3                       1.26.15\n",
      "wcwidth                       0.2.6\n",
      "wheel                         0.40.0\n",
      "zipp                          3.15.0\n"
     ]
    }
   ],
   "source": [
    "!pip list - -format = freeze\n"
   ]
  },
  {
   "cell_type": "code",
   "execution_count": 32,
   "metadata": {},
   "outputs": [
    {
     "name": "stdout",
     "output_type": "stream",
     "text": [
      "\u001b[31mERROR: Invalid requirement: '-'\u001b[0m\u001b[31m\n",
      "\u001b[0mNote: you may need to restart the kernel to use updated packages.\n"
     ]
    }
   ],
   "source": [
    "%pip install - r requirements.txt\n"
   ]
  },
  {
   "cell_type": "code",
   "execution_count": 56,
   "metadata": {},
   "outputs": [
    {
     "name": "stderr",
     "output_type": "stream",
     "text": [
      "[nltk_data] Downloading package punkt to /Users/lee/nltk_data...\n",
      "[nltk_data]   Package punkt is already up-to-date!\n"
     ]
    },
    {
     "data": {
      "text/plain": [
       "True"
      ]
     },
     "execution_count": 56,
     "metadata": {},
     "output_type": "execute_result"
    }
   ],
   "source": [
    "import torch\n",
    "import torch.nn as nn\n",
    "import torch.optim as optim\n",
    "import numpy as np\n",
    "from torch.utils.data import Dataset, DataLoader, BatchSampler\n",
    "import pandas as pd\n",
    "import os\n",
    "import nltk\n",
    "from konlpy.tag import Okt\n",
    "import jamotools\n",
    "import re\n",
    "from gensim.models import FastText\n",
    "from collections import Counter\n",
    "from cosine_annealing_warmup import CosineAnnealingWarmupRestarts\n",
    "nltk.download('punkt')"
   ]
  },
  {
   "attachments": {},
   "cell_type": "markdown",
   "metadata": {},
   "source": [
    "## FastText Model Training 및 저장\n"
   ]
  },
  {
   "attachments": {},
   "cell_type": "markdown",
   "metadata": {},
   "source": [
    "### Load Corpus\n"
   ]
  },
  {
   "cell_type": "code",
   "execution_count": 34,
   "metadata": {},
   "outputs": [],
   "source": [
    "# okt = Okt()\n",
    "# current_path = os.getcwd()\n",
    "# train_df = pd.read_csv(os.path.join(current_path, \"dataset\", \"train.csv\"))\n",
    "# train_corpus = []\n",
    "# for sentence in train_df[\"text\"]:\n",
    "#     train_corpus.append(okt.morphs(sentence, stem=True))\n",
    "# train_corpus[:3]"
   ]
  },
  {
   "attachments": {},
   "cell_type": "markdown",
   "metadata": {},
   "source": [
    "### Preprocess Corpus\n"
   ]
  },
  {
   "cell_type": "code",
   "execution_count": 35,
   "metadata": {},
   "outputs": [],
   "source": [
    "# okt = Okt()\n",
    "# train_corpus = okt.morphs(train_corpus, stem=True)\n",
    "# train_corpus[:5]\n"
   ]
  },
  {
   "cell_type": "code",
   "execution_count": 36,
   "metadata": {},
   "outputs": [],
   "source": [
    "# korean = re.compile('[^1!ㄱ-ㅣ가-힣]+')\n",
    "# jamo_splited_corpus = []\n",
    "\n",
    "\n",
    "# def jamo_split(word):\n",
    "#     return korean.sub('', jamotools.split_syllables(word))\n",
    "\n",
    "\n",
    "# for word in train_corpus:\n",
    "#     jamo_splited_corpus.append(jamo_split(word))\n",
    "\n",
    "# jamo_splited_corpus[:5]"
   ]
  },
  {
   "attachments": {},
   "cell_type": "markdown",
   "metadata": {},
   "source": [
    "### Train FastText Model\n"
   ]
  },
  {
   "cell_type": "code",
   "execution_count": 37,
   "metadata": {},
   "outputs": [],
   "source": [
    "# model = FastText(train_corpus, vector_size=300,\n",
    "#                  window=5, min_count=3, workers=4, sg=1)"
   ]
  },
  {
   "cell_type": "code",
   "execution_count": 38,
   "metadata": {},
   "outputs": [],
   "source": [
    "# model.save(\"embedding_model/korean_fasttext.bin\")\n"
   ]
  },
  {
   "cell_type": "code",
   "execution_count": 39,
   "metadata": {},
   "outputs": [
    {
     "name": "stdout",
     "output_type": "stream",
     "text": [
      "Using device: mps\n"
     ]
    }
   ],
   "source": [
    "device = torch.device(\"mps\")\n",
    "# device = torch.device('cuda' if torch.cuda.is_available() else 'cpu')\n",
    "print(f\"Using device: {device}\")\n"
   ]
  },
  {
   "cell_type": "code",
   "execution_count": 40,
   "metadata": {},
   "outputs": [],
   "source": [
    "from enum import Enum\n",
    "from nltk.tokenize import word_tokenize\n",
    "from soynlp.hangle import decompose, character_is_korean\n",
    "import re\n",
    "from tqdm import tqdm\n",
    "from konlpy.tag import Okt\n",
    "\n",
    "\n",
    "class Dataset_type(Enum):\n",
    "    TRAIN = 0\n",
    "    TEST = 1\n",
    "\n",
    "\n",
    "class Korean_dataset(Dataset):\n",
    "    def __init__(self, file_path, dataset_type: Dataset_type,\n",
    "                 embedding_model, use_jamo_split=False,\n",
    "                 exclude_stopwords=False, max_length=None):\n",
    "        super().__init__()\n",
    "        self.file_path = file_path\n",
    "        # self.transform = transform\n",
    "        self.dataset_type = dataset_type\n",
    "        self.data_df = pd.read_csv(self.file_path)\n",
    "        self.embedding_model = embedding_model\n",
    "        self.word2idx = embedding_model.wv.key_to_index\n",
    "        self.use_jamo_split = use_jamo_split\n",
    "        self.exclude_stopwords = exclude_stopwords\n",
    "        self.max_length = max_length\n",
    "        current_path = os.getcwd()\n",
    "        stopwords_path = os.path.join(\n",
    "            current_path, \"utils\", \"StopWordKorean.csv\")\n",
    "        self.stopwords = pd.read_csv(stopwords_path, index_col=False)\n",
    "        self.preprocessed_src_list = self._preprocessing(self.data_df)\n",
    "\n",
    "    def __len__(self):\n",
    "        return len(self.preprocessed_src_list)\n",
    "\n",
    "    def __getitem__(self, idx):\n",
    "        src = self.preprocessed_src_list[idx]\n",
    "        if self.dataset_type == Dataset_type.TRAIN:\n",
    "            trg = torch.tensor(self.data_df.loc[idx, \"label\"]).to(device)\n",
    "            return src, trg\n",
    "        else:\n",
    "            return src\n",
    "\n",
    "    def _preprocessing(self, df):\n",
    "        src_list = []\n",
    "        rows_to_drop = []\n",
    "        okt = Okt()\n",
    "\n",
    "        # 중복 제거 (Only Training)\n",
    "        if self.dataset_type == Dataset_type.TRAIN:\n",
    "            df.drop_duplicates(subset=['text'], inplace=True)\n",
    "\n",
    "        # 한글, 영어, 공백, 숫자 빼고 전부 제거\n",
    "        df[\"text\"] = df[\"text\"].apply(\n",
    "            lambda x: re.sub(r'[^ㄱ-ㅎㅏ-ㅣ가-힣a-zA-Z0-9\\s]', '', x))\n",
    "\n",
    "        # null 값 제거\n",
    "        df.dropna(subset=[\"text\"], inplace=True)\n",
    "        df.reset_index(drop=True, inplace=True)\n",
    "\n",
    "        for idx, text in tqdm(enumerate(df.loc[:, \"text\"])):\n",
    "            # 형태소 분리\n",
    "            tokens_per_sentence = okt.morphs(text, stem=True)\n",
    "\n",
    "            # 불용어 제거 (Optional)\n",
    "            if self.exclude_stopwords:\n",
    "                tokens_per_sentence = self._remove_stopwords(\n",
    "                    tokens_per_sentence)\n",
    "\n",
    "                if len(tokens_per_sentence) == 0:\n",
    "                    rows_to_drop.append(idx)\n",
    "                    continue\n",
    "\n",
    "            # 자모 분리 (Optional)\n",
    "            if self.use_jamo_split:\n",
    "                tokens_per_sentence = self._split_jamo(tokens_per_sentence)\n",
    "\n",
    "            # fastText 초기 model 기반 정수 인코딩\n",
    "            encodings_of_tokens = self._indexing(\n",
    "                tokens_per_sentence, self.max_length, self.embedding_model)\n",
    "\n",
    "            # subwords 활용을 위한 초기 모델 기반 임베딩 벡터\n",
    "            vectors_of_tokens = self._embedding(\n",
    "                tokens_per_sentence, self.max_length, self.embedding_model)\n",
    "\n",
    "            # src -> preprocessed_src_list[idx] =\n",
    "            # ([encoding * max_vocab] , [[embeddingvector] * max_vocab]\n",
    "            src = (encodings_of_tokens, vectors_of_tokens)\n",
    "            src_list.append(src)\n",
    "\n",
    "        df.drop(rows_to_drop, inplace=True)\n",
    "        df.reset_index(drop=True, inplace=True)\n",
    "\n",
    "        return src_list\n",
    "\n",
    "    def _remove_stopwords(self, tokens_per_sentence):\n",
    "        return [token for token in tokens_per_sentence\n",
    "                if token not in self.stopwords[\"text\"].values]\n",
    "\n",
    "    def _split_jamo(self, tokens_per_sentence):\n",
    "        korean = re.compile('[^1!ㄱ-ㅣ가-힣]+')\n",
    "        return [korean.sub('', jamotools.split_syllables(\n",
    "            token)) for token in tokens_per_sentence]\n",
    "\n",
    "    def _indexing(self, tokens_per_sentence, max_length, embedding_model):\n",
    "        padding_index = 0\n",
    "        indexes_of_tokens = [padding_index] * max_length\n",
    "        # 정수 인코딩 + padding\n",
    "        for idx, token in enumerate(tokens_per_sentence):\n",
    "            if idx == max_length:\n",
    "                break\n",
    "            if token in embedding_model.wv.key_to_index:\n",
    "                token_id = self.word2idx[token]\n",
    "            else:\n",
    "                token_id = 0\n",
    "\n",
    "            indexes_of_tokens[idx] = token_id\n",
    "        return torch.tensor(np.array(indexes_of_tokens))\n",
    "\n",
    "    def _embedding(self, tokens_per_sentence, max_length, embedding_model):\n",
    "        padding_vector = embedding_model.wv['<pad>']\n",
    "        vectors_of_tokens = [padding_vector] * max_length\n",
    "        # 임베딩 + padding\n",
    "        for idx, token in enumerate(tokens_per_sentence):\n",
    "            if idx == max_length:\n",
    "                break\n",
    "            vectors_of_tokens[idx] = embedding_model.wv[token]\n",
    "        return torch.tensor(np.array(vectors_of_tokens))\n"
   ]
  },
  {
   "cell_type": "code",
   "execution_count": 41,
   "metadata": {},
   "outputs": [],
   "source": [
    "current_path = os.getcwd()\n",
    "model_file_path = os.path.join(\n",
    "    current_path, \"embedding_model\", \"korean_fasttext.bin\")\n",
    "embedding_model = FastText.load(model_file_path)\n"
   ]
  },
  {
   "cell_type": "code",
   "execution_count": 42,
   "metadata": {},
   "outputs": [
    {
     "name": "stderr",
     "output_type": "stream",
     "text": [
      "/var/folders/3_/19vyqy_n009677wdd2xcl_xh0000gn/T/ipykernel_1839/1731002018.py:31: ParserWarning: Length of header or names does not match length of data. This leads to a loss of data with index_col=False.\n",
      "  self.stopwords = pd.read_csv(stopwords_path, index_col=False)\n",
      "65334it [02:38, 413.16it/s]\n"
     ]
    }
   ],
   "source": [
    "from torch.utils.data import random_split\n",
    "\n",
    "current_path = os.getcwd()\n",
    "train_file_path = os.path.join(current_path, \"dataset\", \"train.csv\")\n",
    "test_file_path = os.path.join(current_path, \"dataset\", \"test.csv\")\n",
    "\n",
    "train_set = Korean_dataset(file_path=train_file_path,\n",
    "                           dataset_type=Dataset_type.TRAIN,\n",
    "                           use_jamo_split=False,\n",
    "                           exclude_stopwords=False,\n",
    "                           embedding_model=embedding_model,\n",
    "                           max_length=30)\n",
    "# test_set = Korean_dataset(file_path=test_file_path,\n",
    "#                           dataset_type=Dataset_type.TEST,\n",
    "#                           use_jamo_split=False,\n",
    "#                           exclude_stopwords=False,\n",
    "#                           embedding_model=embedding_model)\n"
   ]
  },
  {
   "cell_type": "code",
   "execution_count": 43,
   "metadata": {},
   "outputs": [
    {
     "data": {
      "text/plain": [
       "tensor([6168, 1351,  128, 1344,  878,   72,    1,   94,  137,    0,  132, 3245,\n",
       "           0,    0,    0,    0,    0,    0,    0,    0,    0,    0,    0,    0,\n",
       "           0,    0,    0,    0,    0,    0])"
      ]
     },
     "execution_count": 43,
     "metadata": {},
     "output_type": "execute_result"
    }
   ],
   "source": [
    "train_set.preprocessed_src_list[2000][0]\n"
   ]
  },
  {
   "cell_type": "markdown",
   "metadata": {},
   "source": []
  },
  {
   "cell_type": "code",
   "execution_count": 44,
   "metadata": {},
   "outputs": [
    {
     "data": {
      "text/plain": [
       "65334"
      ]
     },
     "execution_count": 44,
     "metadata": {},
     "output_type": "execute_result"
    }
   ],
   "source": [
    "len(train_set)"
   ]
  },
  {
   "cell_type": "code",
   "execution_count": 72,
   "metadata": {},
   "outputs": [],
   "source": [
    "from torch.nn.utils.rnn import pad_sequence\n",
    "\n",
    "\n",
    "class LSTM_Net(nn.Module):\n",
    "    def __init__(self, input_dim, hidden_dim, output_dim, embedding_model, num_layers=1):\n",
    "        super(LSTM_Net, self).__init__()\n",
    "        self.hidden_dim = hidden_dim\n",
    "        self.num_layers = num_layers\n",
    "        self.embedding_model = embedding_model\n",
    "        self.word_vectors = self.embedding_model.wv\n",
    "        self.embedding = nn.Embedding.from_pretrained(\n",
    "            torch.from_numpy(self.word_vectors.vectors), padding_idx=0)\n",
    "        self.lstm = nn.LSTM(input_dim, hidden_dim,\n",
    "                            num_layers, batch_first=True, dropout=0.3)\n",
    "        self.fc1 = nn.Linear(2*input_dim, input_dim)\n",
    "        self.fc2 = nn.Linear(hidden_dim, output_dim)\n",
    "\n",
    "    def forward(self, encoding, vector_1):\n",
    "        h0 = torch.zeros(self.num_layers, encoding.size(0),\n",
    "                         self.hidden_dim).to(encoding.device)\n",
    "        c0 = torch.zeros(self.num_layers, encoding.size(0),\n",
    "                         self.hidden_dim).to(encoding\n",
    "                                             .device)\n",
    "        vector_2 = self.embedding(encoding)\n",
    "        x = torch.cat([vector_1, vector_2], dim=2)\n",
    "        x = self.fc1(x)\n",
    "        out, (hn, cn) = self.lstm(x, (h0, c0))\n",
    "        output = out[:, -1, :]\n",
    "        x = self.fc2(output)\n",
    "        return x\n",
    "\n",
    "\n",
    "class LengthSorter(object):\n",
    "    def __init__(self, dataset):\n",
    "        self.dataset = dataset\n",
    "\n",
    "    def __iter__(self):\n",
    "        indices = list(range(len(self.dataset)))\n",
    "        indices.sort(key=self._key)\n",
    "        return iter(indices)\n",
    "\n",
    "    def __len__(self):\n",
    "        return len(self.dataset)\n",
    "\n",
    "    def _key(self, idx):\n",
    "        return len(self.dataset[idx])\n",
    "\n",
    "\n",
    "input_dim = 300\n",
    "hidden_dim = 128\n",
    "output_dim = 7\n",
    "num_layers = 4\n",
    "batch_size = 64\n",
    "num_of_epoch = 20\n",
    "learning_rate = 0.0005\n",
    "\n",
    "model = LSTM_Net(input_dim=input_dim, hidden_dim=hidden_dim,\n",
    "                 output_dim=output_dim, num_layers=num_layers, embedding_model=embedding_model).to(device)\n",
    "\n",
    "# 손실 함수와 최적화 알고리즘을 정의합니다.\n",
    "optimizer = optim.Adam(model.parameters(), lr=learning_rate)\n",
    "scheduler = CosineAnnealingWarmupRestarts(\n",
    "    optimizer, first_cycle_steps=4000, cycle_mult=1.0, max_lr=0.001, min_lr=0.0001, warmup_steps=500, gamma=0.9)\n",
    "\n",
    "\n",
    "def train(dataset, valid_rate, batch_size, optimizer, scheduler, num_of_epoch, valid_random_seed=None, patience=3):\n",
    "\n",
    "    def collate_fn(batch):\n",
    "        inputs = [item[0] for item in batch]\n",
    "        targets = [item[1] for item in batch]\n",
    "\n",
    "        # 입력 데이터의 길이를 기준으로 내림차순으로 정렬\n",
    "        sorted_idx = sorted(range(len(inputs)),\n",
    "                            key=lambda i: len(inputs[i]), reverse=True)\n",
    "        inputs = [inputs[i] for i in sorted_idx]\n",
    "        targets = [targets[i] for i in sorted_idx]\n",
    "\n",
    "        # 패딩된 새로운 텐서 생성\n",
    "        inputs = pad_sequence(inputs, batch_first=True, padding_value=0.0)\n",
    "        # print(inputs.shape)\n",
    "\n",
    "        return inputs, torch.tensor(targets)\n",
    "\n",
    "    def collate_fn_fixed(batch):\n",
    "        inputs = [item[0] for item in batch]\n",
    "        targets = [item[1] for item in batch]\n",
    "\n",
    "        # 각 시퀀스를 최대 길이 30으로 자르거나 패딩\n",
    "\n",
    "        inputs = [torch.tensor(seq[:30]) for seq in inputs]\n",
    "\n",
    "        # 모든 시퀀스를 동일한 길이로 패딩\n",
    "        inputs = pad_sequence(inputs, batch_first=True, padding_value=0.0)\n",
    "\n",
    "        return inputs, torch.tensor(targets)\n",
    "\n",
    "    dataset = dataset\n",
    "    train_set_count = int(len(dataset) * valid_rate)\n",
    "    val_set_count = len(dataset) - train_set_count\n",
    "\n",
    "    if valid_random_seed is not None:\n",
    "        torch.manual_seed(valid_random_seed)\n",
    "\n",
    "    train_set, val_set = random_split(\n",
    "        dataset, [train_set_count, val_set_count])\n",
    "    train_batch_sampler = BatchSampler(LengthSorter(\n",
    "        train_set), batch_size=batch_size, drop_last=True)\n",
    "    val_batch_sampler = BatchSampler(LengthSorter(\n",
    "        val_set), batch_size=batch_size, drop_last=True)\n",
    "\n",
    "    # train_loader = DataLoader(train_set, batch_sampler=train_batch_sampler,\n",
    "    #                           collate_fn=collate_fn)\n",
    "    # val_loader = DataLoader(val_set, batch_sampler=val_batch_sampler,\n",
    "    #                         collate_fn=collate_fn)\n",
    "\n",
    "    train_loader = DataLoader(train_set, batch_size=batch_size,\n",
    "                              shuffle=True)\n",
    "    val_loader = DataLoader(val_set, batch_size=batch_size,\n",
    "                            shuffle=True)\n",
    "\n",
    "    optimizer = optimizer\n",
    "    criterion = nn.CrossEntropyLoss().to(device)\n",
    "    train_losses = []\n",
    "    train_accs = []\n",
    "    val_losses = []\n",
    "    val_accs = []\n",
    "    lrs = []\n",
    "    is_early_stopping = False\n",
    "    best_val_accuracy = 0\n",
    "\n",
    "    for epoch in tqdm(range(num_of_epoch)):\n",
    "        model.train()\n",
    "        correct_train = 0\n",
    "        for batch_idx, (data, target) in tqdm(enumerate(train_loader)):\n",
    "            encoding = data[0]\n",
    "            vector_1 = data[1]\n",
    "            encoding, vector_1, target = encoding.to(\n",
    "                device), vector_1.to(device), target.to(device)\n",
    "            optimizer.zero_grad()\n",
    "            output = model(encoding, vector_1)\n",
    "            loss = criterion(output, target)\n",
    "            loss.backward()\n",
    "            optimizer.step()\n",
    "            lrs.append(optimizer.param_groups[0][\"lr\"])\n",
    "            scheduler.step()\n",
    "            _, pred = torch.max(output.data, 1)\n",
    "            correct_train += pred.eq(target.view_as(pred)).sum().item()\n",
    "\n",
    "            if batch_idx % 100 == 0:\n",
    "                print('Train Epoch: {} [{}/{} ({:.0f}%)]\\tLoss: {:.6f}, lrs: {}'.format(\n",
    "                    epoch + 1, batch_idx *\n",
    "                    len(data[0]), len(train_loader.dataset),\n",
    "                    100. * batch_idx / len(train_loader), loss.item(), lrs[-1]))\n",
    "\n",
    "        train_accuracy = 100. * (correct_train / len(train_set))\n",
    "        train_losses.append(loss.item())\n",
    "        train_accs.append(train_accuracy)\n",
    "        print(f\"Epoch: {epoch + 1} - train accuracy: {train_accuracy}\")\n",
    "\n",
    "        model.eval()\n",
    "        correct_val = 0\n",
    "        with torch.no_grad():\n",
    "            for batch_idx, (data, target) in tqdm(enumerate(val_loader)):\n",
    "                encoding = data[0]\n",
    "                vector_1 = data[1]\n",
    "                encoding, vector_1, target = encoding.to(\n",
    "                    device), vector_1.to(device), target.to(device)\n",
    "                output = model(encoding, vector_1)\n",
    "                loss = criterion(output, target)\n",
    "                _, pred = torch.max(output.data, 1)\n",
    "                correct_val += pred.eq(target.view_as(pred)).sum().item()\n",
    "\n",
    "            val_accuracy = 100. * (correct_val / len(val_set))\n",
    "            val_losses.append(loss.item())\n",
    "            val_accs.append(val_accuracy)\n",
    "\n",
    "            if val_accuracy > best_val_accuracy:\n",
    "                current_patience = patience\n",
    "                best_val_accuracy = val_accuracy\n",
    "                best_model = model.state_dict()\n",
    "                torch.save(best_model, 'model.pt')\n",
    "            else:\n",
    "                current_patience -= 1\n",
    "                if current_patience < 0:\n",
    "                    print(\"Early Stopping!\")\n",
    "                    is_early_stopping = True\n",
    "\n",
    "            print('Epoch {} finished: train loss = {}, val loss = {}'.format(epoch + 1,\n",
    "                                                                             train_losses[-1], val_losses[-1]))\n",
    "            print(f\"Epoch: {epoch + 1} - Validation accuracy: {val_accuracy}\")\n",
    "\n",
    "            if is_early_stopping:\n",
    "                break"
   ]
  },
  {
   "attachments": {},
   "cell_type": "markdown",
   "metadata": {},
   "source": [
    "기존 사전학습된 FaxtText 임베딩 모델\n"
   ]
  },
  {
   "attachments": {},
   "cell_type": "markdown",
   "metadata": {},
   "source": [
    "주어진 데이터로 만들어진 FastText 임베딩 모델\n"
   ]
  },
  {
   "cell_type": "code",
   "execution_count": 46,
   "metadata": {},
   "outputs": [],
   "source": [
    "# train(dataset=train_set, valid_rate=0.9, batch_size=batch_size,\n",
    "#       optimizer=optimizer, num_of_epoch=num_of_epoch, valid_random_seed=42)"
   ]
  },
  {
   "cell_type": "code",
   "execution_count": 47,
   "metadata": {},
   "outputs": [],
   "source": [
    "# train(dataset=train_set, valid_rate=0.9, batch_size=batch_size,\n",
    "#       optimizer=optimizer, num_of_epoch=num_of_epoch, valid_random_seed=42)"
   ]
  },
  {
   "attachments": {},
   "cell_type": "markdown",
   "metadata": {},
   "source": [
    "모델 형태 개선\n"
   ]
  },
  {
   "cell_type": "code",
   "execution_count": 54,
   "metadata": {},
   "outputs": [
    {
     "name": "stderr",
     "output_type": "stream",
     "text": [
      "  0%|          | 0/20 [00:00<?, ?it/s]"
     ]
    },
    {
     "name": "stdout",
     "output_type": "stream",
     "text": [
      "Train Epoch: 1 [0/58800 (0%)]\tLoss: 1.952313\n"
     ]
    },
    {
     "name": "stderr",
     "output_type": "stream",
     "text": []
    },
    {
     "name": "stdout",
     "output_type": "stream",
     "text": [
      "Train Epoch: 1 [6400/58800 (11%)]\tLoss: 1.806568\n"
     ]
    },
    {
     "name": "stderr",
     "output_type": "stream",
     "text": []
    },
    {
     "name": "stdout",
     "output_type": "stream",
     "text": [
      "Train Epoch: 1 [12800/58800 (22%)]\tLoss: 1.671595\n"
     ]
    },
    {
     "name": "stderr",
     "output_type": "stream",
     "text": []
    },
    {
     "name": "stdout",
     "output_type": "stream",
     "text": [
      "Train Epoch: 1 [19200/58800 (33%)]\tLoss: 1.565732\n"
     ]
    },
    {
     "name": "stderr",
     "output_type": "stream",
     "text": []
    },
    {
     "name": "stdout",
     "output_type": "stream",
     "text": [
      "Train Epoch: 1 [25600/58800 (44%)]\tLoss: 1.428069\n"
     ]
    },
    {
     "name": "stderr",
     "output_type": "stream",
     "text": []
    },
    {
     "name": "stdout",
     "output_type": "stream",
     "text": [
      "Train Epoch: 1 [32000/58800 (54%)]\tLoss: 1.438775\n"
     ]
    },
    {
     "name": "stderr",
     "output_type": "stream",
     "text": []
    },
    {
     "name": "stdout",
     "output_type": "stream",
     "text": [
      "Train Epoch: 1 [38400/58800 (65%)]\tLoss: 1.203888\n"
     ]
    },
    {
     "name": "stderr",
     "output_type": "stream",
     "text": []
    },
    {
     "name": "stdout",
     "output_type": "stream",
     "text": [
      "Train Epoch: 1 [44800/58800 (76%)]\tLoss: 1.199378\n"
     ]
    },
    {
     "name": "stderr",
     "output_type": "stream",
     "text": []
    },
    {
     "name": "stdout",
     "output_type": "stream",
     "text": [
      "Train Epoch: 1 [51200/58800 (87%)]\tLoss: 0.790338\n"
     ]
    },
    {
     "name": "stderr",
     "output_type": "stream",
     "text": []
    },
    {
     "name": "stdout",
     "output_type": "stream",
     "text": [
      "Train Epoch: 1 [57600/58800 (98%)]\tLoss: 1.061589\n"
     ]
    },
    {
     "name": "stderr",
     "output_type": "stream",
     "text": [
      "919it [00:31, 29.18it/s]\n"
     ]
    },
    {
     "name": "stdout",
     "output_type": "stream",
     "text": [
      "Epoch: 1 - train accuracy: 49.624149659863946\n"
     ]
    },
    {
     "name": "stderr",
     "output_type": "stream",
     "text": [
      "103it [00:02, 41.43it/s]\n",
      "  5%|▌         | 1/20 [00:33<10:45, 33.98s/it]"
     ]
    },
    {
     "name": "stdout",
     "output_type": "stream",
     "text": [
      "Epoch 1 finished: train loss = 0.7414091229438782, val loss = 1.1195805072784424\n",
      "Epoch: 1 - Validation accuracy: 68.90113253749618\n"
     ]
    },
    {
     "name": "stderr",
     "output_type": "stream",
     "text": []
    },
    {
     "name": "stdout",
     "output_type": "stream",
     "text": [
      "Train Epoch: 2 [0/58800 (0%)]\tLoss: 1.208994\n"
     ]
    },
    {
     "name": "stderr",
     "output_type": "stream",
     "text": []
    },
    {
     "name": "stdout",
     "output_type": "stream",
     "text": [
      "Train Epoch: 2 [6400/58800 (11%)]\tLoss: 1.013303\n"
     ]
    },
    {
     "name": "stderr",
     "output_type": "stream",
     "text": []
    },
    {
     "name": "stdout",
     "output_type": "stream",
     "text": [
      "Train Epoch: 2 [12800/58800 (22%)]\tLoss: 0.677483\n"
     ]
    },
    {
     "name": "stderr",
     "output_type": "stream",
     "text": []
    },
    {
     "name": "stdout",
     "output_type": "stream",
     "text": [
      "Train Epoch: 2 [19200/58800 (33%)]\tLoss: 0.962715\n"
     ]
    },
    {
     "name": "stderr",
     "output_type": "stream",
     "text": []
    },
    {
     "name": "stdout",
     "output_type": "stream",
     "text": [
      "Train Epoch: 2 [25600/58800 (44%)]\tLoss: 0.862046\n"
     ]
    },
    {
     "name": "stderr",
     "output_type": "stream",
     "text": []
    },
    {
     "name": "stdout",
     "output_type": "stream",
     "text": [
      "Train Epoch: 2 [32000/58800 (54%)]\tLoss: 0.693927\n"
     ]
    },
    {
     "name": "stderr",
     "output_type": "stream",
     "text": []
    },
    {
     "name": "stdout",
     "output_type": "stream",
     "text": [
      "Train Epoch: 2 [38400/58800 (65%)]\tLoss: 0.882049\n"
     ]
    },
    {
     "name": "stderr",
     "output_type": "stream",
     "text": []
    },
    {
     "name": "stdout",
     "output_type": "stream",
     "text": [
      "Train Epoch: 2 [44800/58800 (76%)]\tLoss: 0.789470\n"
     ]
    },
    {
     "name": "stderr",
     "output_type": "stream",
     "text": []
    },
    {
     "name": "stdout",
     "output_type": "stream",
     "text": [
      "Train Epoch: 2 [51200/58800 (87%)]\tLoss: 0.759785\n"
     ]
    },
    {
     "name": "stderr",
     "output_type": "stream",
     "text": []
    },
    {
     "name": "stdout",
     "output_type": "stream",
     "text": [
      "Train Epoch: 2 [57600/58800 (98%)]\tLoss: 0.825477\n"
     ]
    },
    {
     "name": "stderr",
     "output_type": "stream",
     "text": [
      "919it [00:31, 29.12it/s]\n"
     ]
    },
    {
     "name": "stdout",
     "output_type": "stream",
     "text": [
      "Epoch: 2 - train accuracy: 70.74489795918367\n"
     ]
    },
    {
     "name": "stderr",
     "output_type": "stream",
     "text": [
      "103it [00:02, 43.65it/s]\n",
      " 10%|█         | 2/20 [01:07<10:11, 33.95s/it]"
     ]
    },
    {
     "name": "stdout",
     "output_type": "stream",
     "text": [
      "Epoch 2 finished: train loss = 0.7165125012397766, val loss = 1.2152787446975708\n",
      "Epoch: 2 - Validation accuracy: 73.73737373737373\n"
     ]
    },
    {
     "name": "stderr",
     "output_type": "stream",
     "text": []
    },
    {
     "name": "stdout",
     "output_type": "stream",
     "text": [
      "Train Epoch: 3 [0/58800 (0%)]\tLoss: 0.843888\n"
     ]
    },
    {
     "name": "stderr",
     "output_type": "stream",
     "text": []
    },
    {
     "name": "stdout",
     "output_type": "stream",
     "text": [
      "Train Epoch: 3 [6400/58800 (11%)]\tLoss: 0.734488\n"
     ]
    },
    {
     "name": "stderr",
     "output_type": "stream",
     "text": []
    },
    {
     "name": "stdout",
     "output_type": "stream",
     "text": [
      "Train Epoch: 3 [12800/58800 (22%)]\tLoss: 0.757127\n"
     ]
    },
    {
     "name": "stderr",
     "output_type": "stream",
     "text": []
    },
    {
     "name": "stdout",
     "output_type": "stream",
     "text": [
      "Train Epoch: 3 [19200/58800 (33%)]\tLoss: 0.785768\n"
     ]
    },
    {
     "name": "stderr",
     "output_type": "stream",
     "text": []
    },
    {
     "name": "stdout",
     "output_type": "stream",
     "text": [
      "Train Epoch: 3 [25600/58800 (44%)]\tLoss: 0.751228\n"
     ]
    },
    {
     "name": "stderr",
     "output_type": "stream",
     "text": []
    },
    {
     "name": "stdout",
     "output_type": "stream",
     "text": [
      "Train Epoch: 3 [32000/58800 (54%)]\tLoss: 0.778375\n"
     ]
    },
    {
     "name": "stderr",
     "output_type": "stream",
     "text": [
      "\n",
      "607it [00:20, 29.49it/s]"
     ]
    },
    {
     "name": "stdout",
     "output_type": "stream",
     "text": [
      "Train Epoch: 3 [38400/58800 (65%)]\tLoss: 1.037683\n"
     ]
    },
    {
     "name": "stderr",
     "output_type": "stream",
     "text": [
      "\u001b[A"
     ]
    },
    {
     "name": "stdout",
     "output_type": "stream",
     "text": [
      "Train Epoch: 3 [44800/58800 (76%)]\tLoss: 0.874836\n"
     ]
    },
    {
     "name": "stderr",
     "output_type": "stream",
     "text": []
    },
    {
     "name": "stdout",
     "output_type": "stream",
     "text": [
      "Train Epoch: 3 [51200/58800 (87%)]\tLoss: 0.700039\n"
     ]
    },
    {
     "name": "stderr",
     "output_type": "stream",
     "text": []
    },
    {
     "name": "stdout",
     "output_type": "stream",
     "text": [
      "Train Epoch: 3 [57600/58800 (98%)]\tLoss: 0.668988\n"
     ]
    },
    {
     "name": "stderr",
     "output_type": "stream",
     "text": [
      "919it [00:31, 29.08it/s]\n"
     ]
    },
    {
     "name": "stdout",
     "output_type": "stream",
     "text": [
      "Epoch: 3 - train accuracy: 73.45918367346938\n"
     ]
    },
    {
     "name": "stderr",
     "output_type": "stream",
     "text": [
      "103it [00:02, 46.77it/s]\n",
      " 15%|█▌        | 3/20 [01:41<09:36, 33.89s/it]"
     ]
    },
    {
     "name": "stdout",
     "output_type": "stream",
     "text": [
      "Epoch 3 finished: train loss = 0.6830068230628967, val loss = 0.8634128570556641\n",
      "Epoch: 3 - Validation accuracy: 74.99234771962044\n"
     ]
    },
    {
     "name": "stderr",
     "output_type": "stream",
     "text": [
      "\n"
     ]
    },
    {
     "name": "stdout",
     "output_type": "stream",
     "text": [
      "Train Epoch: 4 [0/58800 (0%)]\tLoss: 0.702580\n"
     ]
    },
    {
     "name": "stderr",
     "output_type": "stream",
     "text": [
      "6it [00:00, 29.90it/s]\u001b[A\n"
     ]
    },
    {
     "name": "stdout",
     "output_type": "stream",
     "text": [
      "Train Epoch: 4 [6400/58800 (11%)]\tLoss: 0.548253\n"
     ]
    },
    {
     "name": "stderr",
     "output_type": "stream",
     "text": [
      "107it [00:03, 29.94it/s]\u001b[A"
     ]
    },
    {
     "name": "stdout",
     "output_type": "stream",
     "text": [
      "Train Epoch: 4 [12800/58800 (22%)]\tLoss: 0.915843\n"
     ]
    },
    {
     "name": "stderr",
     "output_type": "stream",
     "text": []
    },
    {
     "name": "stdout",
     "output_type": "stream",
     "text": [
      "Train Epoch: 4 [19200/58800 (33%)]\tLoss: 0.664088\n"
     ]
    },
    {
     "name": "stderr",
     "output_type": "stream",
     "text": []
    },
    {
     "name": "stdout",
     "output_type": "stream",
     "text": [
      "Train Epoch: 4 [25600/58800 (44%)]\tLoss: 0.601983\n"
     ]
    },
    {
     "name": "stderr",
     "output_type": "stream",
     "text": []
    },
    {
     "name": "stdout",
     "output_type": "stream",
     "text": [
      "Train Epoch: 4 [32000/58800 (54%)]\tLoss: 0.773185\n"
     ]
    },
    {
     "name": "stderr",
     "output_type": "stream",
     "text": []
    },
    {
     "name": "stdout",
     "output_type": "stream",
     "text": [
      "Train Epoch: 4 [38400/58800 (65%)]\tLoss: 0.914210\n"
     ]
    },
    {
     "name": "stderr",
     "output_type": "stream",
     "text": []
    },
    {
     "name": "stdout",
     "output_type": "stream",
     "text": [
      "Train Epoch: 4 [44800/58800 (76%)]\tLoss: 0.731992\n"
     ]
    },
    {
     "name": "stderr",
     "output_type": "stream",
     "text": []
    },
    {
     "name": "stdout",
     "output_type": "stream",
     "text": [
      "Train Epoch: 4 [51200/58800 (87%)]\tLoss: 0.628163\n"
     ]
    },
    {
     "name": "stderr",
     "output_type": "stream",
     "text": []
    },
    {
     "name": "stdout",
     "output_type": "stream",
     "text": [
      "Train Epoch: 4 [57600/58800 (98%)]\tLoss: 0.678605\n"
     ]
    },
    {
     "name": "stderr",
     "output_type": "stream",
     "text": [
      "919it [00:30, 29.78it/s]\n"
     ]
    },
    {
     "name": "stdout",
     "output_type": "stream",
     "text": [
      "Epoch: 4 - train accuracy: 74.64115646258503\n"
     ]
    },
    {
     "name": "stderr",
     "output_type": "stream",
     "text": [
      "103it [00:02, 46.67it/s]\n",
      " 20%|██        | 4/20 [02:14<08:57, 33.57s/it]"
     ]
    },
    {
     "name": "stdout",
     "output_type": "stream",
     "text": [
      "Epoch 4 finished: train loss = 0.6821104884147644, val loss = 0.7900676727294922\n",
      "Epoch: 4 - Validation accuracy: 75.54331190694828\n"
     ]
    },
    {
     "name": "stderr",
     "output_type": "stream",
     "text": []
    },
    {
     "name": "stdout",
     "output_type": "stream",
     "text": [
      "Train Epoch: 5 [0/58800 (0%)]\tLoss: 0.684134\n"
     ]
    },
    {
     "name": "stderr",
     "output_type": "stream",
     "text": []
    },
    {
     "name": "stdout",
     "output_type": "stream",
     "text": [
      "Train Epoch: 5 [6400/58800 (11%)]\tLoss: 0.793061\n"
     ]
    },
    {
     "name": "stderr",
     "output_type": "stream",
     "text": []
    },
    {
     "name": "stdout",
     "output_type": "stream",
     "text": [
      "Train Epoch: 5 [12800/58800 (22%)]\tLoss: 0.659038\n"
     ]
    },
    {
     "name": "stderr",
     "output_type": "stream",
     "text": []
    },
    {
     "name": "stdout",
     "output_type": "stream",
     "text": [
      "Train Epoch: 5 [19200/58800 (33%)]\tLoss: 0.690587\n"
     ]
    },
    {
     "name": "stderr",
     "output_type": "stream",
     "text": []
    },
    {
     "name": "stdout",
     "output_type": "stream",
     "text": [
      "Train Epoch: 5 [25600/58800 (44%)]\tLoss: 1.041197\n"
     ]
    },
    {
     "name": "stderr",
     "output_type": "stream",
     "text": []
    },
    {
     "name": "stdout",
     "output_type": "stream",
     "text": [
      "Train Epoch: 5 [32000/58800 (54%)]\tLoss: 0.839881\n"
     ]
    },
    {
     "name": "stderr",
     "output_type": "stream",
     "text": []
    },
    {
     "name": "stdout",
     "output_type": "stream",
     "text": [
      "Train Epoch: 5 [38400/58800 (65%)]\tLoss: 0.704477\n"
     ]
    },
    {
     "name": "stderr",
     "output_type": "stream",
     "text": []
    },
    {
     "name": "stdout",
     "output_type": "stream",
     "text": [
      "Train Epoch: 5 [44800/58800 (76%)]\tLoss: 0.769397\n"
     ]
    },
    {
     "name": "stderr",
     "output_type": "stream",
     "text": []
    },
    {
     "name": "stdout",
     "output_type": "stream",
     "text": [
      "Train Epoch: 5 [51200/58800 (87%)]\tLoss: 0.797679\n"
     ]
    },
    {
     "name": "stderr",
     "output_type": "stream",
     "text": []
    },
    {
     "name": "stdout",
     "output_type": "stream",
     "text": [
      "Train Epoch: 5 [57600/58800 (98%)]\tLoss: 0.621175\n"
     ]
    },
    {
     "name": "stderr",
     "output_type": "stream",
     "text": [
      "919it [00:30, 29.71it/s]\n"
     ]
    },
    {
     "name": "stdout",
     "output_type": "stream",
     "text": [
      "Epoch: 5 - train accuracy: 75.27721088435374\n"
     ]
    },
    {
     "name": "stderr",
     "output_type": "stream",
     "text": [
      "103it [00:02, 43.85it/s]\n",
      " 25%|██▌       | 5/20 [02:48<08:21, 33.46s/it]"
     ]
    },
    {
     "name": "stdout",
     "output_type": "stream",
     "text": [
      "Epoch 5 finished: train loss = 0.38607117533683777, val loss = 0.715802013874054\n",
      "Epoch: 5 - Validation accuracy: 76.07897153351699\n"
     ]
    },
    {
     "name": "stderr",
     "output_type": "stream",
     "text": []
    },
    {
     "name": "stdout",
     "output_type": "stream",
     "text": [
      "Train Epoch: 6 [0/58800 (0%)]\tLoss: 0.606507\n"
     ]
    },
    {
     "name": "stderr",
     "output_type": "stream",
     "text": []
    },
    {
     "name": "stdout",
     "output_type": "stream",
     "text": [
      "Train Epoch: 6 [6400/58800 (11%)]\tLoss: 0.550139\n"
     ]
    },
    {
     "name": "stderr",
     "output_type": "stream",
     "text": []
    },
    {
     "name": "stdout",
     "output_type": "stream",
     "text": [
      "Train Epoch: 6 [12800/58800 (22%)]\tLoss: 0.554917\n"
     ]
    },
    {
     "name": "stderr",
     "output_type": "stream",
     "text": []
    },
    {
     "name": "stdout",
     "output_type": "stream",
     "text": [
      "Train Epoch: 6 [19200/58800 (33%)]\tLoss: 0.788138\n"
     ]
    },
    {
     "name": "stderr",
     "output_type": "stream",
     "text": []
    },
    {
     "name": "stdout",
     "output_type": "stream",
     "text": [
      "Train Epoch: 6 [25600/58800 (44%)]\tLoss: 0.740092\n"
     ]
    },
    {
     "name": "stderr",
     "output_type": "stream",
     "text": []
    },
    {
     "name": "stdout",
     "output_type": "stream",
     "text": [
      "Train Epoch: 6 [32000/58800 (54%)]\tLoss: 0.654494\n"
     ]
    },
    {
     "name": "stderr",
     "output_type": "stream",
     "text": []
    },
    {
     "name": "stdout",
     "output_type": "stream",
     "text": [
      "Train Epoch: 6 [38400/58800 (65%)]\tLoss: 0.855479\n"
     ]
    },
    {
     "name": "stderr",
     "output_type": "stream",
     "text": []
    },
    {
     "name": "stdout",
     "output_type": "stream",
     "text": [
      "Train Epoch: 6 [44800/58800 (76%)]\tLoss: 0.778520\n"
     ]
    },
    {
     "name": "stderr",
     "output_type": "stream",
     "text": []
    },
    {
     "name": "stdout",
     "output_type": "stream",
     "text": [
      "Train Epoch: 6 [51200/58800 (87%)]\tLoss: 0.656659\n"
     ]
    },
    {
     "name": "stderr",
     "output_type": "stream",
     "text": []
    },
    {
     "name": "stdout",
     "output_type": "stream",
     "text": [
      "Train Epoch: 6 [57600/58800 (98%)]\tLoss: 0.737309\n"
     ]
    },
    {
     "name": "stderr",
     "output_type": "stream",
     "text": [
      "919it [00:31, 29.00it/s]\n"
     ]
    },
    {
     "name": "stdout",
     "output_type": "stream",
     "text": [
      "Epoch: 6 - train accuracy: 76.00850340136054\n"
     ]
    },
    {
     "name": "stderr",
     "output_type": "stream",
     "text": [
      "103it [00:02, 43.72it/s]\n",
      " 30%|███       | 6/20 [03:22<07:51, 33.66s/it]"
     ]
    },
    {
     "name": "stdout",
     "output_type": "stream",
     "text": [
      "Epoch 6 finished: train loss = 0.5802286267280579, val loss = 1.438531517982483\n",
      "Epoch: 6 - Validation accuracy: 75.92592592592592\n"
     ]
    },
    {
     "name": "stderr",
     "output_type": "stream",
     "text": []
    },
    {
     "name": "stdout",
     "output_type": "stream",
     "text": [
      "Train Epoch: 7 [0/58800 (0%)]\tLoss: 0.701138\n"
     ]
    },
    {
     "name": "stderr",
     "output_type": "stream",
     "text": []
    },
    {
     "name": "stdout",
     "output_type": "stream",
     "text": [
      "Train Epoch: 7 [6400/58800 (11%)]\tLoss: 0.557576\n"
     ]
    },
    {
     "name": "stderr",
     "output_type": "stream",
     "text": []
    },
    {
     "name": "stdout",
     "output_type": "stream",
     "text": [
      "Train Epoch: 7 [12800/58800 (22%)]\tLoss: 0.647430\n"
     ]
    },
    {
     "name": "stderr",
     "output_type": "stream",
     "text": []
    },
    {
     "name": "stdout",
     "output_type": "stream",
     "text": [
      "Train Epoch: 7 [19200/58800 (33%)]\tLoss: 0.605817\n"
     ]
    },
    {
     "name": "stderr",
     "output_type": "stream",
     "text": []
    },
    {
     "name": "stdout",
     "output_type": "stream",
     "text": [
      "Train Epoch: 7 [25600/58800 (44%)]\tLoss: 0.602403\n"
     ]
    },
    {
     "name": "stderr",
     "output_type": "stream",
     "text": []
    },
    {
     "name": "stdout",
     "output_type": "stream",
     "text": [
      "Train Epoch: 7 [32000/58800 (54%)]\tLoss: 0.525985\n"
     ]
    },
    {
     "name": "stderr",
     "output_type": "stream",
     "text": []
    },
    {
     "name": "stdout",
     "output_type": "stream",
     "text": [
      "Train Epoch: 7 [38400/58800 (65%)]\tLoss: 0.885937\n"
     ]
    },
    {
     "name": "stderr",
     "output_type": "stream",
     "text": []
    },
    {
     "name": "stdout",
     "output_type": "stream",
     "text": [
      "Train Epoch: 7 [44800/58800 (76%)]\tLoss: 0.538581\n"
     ]
    },
    {
     "name": "stderr",
     "output_type": "stream",
     "text": []
    },
    {
     "name": "stdout",
     "output_type": "stream",
     "text": [
      "Train Epoch: 7 [51200/58800 (87%)]\tLoss: 0.681717\n"
     ]
    },
    {
     "name": "stderr",
     "output_type": "stream",
     "text": []
    },
    {
     "name": "stdout",
     "output_type": "stream",
     "text": [
      "Train Epoch: 7 [57600/58800 (98%)]\tLoss: 0.589341\n"
     ]
    },
    {
     "name": "stderr",
     "output_type": "stream",
     "text": [
      "919it [00:31, 29.02it/s]\n"
     ]
    },
    {
     "name": "stdout",
     "output_type": "stream",
     "text": [
      "Epoch: 7 - train accuracy: 76.62925170068027\n"
     ]
    },
    {
     "name": "stderr",
     "output_type": "stream",
     "text": [
      "103it [00:02, 46.72it/s]\n",
      " 35%|███▌      | 7/20 [03:56<07:18, 33.73s/it]"
     ]
    },
    {
     "name": "stdout",
     "output_type": "stream",
     "text": [
      "Epoch 7 finished: train loss = 0.5156131386756897, val loss = 1.0822169780731201\n",
      "Epoch: 7 - Validation accuracy: 76.20140801958983\n"
     ]
    },
    {
     "name": "stderr",
     "output_type": "stream",
     "text": []
    },
    {
     "name": "stdout",
     "output_type": "stream",
     "text": [
      "Train Epoch: 8 [0/58800 (0%)]\tLoss: 0.752896\n"
     ]
    },
    {
     "name": "stderr",
     "output_type": "stream",
     "text": []
    },
    {
     "name": "stdout",
     "output_type": "stream",
     "text": [
      "Train Epoch: 8 [6400/58800 (11%)]\tLoss: 0.540589\n"
     ]
    },
    {
     "name": "stderr",
     "output_type": "stream",
     "text": []
    },
    {
     "name": "stdout",
     "output_type": "stream",
     "text": [
      "Train Epoch: 8 [12800/58800 (22%)]\tLoss: 0.591033\n"
     ]
    },
    {
     "name": "stderr",
     "output_type": "stream",
     "text": []
    },
    {
     "name": "stdout",
     "output_type": "stream",
     "text": [
      "Train Epoch: 8 [19200/58800 (33%)]\tLoss: 0.562769\n"
     ]
    },
    {
     "name": "stderr",
     "output_type": "stream",
     "text": []
    },
    {
     "name": "stdout",
     "output_type": "stream",
     "text": [
      "Train Epoch: 8 [25600/58800 (44%)]\tLoss: 0.823275\n"
     ]
    },
    {
     "name": "stderr",
     "output_type": "stream",
     "text": []
    },
    {
     "name": "stdout",
     "output_type": "stream",
     "text": [
      "Train Epoch: 8 [32000/58800 (54%)]\tLoss: 0.583959\n"
     ]
    },
    {
     "name": "stderr",
     "output_type": "stream",
     "text": []
    },
    {
     "name": "stdout",
     "output_type": "stream",
     "text": [
      "Train Epoch: 8 [38400/58800 (65%)]\tLoss: 0.649971\n"
     ]
    },
    {
     "name": "stderr",
     "output_type": "stream",
     "text": []
    },
    {
     "name": "stdout",
     "output_type": "stream",
     "text": [
      "Train Epoch: 8 [44800/58800 (76%)]\tLoss: 0.650670\n"
     ]
    },
    {
     "name": "stderr",
     "output_type": "stream",
     "text": []
    },
    {
     "name": "stdout",
     "output_type": "stream",
     "text": [
      "Train Epoch: 8 [51200/58800 (87%)]\tLoss: 0.830806\n"
     ]
    },
    {
     "name": "stderr",
     "output_type": "stream",
     "text": []
    },
    {
     "name": "stdout",
     "output_type": "stream",
     "text": [
      "Train Epoch: 8 [57600/58800 (98%)]\tLoss: 0.625772\n"
     ]
    },
    {
     "name": "stderr",
     "output_type": "stream",
     "text": [
      "919it [00:30, 29.83it/s]\n"
     ]
    },
    {
     "name": "stdout",
     "output_type": "stream",
     "text": [
      "Epoch: 8 - train accuracy: 77.47278911564625\n"
     ]
    },
    {
     "name": "stderr",
     "output_type": "stream",
     "text": [
      "103it [00:02, 46.20it/s]\n",
      " 40%|████      | 8/20 [04:29<06:42, 33.51s/it]"
     ]
    },
    {
     "name": "stdout",
     "output_type": "stream",
     "text": [
      "Epoch 8 finished: train loss = 0.5062540173530579, val loss = 0.4752213954925537\n",
      "Epoch: 8 - Validation accuracy: 77.05846342209979\n"
     ]
    },
    {
     "name": "stderr",
     "output_type": "stream",
     "text": []
    },
    {
     "name": "stdout",
     "output_type": "stream",
     "text": [
      "Train Epoch: 9 [0/58800 (0%)]\tLoss: 0.777897\n"
     ]
    },
    {
     "name": "stderr",
     "output_type": "stream",
     "text": []
    },
    {
     "name": "stdout",
     "output_type": "stream",
     "text": [
      "Train Epoch: 9 [6400/58800 (11%)]\tLoss: 0.505071\n"
     ]
    },
    {
     "name": "stderr",
     "output_type": "stream",
     "text": []
    },
    {
     "name": "stdout",
     "output_type": "stream",
     "text": [
      "Train Epoch: 9 [12800/58800 (22%)]\tLoss: 0.587640\n"
     ]
    },
    {
     "name": "stderr",
     "output_type": "stream",
     "text": []
    },
    {
     "name": "stdout",
     "output_type": "stream",
     "text": [
      "Train Epoch: 9 [19200/58800 (33%)]\tLoss: 0.605584\n"
     ]
    },
    {
     "name": "stderr",
     "output_type": "stream",
     "text": []
    },
    {
     "name": "stdout",
     "output_type": "stream",
     "text": [
      "Train Epoch: 9 [25600/58800 (44%)]\tLoss: 0.597111\n"
     ]
    },
    {
     "name": "stderr",
     "output_type": "stream",
     "text": []
    },
    {
     "name": "stdout",
     "output_type": "stream",
     "text": [
      "Train Epoch: 9 [32000/58800 (54%)]\tLoss: 0.551020\n"
     ]
    },
    {
     "name": "stderr",
     "output_type": "stream",
     "text": []
    },
    {
     "name": "stdout",
     "output_type": "stream",
     "text": [
      "Train Epoch: 9 [38400/58800 (65%)]\tLoss: 0.590066\n"
     ]
    },
    {
     "name": "stderr",
     "output_type": "stream",
     "text": []
    },
    {
     "name": "stdout",
     "output_type": "stream",
     "text": [
      "Train Epoch: 9 [44800/58800 (76%)]\tLoss: 0.519029\n"
     ]
    },
    {
     "name": "stderr",
     "output_type": "stream",
     "text": []
    },
    {
     "name": "stdout",
     "output_type": "stream",
     "text": [
      "Train Epoch: 9 [51200/58800 (87%)]\tLoss: 0.650602\n"
     ]
    },
    {
     "name": "stderr",
     "output_type": "stream",
     "text": []
    },
    {
     "name": "stdout",
     "output_type": "stream",
     "text": [
      "Train Epoch: 9 [57600/58800 (98%)]\tLoss: 0.728175\n"
     ]
    },
    {
     "name": "stderr",
     "output_type": "stream",
     "text": [
      "919it [00:31, 29.33it/s]\n"
     ]
    },
    {
     "name": "stdout",
     "output_type": "stream",
     "text": [
      "Epoch: 9 - train accuracy: 78.04081632653062\n"
     ]
    },
    {
     "name": "stderr",
     "output_type": "stream",
     "text": [
      "103it [00:02, 43.77it/s]\n",
      " 45%|████▌     | 9/20 [05:02<06:09, 33.57s/it]"
     ]
    },
    {
     "name": "stdout",
     "output_type": "stream",
     "text": [
      "Epoch 9 finished: train loss = 0.7699416279792786, val loss = 1.4784523248672485\n",
      "Epoch: 9 - Validation accuracy: 77.53290480563207\n"
     ]
    },
    {
     "name": "stderr",
     "output_type": "stream",
     "text": []
    },
    {
     "name": "stdout",
     "output_type": "stream",
     "text": [
      "Train Epoch: 10 [0/58800 (0%)]\tLoss: 0.505540\n"
     ]
    },
    {
     "name": "stderr",
     "output_type": "stream",
     "text": []
    },
    {
     "name": "stdout",
     "output_type": "stream",
     "text": [
      "Train Epoch: 10 [6400/58800 (11%)]\tLoss: 0.697799\n"
     ]
    },
    {
     "name": "stderr",
     "output_type": "stream",
     "text": []
    },
    {
     "name": "stdout",
     "output_type": "stream",
     "text": [
      "Train Epoch: 10 [12800/58800 (22%)]\tLoss: 0.700049\n"
     ]
    },
    {
     "name": "stderr",
     "output_type": "stream",
     "text": []
    },
    {
     "name": "stdout",
     "output_type": "stream",
     "text": [
      "Train Epoch: 10 [19200/58800 (33%)]\tLoss: 0.491287\n"
     ]
    },
    {
     "name": "stderr",
     "output_type": "stream",
     "text": []
    },
    {
     "name": "stdout",
     "output_type": "stream",
     "text": [
      "Train Epoch: 10 [25600/58800 (44%)]\tLoss: 0.461509\n"
     ]
    },
    {
     "name": "stderr",
     "output_type": "stream",
     "text": []
    },
    {
     "name": "stdout",
     "output_type": "stream",
     "text": [
      "Train Epoch: 10 [32000/58800 (54%)]\tLoss: 0.609165\n"
     ]
    },
    {
     "name": "stderr",
     "output_type": "stream",
     "text": []
    },
    {
     "name": "stdout",
     "output_type": "stream",
     "text": [
      "Train Epoch: 10 [38400/58800 (65%)]\tLoss: 0.587929\n"
     ]
    },
    {
     "name": "stderr",
     "output_type": "stream",
     "text": []
    },
    {
     "name": "stdout",
     "output_type": "stream",
     "text": [
      "Train Epoch: 10 [44800/58800 (76%)]\tLoss: 0.709771\n"
     ]
    },
    {
     "name": "stderr",
     "output_type": "stream",
     "text": []
    },
    {
     "name": "stdout",
     "output_type": "stream",
     "text": [
      "Train Epoch: 10 [51200/58800 (87%)]\tLoss: 0.665152\n"
     ]
    },
    {
     "name": "stderr",
     "output_type": "stream",
     "text": []
    },
    {
     "name": "stdout",
     "output_type": "stream",
     "text": [
      "Train Epoch: 10 [57600/58800 (98%)]\tLoss: 0.527540\n"
     ]
    },
    {
     "name": "stderr",
     "output_type": "stream",
     "text": [
      "919it [00:31, 28.92it/s]\n"
     ]
    },
    {
     "name": "stdout",
     "output_type": "stream",
     "text": [
      "Epoch: 10 - train accuracy: 78.6547619047619\n"
     ]
    },
    {
     "name": "stderr",
     "output_type": "stream",
     "text": [
      "103it [00:02, 44.13it/s]\n",
      " 50%|█████     | 10/20 [05:36<05:37, 33.74s/it]"
     ]
    },
    {
     "name": "stdout",
     "output_type": "stream",
     "text": [
      "Epoch 10 finished: train loss = 0.618817150592804, val loss = 0.40546536445617676\n",
      "Epoch: 10 - Validation accuracy: 77.44107744107744\n"
     ]
    },
    {
     "name": "stderr",
     "output_type": "stream",
     "text": []
    },
    {
     "name": "stdout",
     "output_type": "stream",
     "text": [
      "Train Epoch: 11 [0/58800 (0%)]\tLoss: 0.436657\n"
     ]
    },
    {
     "name": "stderr",
     "output_type": "stream",
     "text": []
    },
    {
     "name": "stdout",
     "output_type": "stream",
     "text": [
      "Train Epoch: 11 [6400/58800 (11%)]\tLoss: 0.572019\n"
     ]
    },
    {
     "name": "stderr",
     "output_type": "stream",
     "text": []
    },
    {
     "name": "stdout",
     "output_type": "stream",
     "text": [
      "Train Epoch: 11 [12800/58800 (22%)]\tLoss: 0.511081\n"
     ]
    },
    {
     "name": "stderr",
     "output_type": "stream",
     "text": []
    },
    {
     "name": "stdout",
     "output_type": "stream",
     "text": [
      "Train Epoch: 11 [19200/58800 (33%)]\tLoss: 0.677217\n"
     ]
    },
    {
     "name": "stderr",
     "output_type": "stream",
     "text": []
    },
    {
     "name": "stdout",
     "output_type": "stream",
     "text": [
      "Train Epoch: 11 [25600/58800 (44%)]\tLoss: 0.844054\n"
     ]
    },
    {
     "name": "stderr",
     "output_type": "stream",
     "text": []
    },
    {
     "name": "stdout",
     "output_type": "stream",
     "text": [
      "Train Epoch: 11 [32000/58800 (54%)]\tLoss: 0.502522\n"
     ]
    },
    {
     "name": "stderr",
     "output_type": "stream",
     "text": []
    },
    {
     "name": "stdout",
     "output_type": "stream",
     "text": [
      "Train Epoch: 11 [38400/58800 (65%)]\tLoss: 0.427182\n"
     ]
    },
    {
     "name": "stderr",
     "output_type": "stream",
     "text": []
    },
    {
     "name": "stdout",
     "output_type": "stream",
     "text": [
      "Train Epoch: 11 [44800/58800 (76%)]\tLoss: 0.540960\n"
     ]
    },
    {
     "name": "stderr",
     "output_type": "stream",
     "text": []
    },
    {
     "name": "stdout",
     "output_type": "stream",
     "text": [
      "Train Epoch: 11 [51200/58800 (87%)]\tLoss: 0.602712\n"
     ]
    },
    {
     "name": "stderr",
     "output_type": "stream",
     "text": []
    },
    {
     "name": "stdout",
     "output_type": "stream",
     "text": [
      "Train Epoch: 11 [57600/58800 (98%)]\tLoss: 0.623298\n"
     ]
    },
    {
     "name": "stderr",
     "output_type": "stream",
     "text": [
      "919it [00:30, 29.77it/s]\n"
     ]
    },
    {
     "name": "stdout",
     "output_type": "stream",
     "text": [
      "Epoch: 11 - train accuracy: 79.15306122448979\n"
     ]
    },
    {
     "name": "stderr",
     "output_type": "stream",
     "text": [
      "103it [00:02, 46.79it/s]\n",
      " 55%|█████▌    | 11/20 [06:09<05:01, 33.53s/it]"
     ]
    },
    {
     "name": "stdout",
     "output_type": "stream",
     "text": [
      "Epoch 11 finished: train loss = 0.5131537318229675, val loss = 1.0786352157592773\n",
      "Epoch: 11 - Validation accuracy: 77.51760024487298\n"
     ]
    },
    {
     "name": "stderr",
     "output_type": "stream",
     "text": []
    },
    {
     "name": "stdout",
     "output_type": "stream",
     "text": [
      "Train Epoch: 12 [0/58800 (0%)]\tLoss: 0.632249\n"
     ]
    },
    {
     "name": "stderr",
     "output_type": "stream",
     "text": []
    },
    {
     "name": "stdout",
     "output_type": "stream",
     "text": [
      "Train Epoch: 12 [6400/58800 (11%)]\tLoss: 0.555339\n"
     ]
    },
    {
     "name": "stderr",
     "output_type": "stream",
     "text": []
    },
    {
     "name": "stdout",
     "output_type": "stream",
     "text": [
      "Train Epoch: 12 [12800/58800 (22%)]\tLoss: 0.601042\n"
     ]
    },
    {
     "name": "stderr",
     "output_type": "stream",
     "text": []
    },
    {
     "name": "stdout",
     "output_type": "stream",
     "text": [
      "Train Epoch: 12 [19200/58800 (33%)]\tLoss: 0.614380\n"
     ]
    },
    {
     "name": "stderr",
     "output_type": "stream",
     "text": []
    },
    {
     "name": "stdout",
     "output_type": "stream",
     "text": [
      "Train Epoch: 12 [25600/58800 (44%)]\tLoss: 0.694095\n"
     ]
    },
    {
     "name": "stderr",
     "output_type": "stream",
     "text": []
    },
    {
     "name": "stdout",
     "output_type": "stream",
     "text": [
      "Train Epoch: 12 [32000/58800 (54%)]\tLoss: 0.655927\n"
     ]
    },
    {
     "name": "stderr",
     "output_type": "stream",
     "text": []
    },
    {
     "name": "stdout",
     "output_type": "stream",
     "text": [
      "Train Epoch: 12 [38400/58800 (65%)]\tLoss: 0.507372\n"
     ]
    },
    {
     "name": "stderr",
     "output_type": "stream",
     "text": []
    },
    {
     "name": "stdout",
     "output_type": "stream",
     "text": [
      "Train Epoch: 12 [44800/58800 (76%)]\tLoss: 0.607323\n"
     ]
    },
    {
     "name": "stderr",
     "output_type": "stream",
     "text": []
    },
    {
     "name": "stdout",
     "output_type": "stream",
     "text": [
      "Train Epoch: 12 [51200/58800 (87%)]\tLoss: 0.723493\n"
     ]
    },
    {
     "name": "stderr",
     "output_type": "stream",
     "text": []
    },
    {
     "name": "stdout",
     "output_type": "stream",
     "text": [
      "Train Epoch: 12 [57600/58800 (98%)]\tLoss: 0.323825\n"
     ]
    },
    {
     "name": "stderr",
     "output_type": "stream",
     "text": [
      "919it [00:31, 29.49it/s]\n"
     ]
    },
    {
     "name": "stdout",
     "output_type": "stream",
     "text": [
      "Epoch: 12 - train accuracy: 79.84353741496598\n"
     ]
    },
    {
     "name": "stderr",
     "output_type": "stream",
     "text": [
      "103it [00:02, 44.98it/s]\n",
      " 60%|██████    | 12/20 [06:43<04:28, 33.51s/it]"
     ]
    },
    {
     "name": "stdout",
     "output_type": "stream",
     "text": [
      "Epoch 12 finished: train loss = 0.5153750777244568, val loss = 0.806713342666626\n",
      "Epoch: 12 - Validation accuracy: 77.28803183348639\n"
     ]
    },
    {
     "name": "stderr",
     "output_type": "stream",
     "text": []
    },
    {
     "name": "stdout",
     "output_type": "stream",
     "text": [
      "Train Epoch: 13 [0/58800 (0%)]\tLoss: 0.316807\n"
     ]
    },
    {
     "name": "stderr",
     "output_type": "stream",
     "text": []
    },
    {
     "name": "stdout",
     "output_type": "stream",
     "text": [
      "Train Epoch: 13 [6400/58800 (11%)]\tLoss: 0.481338\n"
     ]
    },
    {
     "name": "stderr",
     "output_type": "stream",
     "text": []
    },
    {
     "name": "stdout",
     "output_type": "stream",
     "text": [
      "Train Epoch: 13 [12800/58800 (22%)]\tLoss: 0.584939\n"
     ]
    },
    {
     "name": "stderr",
     "output_type": "stream",
     "text": []
    },
    {
     "name": "stdout",
     "output_type": "stream",
     "text": [
      "Train Epoch: 13 [19200/58800 (33%)]\tLoss: 0.445979\n"
     ]
    },
    {
     "name": "stderr",
     "output_type": "stream",
     "text": []
    },
    {
     "name": "stdout",
     "output_type": "stream",
     "text": [
      "Train Epoch: 13 [25600/58800 (44%)]\tLoss: 0.559914\n"
     ]
    },
    {
     "name": "stderr",
     "output_type": "stream",
     "text": []
    },
    {
     "name": "stdout",
     "output_type": "stream",
     "text": [
      "Train Epoch: 13 [32000/58800 (54%)]\tLoss: 0.463674\n"
     ]
    },
    {
     "name": "stderr",
     "output_type": "stream",
     "text": []
    },
    {
     "name": "stdout",
     "output_type": "stream",
     "text": [
      "Train Epoch: 13 [38400/58800 (65%)]\tLoss: 0.407456\n"
     ]
    },
    {
     "name": "stderr",
     "output_type": "stream",
     "text": []
    },
    {
     "name": "stdout",
     "output_type": "stream",
     "text": [
      "Train Epoch: 13 [44800/58800 (76%)]\tLoss: 0.384803\n"
     ]
    },
    {
     "name": "stderr",
     "output_type": "stream",
     "text": []
    },
    {
     "name": "stdout",
     "output_type": "stream",
     "text": [
      "Train Epoch: 13 [51200/58800 (87%)]\tLoss: 0.498365\n"
     ]
    },
    {
     "name": "stderr",
     "output_type": "stream",
     "text": []
    },
    {
     "name": "stdout",
     "output_type": "stream",
     "text": [
      "Train Epoch: 13 [57600/58800 (98%)]\tLoss: 0.710871\n"
     ]
    },
    {
     "name": "stderr",
     "output_type": "stream",
     "text": [
      "919it [00:31, 28.98it/s]\n"
     ]
    },
    {
     "name": "stdout",
     "output_type": "stream",
     "text": [
      "Epoch: 13 - train accuracy: 80.328231292517\n"
     ]
    },
    {
     "name": "stderr",
     "output_type": "stream",
     "text": [
      "103it [00:02, 43.88it/s]\n",
      " 65%|██████▌   | 13/20 [07:17<03:55, 33.68s/it]"
     ]
    },
    {
     "name": "stdout",
     "output_type": "stream",
     "text": [
      "Epoch 13 finished: train loss = 0.5553963780403137, val loss = 0.47163185477256775\n",
      "Epoch: 13 - Validation accuracy: 77.16559534741353\n"
     ]
    },
    {
     "name": "stderr",
     "output_type": "stream",
     "text": []
    },
    {
     "name": "stdout",
     "output_type": "stream",
     "text": [
      "Train Epoch: 14 [0/58800 (0%)]\tLoss: 0.330570\n"
     ]
    },
    {
     "name": "stderr",
     "output_type": "stream",
     "text": []
    },
    {
     "name": "stdout",
     "output_type": "stream",
     "text": [
      "Train Epoch: 14 [6400/58800 (11%)]\tLoss: 0.404689\n"
     ]
    },
    {
     "name": "stderr",
     "output_type": "stream",
     "text": []
    },
    {
     "name": "stdout",
     "output_type": "stream",
     "text": [
      "Train Epoch: 14 [12800/58800 (22%)]\tLoss: 0.682955\n"
     ]
    },
    {
     "name": "stderr",
     "output_type": "stream",
     "text": []
    },
    {
     "name": "stdout",
     "output_type": "stream",
     "text": [
      "Train Epoch: 14 [19200/58800 (33%)]\tLoss: 0.359078\n"
     ]
    },
    {
     "name": "stderr",
     "output_type": "stream",
     "text": []
    },
    {
     "name": "stdout",
     "output_type": "stream",
     "text": [
      "Train Epoch: 14 [25600/58800 (44%)]\tLoss: 0.499859\n"
     ]
    },
    {
     "name": "stderr",
     "output_type": "stream",
     "text": []
    },
    {
     "name": "stdout",
     "output_type": "stream",
     "text": [
      "Train Epoch: 14 [32000/58800 (54%)]\tLoss: 0.405823\n"
     ]
    },
    {
     "name": "stderr",
     "output_type": "stream",
     "text": []
    },
    {
     "name": "stdout",
     "output_type": "stream",
     "text": [
      "Train Epoch: 14 [38400/58800 (65%)]\tLoss: 0.636672\n"
     ]
    },
    {
     "name": "stderr",
     "output_type": "stream",
     "text": []
    },
    {
     "name": "stdout",
     "output_type": "stream",
     "text": [
      "Train Epoch: 14 [44800/58800 (76%)]\tLoss: 0.619703\n"
     ]
    },
    {
     "name": "stderr",
     "output_type": "stream",
     "text": []
    },
    {
     "name": "stdout",
     "output_type": "stream",
     "text": [
      "Train Epoch: 14 [51200/58800 (87%)]\tLoss: 0.409715\n"
     ]
    },
    {
     "name": "stderr",
     "output_type": "stream",
     "text": [
      "\n",
      "907it [00:31, 29.94it/s]"
     ]
    },
    {
     "name": "stdout",
     "output_type": "stream",
     "text": [
      "Train Epoch: 14 [57600/58800 (98%)]\tLoss: 0.582718\n"
     ]
    },
    {
     "name": "stderr",
     "output_type": "stream",
     "text": [
      "919it [00:31, 29.22it/s]\n"
     ]
    },
    {
     "name": "stdout",
     "output_type": "stream",
     "text": [
      "Epoch: 14 - train accuracy: 81.12925170068027\n"
     ]
    },
    {
     "name": "stderr",
     "output_type": "stream",
     "text": [
      "103it [00:02, 46.01it/s]\n",
      " 70%|███████   | 14/20 [07:51<03:22, 33.68s/it]"
     ]
    },
    {
     "name": "stdout",
     "output_type": "stream",
     "text": [
      "Epoch 14 finished: train loss = 0.7026728987693787, val loss = 0.7906849384307861\n",
      "Epoch: 14 - Validation accuracy: 77.05846342209979\n"
     ]
    },
    {
     "name": "stderr",
     "output_type": "stream",
     "text": []
    },
    {
     "name": "stdout",
     "output_type": "stream",
     "text": [
      "Train Epoch: 15 [0/58800 (0%)]\tLoss: 0.440510\n"
     ]
    },
    {
     "name": "stderr",
     "output_type": "stream",
     "text": []
    },
    {
     "name": "stdout",
     "output_type": "stream",
     "text": [
      "Train Epoch: 15 [6400/58800 (11%)]\tLoss: 0.405327\n"
     ]
    },
    {
     "name": "stderr",
     "output_type": "stream",
     "text": []
    },
    {
     "name": "stdout",
     "output_type": "stream",
     "text": [
      "Train Epoch: 15 [12800/58800 (22%)]\tLoss: 0.438756\n"
     ]
    },
    {
     "name": "stderr",
     "output_type": "stream",
     "text": []
    },
    {
     "name": "stdout",
     "output_type": "stream",
     "text": [
      "Train Epoch: 15 [19200/58800 (33%)]\tLoss: 0.571121\n"
     ]
    },
    {
     "name": "stderr",
     "output_type": "stream",
     "text": []
    },
    {
     "name": "stdout",
     "output_type": "stream",
     "text": [
      "Train Epoch: 15 [25600/58800 (44%)]\tLoss: 0.682773\n"
     ]
    },
    {
     "name": "stderr",
     "output_type": "stream",
     "text": []
    },
    {
     "name": "stdout",
     "output_type": "stream",
     "text": [
      "Train Epoch: 15 [32000/58800 (54%)]\tLoss: 0.618798\n"
     ]
    },
    {
     "name": "stderr",
     "output_type": "stream",
     "text": []
    },
    {
     "name": "stdout",
     "output_type": "stream",
     "text": [
      "Train Epoch: 15 [38400/58800 (65%)]\tLoss: 0.581413\n"
     ]
    },
    {
     "name": "stderr",
     "output_type": "stream",
     "text": []
    },
    {
     "name": "stdout",
     "output_type": "stream",
     "text": [
      "Train Epoch: 15 [44800/58800 (76%)]\tLoss: 0.428851\n"
     ]
    },
    {
     "name": "stderr",
     "output_type": "stream",
     "text": []
    },
    {
     "name": "stdout",
     "output_type": "stream",
     "text": [
      "Train Epoch: 15 [51200/58800 (87%)]\tLoss: 0.516508\n"
     ]
    },
    {
     "name": "stderr",
     "output_type": "stream",
     "text": []
    },
    {
     "name": "stdout",
     "output_type": "stream",
     "text": [
      "Train Epoch: 15 [57600/58800 (98%)]\tLoss: 0.566475\n"
     ]
    },
    {
     "name": "stderr",
     "output_type": "stream",
     "text": [
      "919it [00:31, 28.76it/s]\n"
     ]
    },
    {
     "name": "stdout",
     "output_type": "stream",
     "text": [
      "Epoch: 15 - train accuracy: 81.6343537414966\n"
     ]
    },
    {
     "name": "stderr",
     "output_type": "stream",
     "text": [
      "103it [00:02, 45.48it/s]\n",
      " 75%|███████▌  | 15/20 [08:25<02:49, 33.85s/it]"
     ]
    },
    {
     "name": "stdout",
     "output_type": "stream",
     "text": [
      "Epoch 15 finished: train loss = 0.32373449206352234, val loss = 0.13443072140216827\n",
      "Epoch: 15 - Validation accuracy: 76.72176308539946\n"
     ]
    },
    {
     "name": "stderr",
     "output_type": "stream",
     "text": []
    },
    {
     "name": "stdout",
     "output_type": "stream",
     "text": [
      "Train Epoch: 16 [0/58800 (0%)]\tLoss: 0.361529\n"
     ]
    },
    {
     "name": "stderr",
     "output_type": "stream",
     "text": []
    },
    {
     "name": "stdout",
     "output_type": "stream",
     "text": [
      "Train Epoch: 16 [6400/58800 (11%)]\tLoss: 0.467745\n"
     ]
    },
    {
     "name": "stderr",
     "output_type": "stream",
     "text": []
    },
    {
     "name": "stdout",
     "output_type": "stream",
     "text": [
      "Train Epoch: 16 [12800/58800 (22%)]\tLoss: 0.421934\n"
     ]
    },
    {
     "name": "stderr",
     "output_type": "stream",
     "text": []
    },
    {
     "name": "stdout",
     "output_type": "stream",
     "text": [
      "Train Epoch: 16 [19200/58800 (33%)]\tLoss: 0.455235\n"
     ]
    },
    {
     "name": "stderr",
     "output_type": "stream",
     "text": []
    },
    {
     "name": "stdout",
     "output_type": "stream",
     "text": [
      "Train Epoch: 16 [25600/58800 (44%)]\tLoss: 0.553911\n"
     ]
    },
    {
     "name": "stderr",
     "output_type": "stream",
     "text": []
    },
    {
     "name": "stdout",
     "output_type": "stream",
     "text": [
      "Train Epoch: 16 [32000/58800 (54%)]\tLoss: 0.380705\n"
     ]
    },
    {
     "name": "stderr",
     "output_type": "stream",
     "text": []
    },
    {
     "name": "stdout",
     "output_type": "stream",
     "text": [
      "Train Epoch: 16 [38400/58800 (65%)]\tLoss: 0.373234\n"
     ]
    },
    {
     "name": "stderr",
     "output_type": "stream",
     "text": []
    },
    {
     "name": "stdout",
     "output_type": "stream",
     "text": [
      "Train Epoch: 16 [44800/58800 (76%)]\tLoss: 0.765727\n"
     ]
    },
    {
     "name": "stderr",
     "output_type": "stream",
     "text": []
    },
    {
     "name": "stdout",
     "output_type": "stream",
     "text": [
      "Train Epoch: 16 [51200/58800 (87%)]\tLoss: 0.554412\n"
     ]
    },
    {
     "name": "stderr",
     "output_type": "stream",
     "text": []
    },
    {
     "name": "stdout",
     "output_type": "stream",
     "text": [
      "Train Epoch: 16 [57600/58800 (98%)]\tLoss: 0.279806\n"
     ]
    },
    {
     "name": "stderr",
     "output_type": "stream",
     "text": [
      "919it [00:31, 29.45it/s]\n"
     ]
    },
    {
     "name": "stdout",
     "output_type": "stream",
     "text": [
      "Epoch: 16 - train accuracy: 82.26360544217687\n"
     ]
    },
    {
     "name": "stderr",
     "output_type": "stream",
     "text": [
      "103it [00:02, 44.20it/s]\n",
      " 80%|████████  | 16/20 [08:58<02:15, 33.75s/it]"
     ]
    },
    {
     "name": "stdout",
     "output_type": "stream",
     "text": [
      "Epoch 16 finished: train loss = 0.3586839437484741, val loss = 0.33726611733436584\n",
      "Epoch: 16 - Validation accuracy: 76.5840220385675\n"
     ]
    },
    {
     "name": "stderr",
     "output_type": "stream",
     "text": []
    },
    {
     "name": "stdout",
     "output_type": "stream",
     "text": [
      "Train Epoch: 17 [0/58800 (0%)]\tLoss: 0.398287\n"
     ]
    },
    {
     "name": "stderr",
     "output_type": "stream",
     "text": []
    },
    {
     "name": "stdout",
     "output_type": "stream",
     "text": [
      "Train Epoch: 17 [6400/58800 (11%)]\tLoss: 0.410549\n"
     ]
    },
    {
     "name": "stderr",
     "output_type": "stream",
     "text": []
    },
    {
     "name": "stdout",
     "output_type": "stream",
     "text": [
      "Train Epoch: 17 [12800/58800 (22%)]\tLoss: 0.579515\n"
     ]
    },
    {
     "name": "stderr",
     "output_type": "stream",
     "text": []
    },
    {
     "name": "stdout",
     "output_type": "stream",
     "text": [
      "Train Epoch: 17 [19200/58800 (33%)]\tLoss: 0.472449\n"
     ]
    },
    {
     "name": "stderr",
     "output_type": "stream",
     "text": []
    },
    {
     "name": "stdout",
     "output_type": "stream",
     "text": [
      "Train Epoch: 17 [25600/58800 (44%)]\tLoss: 0.410076\n"
     ]
    },
    {
     "name": "stderr",
     "output_type": "stream",
     "text": []
    },
    {
     "name": "stdout",
     "output_type": "stream",
     "text": [
      "Train Epoch: 17 [32000/58800 (54%)]\tLoss: 0.651789\n"
     ]
    },
    {
     "name": "stderr",
     "output_type": "stream",
     "text": []
    },
    {
     "name": "stdout",
     "output_type": "stream",
     "text": [
      "Train Epoch: 17 [38400/58800 (65%)]\tLoss: 0.422125\n"
     ]
    },
    {
     "name": "stderr",
     "output_type": "stream",
     "text": []
    },
    {
     "name": "stdout",
     "output_type": "stream",
     "text": [
      "Train Epoch: 17 [44800/58800 (76%)]\tLoss: 0.396731\n"
     ]
    },
    {
     "name": "stderr",
     "output_type": "stream",
     "text": []
    },
    {
     "name": "stdout",
     "output_type": "stream",
     "text": [
      "Train Epoch: 17 [51200/58800 (87%)]\tLoss: 0.647240\n"
     ]
    },
    {
     "name": "stderr",
     "output_type": "stream",
     "text": []
    },
    {
     "name": "stdout",
     "output_type": "stream",
     "text": [
      "Train Epoch: 17 [57600/58800 (98%)]\tLoss: 0.546270\n"
     ]
    },
    {
     "name": "stderr",
     "output_type": "stream",
     "text": [
      "919it [00:31, 29.06it/s]\n"
     ]
    },
    {
     "name": "stdout",
     "output_type": "stream",
     "text": [
      "Epoch: 17 - train accuracy: 82.88265306122449\n"
     ]
    },
    {
     "name": "stderr",
     "output_type": "stream",
     "text": [
      "103it [00:02, 44.21it/s]\n",
      " 85%|████████▌ | 17/20 [09:32<01:41, 33.82s/it]"
     ]
    },
    {
     "name": "stdout",
     "output_type": "stream",
     "text": [
      "Epoch 17 finished: train loss = 0.4631102979183197, val loss = 1.3779319524765015\n",
      "Epoch: 17 - Validation accuracy: 76.90541781450872\n"
     ]
    },
    {
     "name": "stderr",
     "output_type": "stream",
     "text": []
    },
    {
     "name": "stdout",
     "output_type": "stream",
     "text": [
      "Train Epoch: 18 [0/58800 (0%)]\tLoss: 0.331467\n"
     ]
    },
    {
     "name": "stderr",
     "output_type": "stream",
     "text": []
    },
    {
     "name": "stdout",
     "output_type": "stream",
     "text": [
      "Train Epoch: 18 [6400/58800 (11%)]\tLoss: 0.412329\n"
     ]
    },
    {
     "name": "stderr",
     "output_type": "stream",
     "text": []
    },
    {
     "name": "stdout",
     "output_type": "stream",
     "text": [
      "Train Epoch: 18 [12800/58800 (22%)]\tLoss: 0.437206\n"
     ]
    },
    {
     "name": "stderr",
     "output_type": "stream",
     "text": []
    },
    {
     "name": "stdout",
     "output_type": "stream",
     "text": [
      "Train Epoch: 18 [19200/58800 (33%)]\tLoss: 0.310775\n"
     ]
    },
    {
     "name": "stderr",
     "output_type": "stream",
     "text": []
    },
    {
     "name": "stdout",
     "output_type": "stream",
     "text": [
      "Train Epoch: 18 [25600/58800 (44%)]\tLoss: 0.512492\n"
     ]
    },
    {
     "name": "stderr",
     "output_type": "stream",
     "text": []
    },
    {
     "name": "stdout",
     "output_type": "stream",
     "text": [
      "Train Epoch: 18 [32000/58800 (54%)]\tLoss: 0.414327\n"
     ]
    },
    {
     "name": "stderr",
     "output_type": "stream",
     "text": []
    },
    {
     "name": "stdout",
     "output_type": "stream",
     "text": [
      "Train Epoch: 18 [38400/58800 (65%)]\tLoss: 0.485678\n"
     ]
    },
    {
     "name": "stderr",
     "output_type": "stream",
     "text": []
    },
    {
     "name": "stdout",
     "output_type": "stream",
     "text": [
      "Train Epoch: 18 [44800/58800 (76%)]\tLoss: 0.489046\n"
     ]
    },
    {
     "name": "stderr",
     "output_type": "stream",
     "text": []
    },
    {
     "name": "stdout",
     "output_type": "stream",
     "text": [
      "Train Epoch: 18 [51200/58800 (87%)]\tLoss: 0.347379\n"
     ]
    },
    {
     "name": "stderr",
     "output_type": "stream",
     "text": []
    },
    {
     "name": "stdout",
     "output_type": "stream",
     "text": [
      "Train Epoch: 18 [57600/58800 (98%)]\tLoss: 0.557024\n"
     ]
    },
    {
     "name": "stderr",
     "output_type": "stream",
     "text": [
      "919it [00:31, 28.89it/s]\n"
     ]
    },
    {
     "name": "stdout",
     "output_type": "stream",
     "text": [
      "Epoch: 18 - train accuracy: 83.3061224489796\n"
     ]
    },
    {
     "name": "stderr",
     "output_type": "stream",
     "text": [
      "103it [00:02, 46.36it/s]\n",
      " 90%|█████████ | 18/20 [10:06<01:07, 33.88s/it]"
     ]
    },
    {
     "name": "stdout",
     "output_type": "stream",
     "text": [
      "Epoch 18 finished: train loss = 0.5443873405456543, val loss = 0.2454501837491989\n",
      "Epoch: 18 - Validation accuracy: 77.07376798285888\n"
     ]
    },
    {
     "name": "stderr",
     "output_type": "stream",
     "text": []
    },
    {
     "name": "stdout",
     "output_type": "stream",
     "text": [
      "Train Epoch: 19 [0/58800 (0%)]\tLoss: 0.241174\n"
     ]
    },
    {
     "name": "stderr",
     "output_type": "stream",
     "text": []
    },
    {
     "name": "stdout",
     "output_type": "stream",
     "text": [
      "Train Epoch: 19 [6400/58800 (11%)]\tLoss: 0.346379\n"
     ]
    },
    {
     "name": "stderr",
     "output_type": "stream",
     "text": [
      "\n",
      "207it [00:06, 30.25it/s]"
     ]
    },
    {
     "name": "stdout",
     "output_type": "stream",
     "text": [
      "Train Epoch: 19 [12800/58800 (22%)]\tLoss: 0.311404\n"
     ]
    },
    {
     "name": "stderr",
     "output_type": "stream",
     "text": [
      "\u001b[A"
     ]
    },
    {
     "name": "stdout",
     "output_type": "stream",
     "text": [
      "Train Epoch: 19 [19200/58800 (33%)]\tLoss: 0.486293\n"
     ]
    },
    {
     "name": "stderr",
     "output_type": "stream",
     "text": []
    },
    {
     "name": "stdout",
     "output_type": "stream",
     "text": [
      "Train Epoch: 19 [25600/58800 (44%)]\tLoss: 0.416169\n"
     ]
    },
    {
     "name": "stderr",
     "output_type": "stream",
     "text": []
    },
    {
     "name": "stdout",
     "output_type": "stream",
     "text": [
      "Train Epoch: 19 [32000/58800 (54%)]\tLoss: 0.346992\n"
     ]
    },
    {
     "name": "stderr",
     "output_type": "stream",
     "text": []
    },
    {
     "name": "stdout",
     "output_type": "stream",
     "text": [
      "Train Epoch: 19 [38400/58800 (65%)]\tLoss: 0.301170\n"
     ]
    },
    {
     "name": "stderr",
     "output_type": "stream",
     "text": []
    },
    {
     "name": "stdout",
     "output_type": "stream",
     "text": [
      "Train Epoch: 19 [44800/58800 (76%)]\tLoss: 0.400747\n"
     ]
    },
    {
     "name": "stderr",
     "output_type": "stream",
     "text": []
    },
    {
     "name": "stdout",
     "output_type": "stream",
     "text": [
      "Train Epoch: 19 [51200/58800 (87%)]\tLoss: 0.364134\n"
     ]
    },
    {
     "name": "stderr",
     "output_type": "stream",
     "text": []
    },
    {
     "name": "stdout",
     "output_type": "stream",
     "text": [
      "Train Epoch: 19 [57600/58800 (98%)]\tLoss: 0.635190\n"
     ]
    },
    {
     "name": "stderr",
     "output_type": "stream",
     "text": [
      "919it [00:30, 29.73it/s]\n"
     ]
    },
    {
     "name": "stdout",
     "output_type": "stream",
     "text": [
      "Epoch: 19 - train accuracy: 84.01190476190476\n"
     ]
    },
    {
     "name": "stderr",
     "output_type": "stream",
     "text": [
      "103it [00:02, 46.09it/s]\n",
      " 95%|█████████▌| 19/20 [10:40<00:33, 33.66s/it]"
     ]
    },
    {
     "name": "stdout",
     "output_type": "stream",
     "text": [
      "Epoch 19 finished: train loss = 0.3256549835205078, val loss = 1.9395042657852173\n",
      "Epoch: 19 - Validation accuracy: 77.30333639424548\n"
     ]
    },
    {
     "name": "stderr",
     "output_type": "stream",
     "text": []
    },
    {
     "name": "stdout",
     "output_type": "stream",
     "text": [
      "Train Epoch: 20 [0/58800 (0%)]\tLoss: 0.600598\n"
     ]
    },
    {
     "name": "stderr",
     "output_type": "stream",
     "text": []
    },
    {
     "name": "stdout",
     "output_type": "stream",
     "text": [
      "Train Epoch: 20 [6400/58800 (11%)]\tLoss: 0.421232\n"
     ]
    },
    {
     "name": "stderr",
     "output_type": "stream",
     "text": []
    },
    {
     "name": "stdout",
     "output_type": "stream",
     "text": [
      "Train Epoch: 20 [12800/58800 (22%)]\tLoss: 0.413585\n"
     ]
    },
    {
     "name": "stderr",
     "output_type": "stream",
     "text": []
    },
    {
     "name": "stdout",
     "output_type": "stream",
     "text": [
      "Train Epoch: 20 [19200/58800 (33%)]\tLoss: 0.490870\n"
     ]
    },
    {
     "name": "stderr",
     "output_type": "stream",
     "text": []
    },
    {
     "name": "stdout",
     "output_type": "stream",
     "text": [
      "Train Epoch: 20 [25600/58800 (44%)]\tLoss: 0.641381\n"
     ]
    },
    {
     "name": "stderr",
     "output_type": "stream",
     "text": []
    },
    {
     "name": "stdout",
     "output_type": "stream",
     "text": [
      "Train Epoch: 20 [32000/58800 (54%)]\tLoss: 0.390282\n"
     ]
    },
    {
     "name": "stderr",
     "output_type": "stream",
     "text": []
    },
    {
     "name": "stdout",
     "output_type": "stream",
     "text": [
      "Train Epoch: 20 [38400/58800 (65%)]\tLoss: 0.335071\n"
     ]
    },
    {
     "name": "stderr",
     "output_type": "stream",
     "text": []
    },
    {
     "name": "stdout",
     "output_type": "stream",
     "text": [
      "Train Epoch: 20 [44800/58800 (76%)]\tLoss: 0.424729\n"
     ]
    },
    {
     "name": "stderr",
     "output_type": "stream",
     "text": []
    },
    {
     "name": "stdout",
     "output_type": "stream",
     "text": [
      "Train Epoch: 20 [51200/58800 (87%)]\tLoss: 0.307257\n"
     ]
    },
    {
     "name": "stderr",
     "output_type": "stream",
     "text": []
    },
    {
     "name": "stdout",
     "output_type": "stream",
     "text": [
      "Train Epoch: 20 [57600/58800 (98%)]\tLoss: 0.590502\n"
     ]
    },
    {
     "name": "stderr",
     "output_type": "stream",
     "text": [
      "919it [00:31, 28.94it/s]\n"
     ]
    },
    {
     "name": "stdout",
     "output_type": "stream",
     "text": [
      "Epoch: 20 - train accuracy: 84.6156462585034\n"
     ]
    },
    {
     "name": "stderr",
     "output_type": "stream",
     "text": [
      "103it [00:02, 43.68it/s]\n",
      "100%|██████████| 20/20 [11:14<00:00, 33.71s/it]"
     ]
    },
    {
     "name": "stdout",
     "output_type": "stream",
     "text": [
      "Epoch 20 finished: train loss = 0.3393833637237549, val loss = 1.1182928085327148\n",
      "Epoch: 20 - Validation accuracy: 76.52280379553108\n"
     ]
    },
    {
     "name": "stderr",
     "output_type": "stream",
     "text": [
      "\n"
     ]
    }
   ],
   "source": [
    "# train(dataset=train_set, valid_rate=0.9, batch_size=batch_size,\n",
    "#       optimizer=optimizer, num_of_epoch=num_of_epoch, valid_random_seed=42)"
   ]
  },
  {
   "attachments": {},
   "cell_type": "markdown",
   "metadata": {},
   "source": [
    "스케쥴러 도입\n"
   ]
  },
  {
   "cell_type": "code",
   "execution_count": 66,
   "metadata": {},
   "outputs": [
    {
     "name": "stderr",
     "output_type": "stream",
     "text": [
      "  0%|          | 0/20 [00:00<?, ?it/s]"
     ]
    },
    {
     "name": "stdout",
     "output_type": "stream",
     "text": [
      "Train Epoch: 1 [0/58800 (0%)]\tLoss: 1.952313, lrs: 0.0001\n"
     ]
    },
    {
     "name": "stderr",
     "output_type": "stream",
     "text": []
    },
    {
     "name": "stdout",
     "output_type": "stream",
     "text": [
      "Train Epoch: 1 [6400/58800 (11%)]\tLoss: 1.797451, lrs: 0.00028\n"
     ]
    },
    {
     "name": "stderr",
     "output_type": "stream",
     "text": []
    },
    {
     "name": "stdout",
     "output_type": "stream",
     "text": [
      "Train Epoch: 1 [12800/58800 (22%)]\tLoss: 1.592779, lrs: 0.00045999999999999996\n"
     ]
    },
    {
     "name": "stderr",
     "output_type": "stream",
     "text": []
    },
    {
     "name": "stdout",
     "output_type": "stream",
     "text": [
      "Train Epoch: 1 [19200/58800 (33%)]\tLoss: 1.315614, lrs: 0.00064\n"
     ]
    },
    {
     "name": "stderr",
     "output_type": "stream",
     "text": []
    },
    {
     "name": "stdout",
     "output_type": "stream",
     "text": [
      "Train Epoch: 1 [25600/58800 (44%)]\tLoss: 1.317180, lrs: 0.00082\n"
     ]
    },
    {
     "name": "stderr",
     "output_type": "stream",
     "text": []
    },
    {
     "name": "stdout",
     "output_type": "stream",
     "text": [
      "Train Epoch: 1 [32000/58800 (54%)]\tLoss: 1.251988, lrs: 0.001\n"
     ]
    },
    {
     "name": "stderr",
     "output_type": "stream",
     "text": []
    },
    {
     "name": "stdout",
     "output_type": "stream",
     "text": [
      "Train Epoch: 1 [38400/58800 (65%)]\tLoss: 1.227119, lrs: 0.0009981884322978576\n"
     ]
    },
    {
     "name": "stderr",
     "output_type": "stream",
     "text": []
    },
    {
     "name": "stdout",
     "output_type": "stream",
     "text": [
      "Train Epoch: 1 [44800/58800 (76%)]\tLoss: 1.351550, lrs: 0.0009927683148693834\n"
     ]
    },
    {
     "name": "stderr",
     "output_type": "stream",
     "text": []
    },
    {
     "name": "stdout",
     "output_type": "stream",
     "text": [
      "Train Epoch: 1 [51200/58800 (87%)]\tLoss: 0.950255, lrs: 0.000983783287313134\n"
     ]
    },
    {
     "name": "stderr",
     "output_type": "stream",
     "text": []
    },
    {
     "name": "stdout",
     "output_type": "stream",
     "text": [
      "Train Epoch: 1 [57600/58800 (98%)]\tLoss: 1.028940, lrs: 0.0009713056917878818\n"
     ]
    },
    {
     "name": "stderr",
     "output_type": "stream",
     "text": [
      "919it [00:31, 29.16it/s]\n"
     ]
    },
    {
     "name": "stdout",
     "output_type": "stream",
     "text": [
      "Epoch: 1 - train accuracy: 52.261904761904766\n"
     ]
    },
    {
     "name": "stderr",
     "output_type": "stream",
     "text": [
      "103it [00:02, 44.71it/s]\n",
      "  5%|▌         | 1/20 [00:33<10:42, 33.83s/it]"
     ]
    },
    {
     "name": "stdout",
     "output_type": "stream",
     "text": [
      "Epoch 1 finished: train loss = 0.8110300898551941, val loss = 1.208658218383789\n",
      "Epoch: 1 - Validation accuracy: 66.94214876033058\n"
     ]
    },
    {
     "name": "stderr",
     "output_type": "stream",
     "text": []
    },
    {
     "name": "stdout",
     "output_type": "stream",
     "text": [
      "Train Epoch: 2 [0/58800 (0%)]\tLoss: 1.022386, lrs: 0.0009685479426029321\n"
     ]
    },
    {
     "name": "stderr",
     "output_type": "stream",
     "text": []
    },
    {
     "name": "stdout",
     "output_type": "stream",
     "text": [
      "Train Epoch: 2 [6400/58800 (11%)]\tLoss: 0.997195, lrs: 0.0009520473683330851\n"
     ]
    },
    {
     "name": "stderr",
     "output_type": "stream",
     "text": []
    },
    {
     "name": "stdout",
     "output_type": "stream",
     "text": [
      "Train Epoch: 2 [12800/58800 (22%)]\tLoss: 0.754411, lrs: 0.0009323097450534443\n"
     ]
    },
    {
     "name": "stderr",
     "output_type": "stream",
     "text": []
    },
    {
     "name": "stdout",
     "output_type": "stream",
     "text": [
      "Train Epoch: 2 [19200/58800 (33%)]\tLoss: 0.902957, lrs: 0.0009094939885011229\n"
     ]
    },
    {
     "name": "stderr",
     "output_type": "stream",
     "text": []
    },
    {
     "name": "stdout",
     "output_type": "stream",
     "text": [
      "Train Epoch: 2 [25600/58800 (44%)]\tLoss: 0.827433, lrs: 0.0008837837977324327\n"
     ]
    },
    {
     "name": "stderr",
     "output_type": "stream",
     "text": []
    },
    {
     "name": "stdout",
     "output_type": "stream",
     "text": [
      "Train Epoch: 2 [32000/58800 (54%)]\tLoss: 0.777786, lrs: 0.0008553861760860957\n"
     ]
    },
    {
     "name": "stderr",
     "output_type": "stream",
     "text": []
    },
    {
     "name": "stdout",
     "output_type": "stream",
     "text": [
      "Train Epoch: 2 [38400/58800 (65%)]\tLoss: 0.870992, lrs: 0.0008245297645140772\n"
     ]
    },
    {
     "name": "stderr",
     "output_type": "stream",
     "text": []
    },
    {
     "name": "stdout",
     "output_type": "stream",
     "text": [
      "Train Epoch: 2 [44800/58800 (76%)]\tLoss: 0.785687, lrs: 0.0007914630006990788\n"
     ]
    },
    {
     "name": "stderr",
     "output_type": "stream",
     "text": [
      "\n"
     ]
    },
    {
     "name": "stdout",
     "output_type": "stream",
     "text": [
      "Train Epoch: 2 [51200/58800 (87%)]\tLoss: 0.635189, lrs: 0.0007564521187803966\n"
     ]
    },
    {
     "name": "stderr",
     "output_type": "stream",
     "text": [
      "807it [00:27, 30.00it/s]\u001b[A"
     ]
    },
    {
     "name": "stdout",
     "output_type": "stream",
     "text": [
      "Train Epoch: 2 [57600/58800 (98%)]\tLoss: 0.872398, lrs: 0.0007197790057931746\n"
     ]
    },
    {
     "name": "stderr",
     "output_type": "stream",
     "text": [
      "919it [00:30, 29.73it/s]\n"
     ]
    },
    {
     "name": "stdout",
     "output_type": "stream",
     "text": [
      "Epoch: 2 - train accuracy: 71.03401360544218\n"
     ]
    },
    {
     "name": "stderr",
     "output_type": "stream",
     "text": [
      "103it [00:02, 46.33it/s]\n",
      " 10%|█         | 2/20 [01:06<10:01, 33.42s/it]"
     ]
    },
    {
     "name": "stdout",
     "output_type": "stream",
     "text": [
      "Epoch 2 finished: train loss = 0.8630707263946533, val loss = 1.2491410970687866\n",
      "Epoch: 2 - Validation accuracy: 72.45179063360881\n"
     ]
    },
    {
     "name": "stderr",
     "output_type": "stream",
     "text": []
    },
    {
     "name": "stdout",
     "output_type": "stream",
     "text": [
      "Train Epoch: 3 [0/58800 (0%)]\tLoss: 0.791563, lrs: 0.0007126473681115207\n"
     ]
    },
    {
     "name": "stderr",
     "output_type": "stream",
     "text": []
    },
    {
     "name": "stdout",
     "output_type": "stream",
     "text": [
      "Train Epoch: 3 [6400/58800 (11%)]\tLoss: 0.756227, lrs: 0.000674381901193091\n"
     ]
    },
    {
     "name": "stderr",
     "output_type": "stream",
     "text": []
    },
    {
     "name": "stdout",
     "output_type": "stream",
     "text": [
      "Train Epoch: 3 [12800/58800 (22%)]\tLoss: 0.640993, lrs: 0.0006351149843416281\n"
     ]
    },
    {
     "name": "stderr",
     "output_type": "stream",
     "text": []
    },
    {
     "name": "stdout",
     "output_type": "stream",
     "text": [
      "Train Epoch: 3 [19200/58800 (33%)]\tLoss: 0.760245, lrs: 0.0005951627716830467\n"
     ]
    },
    {
     "name": "stderr",
     "output_type": "stream",
     "text": []
    },
    {
     "name": "stdout",
     "output_type": "stream",
     "text": [
      "Train Epoch: 3 [25600/58800 (44%)]\tLoss: 0.796489, lrs: 0.0005548469349421532\n"
     ]
    },
    {
     "name": "stderr",
     "output_type": "stream",
     "text": []
    },
    {
     "name": "stdout",
     "output_type": "stream",
     "text": [
      "Train Epoch: 3 [32000/58800 (54%)]\tLoss: 0.796982, lrs: 0.0005144920735310571\n"
     ]
    },
    {
     "name": "stderr",
     "output_type": "stream",
     "text": []
    },
    {
     "name": "stdout",
     "output_type": "stream",
     "text": [
      "Train Epoch: 3 [38400/58800 (65%)]\tLoss: 1.006328, lrs: 0.00047442310106556615\n"
     ]
    },
    {
     "name": "stderr",
     "output_type": "stream",
     "text": []
    },
    {
     "name": "stdout",
     "output_type": "stream",
     "text": [
      "Train Epoch: 3 [44800/58800 (76%)]\tLoss: 0.866719, lrs: 0.00043496262935179843\n"
     ]
    },
    {
     "name": "stderr",
     "output_type": "stream",
     "text": []
    },
    {
     "name": "stdout",
     "output_type": "stream",
     "text": [
      "Train Epoch: 3 [51200/58800 (87%)]\tLoss: 0.676842, lrs: 0.0003964283709056115\n"
     ]
    },
    {
     "name": "stderr",
     "output_type": "stream",
     "text": []
    },
    {
     "name": "stdout",
     "output_type": "stream",
     "text": [
      "Train Epoch: 3 [57600/58800 (98%)]\tLoss: 0.706348, lrs: 0.00035913058091823684\n"
     ]
    },
    {
     "name": "stderr",
     "output_type": "stream",
     "text": [
      "919it [00:31, 29.13it/s]\n"
     ]
    },
    {
     "name": "stdout",
     "output_type": "stream",
     "text": [
      "Epoch: 3 - train accuracy: 73.79081632653062\n"
     ]
    },
    {
     "name": "stderr",
     "output_type": "stream",
     "text": [
      "103it [00:02, 43.81it/s]\n",
      " 15%|█▌        | 3/20 [01:40<09:31, 33.64s/it]"
     ]
    },
    {
     "name": "stdout",
     "output_type": "stream",
     "text": [
      "Epoch 3 finished: train loss = 0.6684620976448059, val loss = 0.7760003209114075\n",
      "Epoch: 3 - Validation accuracy: 74.73217018671563\n"
     ]
    },
    {
     "name": "stderr",
     "output_type": "stream",
     "text": []
    },
    {
     "name": "stdout",
     "output_type": "stream",
     "text": [
      "Train Epoch: 4 [0/58800 (0%)]\tLoss: 0.724461, lrs: 0.0003522087587217117\n"
     ]
    },
    {
     "name": "stderr",
     "output_type": "stream",
     "text": []
    },
    {
     "name": "stdout",
     "output_type": "stream",
     "text": [
      "Train Epoch: 4 [6400/58800 (11%)]\tLoss: 0.550923, lrs: 0.00031677269024325556\n"
     ]
    },
    {
     "name": "stderr",
     "output_type": "stream",
     "text": []
    },
    {
     "name": "stdout",
     "output_type": "stream",
     "text": [
      "Train Epoch: 4 [12800/58800 (22%)]\tLoss: 0.903186, lrs: 0.0002832144309275233\n"
     ]
    },
    {
     "name": "stderr",
     "output_type": "stream",
     "text": []
    },
    {
     "name": "stdout",
     "output_type": "stream",
     "text": [
      "Train Epoch: 4 [19200/58800 (33%)]\tLoss: 0.638198, lrs: 0.00025180417214658844\n"
     ]
    },
    {
     "name": "stderr",
     "output_type": "stream",
     "text": []
    },
    {
     "name": "stdout",
     "output_type": "stream",
     "text": [
      "Train Epoch: 4 [25600/58800 (44%)]\tLoss: 0.586589, lrs: 0.0002227948108352219\n"
     ]
    },
    {
     "name": "stderr",
     "output_type": "stream",
     "text": []
    },
    {
     "name": "stdout",
     "output_type": "stream",
     "text": [
      "Train Epoch: 4 [32000/58800 (54%)]\tLoss: 0.737449, lrs: 0.0001964199133134743\n"
     ]
    },
    {
     "name": "stderr",
     "output_type": "stream",
     "text": []
    },
    {
     "name": "stdout",
     "output_type": "stream",
     "text": [
      "Train Epoch: 4 [38400/58800 (65%)]\tLoss: 0.895944, lrs: 0.0001728918347480026\n"
     ]
    },
    {
     "name": "stderr",
     "output_type": "stream",
     "text": []
    },
    {
     "name": "stdout",
     "output_type": "stream",
     "text": [
      "Train Epoch: 4 [44800/58800 (76%)]\tLoss: 0.705271, lrs: 0.00015240000939312952\n"
     ]
    },
    {
     "name": "stderr",
     "output_type": "stream",
     "text": []
    },
    {
     "name": "stdout",
     "output_type": "stream",
     "text": [
      "Train Epoch: 4 [51200/58800 (87%)]\tLoss: 0.611798, lrs: 0.0001351094253776145\n"
     ]
    },
    {
     "name": "stderr",
     "output_type": "stream",
     "text": []
    },
    {
     "name": "stdout",
     "output_type": "stream",
     "text": [
      "Train Epoch: 4 [57600/58800 (98%)]\tLoss: 0.581469, lrs: 0.00012115929631725158\n"
     ]
    },
    {
     "name": "stderr",
     "output_type": "stream",
     "text": [
      "919it [00:31, 29.03it/s]\n"
     ]
    },
    {
     "name": "stdout",
     "output_type": "stream",
     "text": [
      "Epoch: 4 - train accuracy: 75.4234693877551\n"
     ]
    },
    {
     "name": "stderr",
     "output_type": "stream",
     "text": [
      "103it [00:02, 46.31it/s]\n",
      " 20%|██        | 4/20 [02:14<08:59, 33.74s/it]"
     ]
    },
    {
     "name": "stdout",
     "output_type": "stream",
     "text": [
      "Epoch 4 finished: train loss = 0.6716070175170898, val loss = 0.6899444460868835\n",
      "Epoch: 4 - Validation accuracy: 75.6198347107438\n"
     ]
    },
    {
     "name": "stderr",
     "output_type": "stream",
     "text": []
    },
    {
     "name": "stdout",
     "output_type": "stream",
     "text": [
      "Train Epoch: 5 [0/58800 (0%)]\tLoss: 0.699337, lrs: 0.00011889613927826262\n"
     ]
    },
    {
     "name": "stderr",
     "output_type": "stream",
     "text": []
    },
    {
     "name": "stdout",
     "output_type": "stream",
     "text": [
      "Train Epoch: 5 [6400/58800 (11%)]\tLoss: 0.808386, lrs: 0.00010906522642708891\n"
     ]
    },
    {
     "name": "stderr",
     "output_type": "stream",
     "text": []
    },
    {
     "name": "stdout",
     "output_type": "stream",
     "text": [
      "Train Epoch: 5 [12800/58800 (22%)]\tLoss: 0.680141, lrs: 0.00010278446110727598\n"
     ]
    },
    {
     "name": "stderr",
     "output_type": "stream",
     "text": []
    },
    {
     "name": "stdout",
     "output_type": "stream",
     "text": [
      "Train Epoch: 5 [19200/58800 (33%)]\tLoss: 0.663188, lrs: 0.00010010441234814877\n"
     ]
    },
    {
     "name": "stderr",
     "output_type": "stream",
     "text": []
    },
    {
     "name": "stdout",
     "output_type": "stream",
     "text": [
      "Train Epoch: 5 [25600/58800 (44%)]\tLoss: 0.976276, lrs: 0.00022160000000000002\n"
     ]
    },
    {
     "name": "stderr",
     "output_type": "stream",
     "text": []
    },
    {
     "name": "stdout",
     "output_type": "stream",
     "text": [
      "Train Epoch: 5 [32000/58800 (54%)]\tLoss: 0.876015, lrs: 0.0003816\n"
     ]
    },
    {
     "name": "stderr",
     "output_type": "stream",
     "text": []
    },
    {
     "name": "stdout",
     "output_type": "stream",
     "text": [
      "Train Epoch: 5 [38400/58800 (65%)]\tLoss: 0.657420, lrs: 0.0005416\n"
     ]
    },
    {
     "name": "stderr",
     "output_type": "stream",
     "text": []
    },
    {
     "name": "stdout",
     "output_type": "stream",
     "text": [
      "Train Epoch: 5 [44800/58800 (76%)]\tLoss: 0.814063, lrs: 0.0007016\n"
     ]
    },
    {
     "name": "stderr",
     "output_type": "stream",
     "text": []
    },
    {
     "name": "stdout",
     "output_type": "stream",
     "text": [
      "Train Epoch: 5 [51200/58800 (87%)]\tLoss: 0.853803, lrs: 0.0008616000000000001\n"
     ]
    },
    {
     "name": "stderr",
     "output_type": "stream",
     "text": []
    },
    {
     "name": "stdout",
     "output_type": "stream",
     "text": [
      "Train Epoch: 5 [57600/58800 (98%)]\tLoss: 0.582748, lrs: 0.0008990696370431355\n"
     ]
    },
    {
     "name": "stderr",
     "output_type": "stream",
     "text": [
      "919it [00:31, 29.62it/s]\n"
     ]
    },
    {
     "name": "stdout",
     "output_type": "stream",
     "text": [
      "Epoch: 5 - train accuracy: 75.3639455782313\n"
     ]
    },
    {
     "name": "stderr",
     "output_type": "stream",
     "text": [
      "103it [00:02, 46.54it/s]\n",
      " 25%|██▌       | 5/20 [02:47<08:23, 33.56s/it]"
     ]
    },
    {
     "name": "stdout",
     "output_type": "stream",
     "text": [
      "Epoch 5 finished: train loss = 0.3871126174926758, val loss = 0.7542133331298828\n",
      "Epoch: 5 - Validation accuracy: 73.9057239057239\n"
     ]
    },
    {
     "name": "stderr",
     "output_type": "stream",
     "text": []
    },
    {
     "name": "stdout",
     "output_type": "stream",
     "text": [
      "Train Epoch: 6 [0/58800 (0%)]\tLoss: 0.681738, lrs: 0.0008985466249828973\n"
     ]
    },
    {
     "name": "stderr",
     "output_type": "stream",
     "text": []
    },
    {
     "name": "stdout",
     "output_type": "stream",
     "text": [
      "Train Epoch: 6 [6400/58800 (11%)]\tLoss: 0.578484, lrs: 0.0008938884152862507\n"
     ]
    },
    {
     "name": "stderr",
     "output_type": "stream",
     "text": []
    },
    {
     "name": "stdout",
     "output_type": "stream",
     "text": [
      "Train Epoch: 6 [12800/58800 (22%)]\tLoss: 0.633652, lrs: 0.000886058847672357\n"
     ]
    },
    {
     "name": "stderr",
     "output_type": "stream",
     "text": []
    },
    {
     "name": "stdout",
     "output_type": "stream",
     "text": [
      "Train Epoch: 6 [19200/58800 (33%)]\tLoss: 0.849564, lrs: 0.0008751209612159317\n"
     ]
    },
    {
     "name": "stderr",
     "output_type": "stream",
     "text": []
    },
    {
     "name": "stdout",
     "output_type": "stream",
     "text": [
      "Train Epoch: 6 [25600/58800 (44%)]\tLoss: 0.715842, lrs: 0.000861162821347349\n"
     ]
    },
    {
     "name": "stderr",
     "output_type": "stream",
     "text": []
    },
    {
     "name": "stdout",
     "output_type": "stream",
     "text": [
      "Train Epoch: 6 [32000/58800 (54%)]\tLoss: 0.747684, lrs: 0.0008442968108015776\n"
     ]
    },
    {
     "name": "stderr",
     "output_type": "stream",
     "text": []
    },
    {
     "name": "stdout",
     "output_type": "stream",
     "text": [
      "Train Epoch: 6 [38400/58800 (65%)]\tLoss: 0.950817, lrs: 0.0008246587247784782\n"
     ]
    },
    {
     "name": "stderr",
     "output_type": "stream",
     "text": []
    },
    {
     "name": "stdout",
     "output_type": "stream",
     "text": [
      "Train Epoch: 6 [44800/58800 (76%)]\tLoss: 0.843614, lrs: 0.0008024066775997011\n"
     ]
    },
    {
     "name": "stderr",
     "output_type": "stream",
     "text": []
    },
    {
     "name": "stdout",
     "output_type": "stream",
     "text": [
      "Train Epoch: 6 [51200/58800 (87%)]\tLoss: 0.688287, lrs: 0.0007777198296651384\n"
     ]
    },
    {
     "name": "stderr",
     "output_type": "stream",
     "text": []
    },
    {
     "name": "stdout",
     "output_type": "stream",
     "text": [
      "Train Epoch: 6 [57600/58800 (98%)]\tLoss: 0.844262, lrs: 0.0007507969449587273\n"
     ]
    },
    {
     "name": "stderr",
     "output_type": "stream",
     "text": [
      "919it [00:31, 29.42it/s]\n"
     ]
    },
    {
     "name": "stdout",
     "output_type": "stream",
     "text": [
      "Epoch: 6 - train accuracy: 74.86734693877551\n"
     ]
    },
    {
     "name": "stderr",
     "output_type": "stream",
     "text": [
      "103it [00:02, 44.00it/s]\n",
      " 30%|███       | 6/20 [03:21<07:49, 33.57s/it]"
     ]
    },
    {
     "name": "stdout",
     "output_type": "stream",
     "text": [
      "Epoch 6 finished: train loss = 0.5404861569404602, val loss = 1.1249524354934692\n",
      "Epoch: 6 - Validation accuracy: 75.91062136516682\n"
     ]
    },
    {
     "name": "stderr",
     "output_type": "stream",
     "text": []
    },
    {
     "name": "stdout",
     "output_type": "stream",
     "text": [
      "Train Epoch: 7 [0/58800 (0%)]\tLoss: 0.698769, lrs: 0.0007454464192537046\n"
     ]
    },
    {
     "name": "stderr",
     "output_type": "stream",
     "text": []
    },
    {
     "name": "stdout",
     "output_type": "stream",
     "text": [
      "Train Epoch: 7 [6400/58800 (11%)]\tLoss: 0.634125, lrs: 0.0007161464816601902\n"
     ]
    },
    {
     "name": "stderr",
     "output_type": "stream",
     "text": []
    },
    {
     "name": "stdout",
     "output_type": "stream",
     "text": [
      "Train Epoch: 7 [12800/58800 (22%)]\tLoss: 0.625259, lrs: 0.0006851062596884212\n"
     ]
    },
    {
     "name": "stderr",
     "output_type": "stream",
     "text": []
    },
    {
     "name": "stdout",
     "output_type": "stream",
     "text": [
      "Train Epoch: 7 [19200/58800 (33%)]\tLoss: 0.706967, lrs: 0.000652575670954359\n"
     ]
    },
    {
     "name": "stderr",
     "output_type": "stream",
     "text": []
    },
    {
     "name": "stdout",
     "output_type": "stream",
     "text": [
      "Train Epoch: 7 [25600/58800 (44%)]\tLoss: 0.653783, lrs: 0.0006188166326308141\n"
     ]
    },
    {
     "name": "stderr",
     "output_type": "stream",
     "text": []
    },
    {
     "name": "stdout",
     "output_type": "stream",
     "text": [
      "Train Epoch: 7 [32000/58800 (54%)]\tLoss: 0.511922, lrs: 0.0005841009526443744\n"
     ]
    },
    {
     "name": "stderr",
     "output_type": "stream",
     "text": []
    },
    {
     "name": "stdout",
     "output_type": "stream",
     "text": [
      "Train Epoch: 7 [38400/58800 (65%)]\tLoss: 0.874939, lrs: 0.0005487081412378016\n"
     ]
    },
    {
     "name": "stderr",
     "output_type": "stream",
     "text": []
    },
    {
     "name": "stdout",
     "output_type": "stream",
     "text": [
      "Train Epoch: 7 [44800/58800 (76%)]\tLoss: 0.478109, lrs: 0.0005129231605179053\n"
     ]
    },
    {
     "name": "stderr",
     "output_type": "stream",
     "text": []
    },
    {
     "name": "stdout",
     "output_type": "stream",
     "text": [
      "Train Epoch: 7 [51200/58800 (87%)]\tLoss: 0.606714, lrs: 0.00047703413010821407\n"
     ]
    },
    {
     "name": "stderr",
     "output_type": "stream",
     "text": []
    },
    {
     "name": "stdout",
     "output_type": "stream",
     "text": [
      "Train Epoch: 7 [57600/58800 (98%)]\tLoss: 0.671436, lrs: 0.00044133000737917873\n"
     ]
    },
    {
     "name": "stderr",
     "output_type": "stream",
     "text": [
      "919it [00:32, 28.22it/s]\n"
     ]
    },
    {
     "name": "stdout",
     "output_type": "stream",
     "text": [
      "Epoch: 7 - train accuracy: 76.25\n"
     ]
    },
    {
     "name": "stderr",
     "output_type": "stream",
     "text": [
      "103it [00:02, 42.83it/s]\n",
      " 35%|███▌      | 7/20 [03:56<07:22, 34.03s/it]"
     ]
    },
    {
     "name": "stdout",
     "output_type": "stream",
     "text": [
      "Epoch 7 finished: train loss = 0.5279019474983215, val loss = 1.0606456995010376\n",
      "Epoch: 7 - Validation accuracy: 76.43097643097643\n"
     ]
    },
    {
     "name": "stderr",
     "output_type": "stream",
     "text": []
    },
    {
     "name": "stdout",
     "output_type": "stream",
     "text": [
      "Train Epoch: 8 [0/58800 (0%)]\tLoss: 0.677045, lrs: 0.00043459090128338484\n"
     ]
    },
    {
     "name": "stderr",
     "output_type": "stream",
     "text": []
    },
    {
     "name": "stdout",
     "output_type": "stream",
     "text": [
      "Train Epoch: 8 [6400/58800 (11%)]\tLoss: 0.612390, lrs: 0.00039948112919672226\n"
     ]
    },
    {
     "name": "stderr",
     "output_type": "stream",
     "text": []
    },
    {
     "name": "stdout",
     "output_type": "stream",
     "text": [
      "Train Epoch: 8 [12800/58800 (22%)]\tLoss: 0.591864, lrs: 0.0003651806759536286\n"
     ]
    },
    {
     "name": "stderr",
     "output_type": "stream",
     "text": []
    },
    {
     "name": "stdout",
     "output_type": "stream",
     "text": [
      "Train Epoch: 8 [19200/58800 (33%)]\tLoss: 0.480246, lrs: 0.0003319657086352775\n"
     ]
    },
    {
     "name": "stderr",
     "output_type": "stream",
     "text": []
    },
    {
     "name": "stdout",
     "output_type": "stream",
     "text": [
      "Train Epoch: 8 [25600/58800 (44%)]\tLoss: 0.732822, lrs: 0.00030010365462843205\n"
     ]
    },
    {
     "name": "stderr",
     "output_type": "stream",
     "text": []
    },
    {
     "name": "stdout",
     "output_type": "stream",
     "text": [
      "Train Epoch: 8 [32000/58800 (54%)]\tLoss: 0.601424, lrs: 0.0002698510484573705\n"
     ]
    },
    {
     "name": "stderr",
     "output_type": "stream",
     "text": []
    },
    {
     "name": "stdout",
     "output_type": "stream",
     "text": [
      "Train Epoch: 8 [38400/58800 (65%)]\tLoss: 0.733763, lrs: 0.0002414514663187383\n"
     ]
    },
    {
     "name": "stderr",
     "output_type": "stream",
     "text": []
    },
    {
     "name": "stdout",
     "output_type": "stream",
     "text": [
      "Train Epoch: 8 [44800/58800 (76%)]\tLoss: 0.596688, lrs: 0.00021513356494923174\n"
     ]
    },
    {
     "name": "stderr",
     "output_type": "stream",
     "text": []
    },
    {
     "name": "stdout",
     "output_type": "stream",
     "text": [
      "Train Epoch: 8 [51200/58800 (87%)]\tLoss: 0.834147, lrs: 0.00019110924061600256\n"
     ]
    },
    {
     "name": "stderr",
     "output_type": "stream",
     "text": []
    },
    {
     "name": "stdout",
     "output_type": "stream",
     "text": [
      "Train Epoch: 8 [57600/58800 (98%)]\tLoss: 0.585180, lrs: 0.00016957192305250821\n"
     ]
    },
    {
     "name": "stderr",
     "output_type": "stream",
     "text": [
      "919it [00:31, 29.18it/s]\n"
     ]
    },
    {
     "name": "stdout",
     "output_type": "stream",
     "text": [
      "Epoch: 8 - train accuracy: 77.86904761904762\n"
     ]
    },
    {
     "name": "stderr",
     "output_type": "stream",
     "text": [
      "103it [00:02, 47.21it/s]\n",
      " 40%|████      | 8/20 [04:30<06:46, 33.92s/it]"
     ]
    },
    {
     "name": "stdout",
     "output_type": "stream",
     "text": [
      "Epoch 8 finished: train loss = 0.5406962037086487, val loss = 0.4815647304058075\n",
      "Epoch: 8 - Validation accuracy: 77.10437710437711\n"
     ]
    },
    {
     "name": "stderr",
     "output_type": "stream",
     "text": []
    },
    {
     "name": "stdout",
     "output_type": "stream",
     "text": [
      "Train Epoch: 9 [0/58800 (0%)]\tLoss: 0.759368, lrs: 0.0001657756494649397\n"
     ]
    },
    {
     "name": "stderr",
     "output_type": "stream",
     "text": [
      "\n",
      "107it [00:03, 30.14it/s]"
     ]
    },
    {
     "name": "stdout",
     "output_type": "stream",
     "text": [
      "Train Epoch: 9 [6400/58800 (11%)]\tLoss: 0.478256, lrs: 0.0001474220802104529\n"
     ]
    },
    {
     "name": "stderr",
     "output_type": "stream",
     "text": [
      "\u001b[A"
     ]
    },
    {
     "name": "stdout",
     "output_type": "stream",
     "text": [
      "Train Epoch: 9 [12800/58800 (22%)]\tLoss: 0.624661, lrs: 0.00013190726105365185\n"
     ]
    },
    {
     "name": "stderr",
     "output_type": "stream",
     "text": []
    },
    {
     "name": "stdout",
     "output_type": "stream",
     "text": [
      "Train Epoch: 9 [19200/58800 (33%)]\tLoss: 0.706234, lrs: 0.00011935610819582135\n"
     ]
    },
    {
     "name": "stderr",
     "output_type": "stream",
     "text": []
    },
    {
     "name": "stdout",
     "output_type": "stream",
     "text": [
      "Train Epoch: 9 [25600/58800 (44%)]\tLoss: 0.566913, lrs: 0.00010986967613981414\n"
     ]
    },
    {
     "name": "stderr",
     "output_type": "stream",
     "text": []
    },
    {
     "name": "stdout",
     "output_type": "stream",
     "text": [
      "Train Epoch: 9 [32000/58800 (54%)]\tLoss: 0.608482, lrs: 0.00010352434405861346\n"
     ]
    },
    {
     "name": "stderr",
     "output_type": "stream",
     "text": []
    },
    {
     "name": "stdout",
     "output_type": "stream",
     "text": [
      "Train Epoch: 9 [38400/58800 (65%)]\tLoss: 0.526872, lrs: 0.00010037120083514237\n"
     ]
    },
    {
     "name": "stderr",
     "output_type": "stream",
     "text": []
    },
    {
     "name": "stdout",
     "output_type": "stream",
     "text": [
      "Train Epoch: 9 [44800/58800 (76%)]\tLoss: 0.498781, lrs: 0.00017384\n"
     ]
    },
    {
     "name": "stderr",
     "output_type": "stream",
     "text": []
    },
    {
     "name": "stdout",
     "output_type": "stream",
     "text": [
      "Train Epoch: 9 [51200/58800 (87%)]\tLoss: 0.630969, lrs: 0.00031584\n"
     ]
    },
    {
     "name": "stderr",
     "output_type": "stream",
     "text": []
    },
    {
     "name": "stdout",
     "output_type": "stream",
     "text": [
      "Train Epoch: 9 [57600/58800 (98%)]\tLoss: 0.751725, lrs: 0.00045784\n"
     ]
    },
    {
     "name": "stderr",
     "output_type": "stream",
     "text": [
      "919it [00:30, 29.84it/s]\n"
     ]
    },
    {
     "name": "stdout",
     "output_type": "stream",
     "text": [
      "Epoch: 9 - train accuracy: 78.68877551020408\n"
     ]
    },
    {
     "name": "stderr",
     "output_type": "stream",
     "text": [
      "103it [00:02, 47.18it/s]\n",
      " 45%|████▌     | 9/20 [05:03<06:09, 33.62s/it]"
     ]
    },
    {
     "name": "stdout",
     "output_type": "stream",
     "text": [
      "Epoch 9 finished: train loss = 0.7227631211280823, val loss = 1.2984672784805298\n",
      "Epoch: 9 - Validation accuracy: 76.95133149678604\n"
     ]
    },
    {
     "name": "stderr",
     "output_type": "stream",
     "text": []
    },
    {
     "name": "stdout",
     "output_type": "stream",
     "text": [
      "Train Epoch: 10 [0/58800 (0%)]\tLoss: 0.510576, lrs: 0.00048482\n"
     ]
    },
    {
     "name": "stderr",
     "output_type": "stream",
     "text": []
    },
    {
     "name": "stdout",
     "output_type": "stream",
     "text": [
      "Train Epoch: 10 [6400/58800 (11%)]\tLoss: 0.720859, lrs: 0.0006268200000000002\n"
     ]
    },
    {
     "name": "stderr",
     "output_type": "stream",
     "text": []
    },
    {
     "name": "stdout",
     "output_type": "stream",
     "text": [
      "Train Epoch: 10 [12800/58800 (22%)]\tLoss: 0.829527, lrs: 0.00076882\n"
     ]
    },
    {
     "name": "stderr",
     "output_type": "stream",
     "text": []
    },
    {
     "name": "stdout",
     "output_type": "stream",
     "text": [
      "Train Epoch: 10 [19200/58800 (33%)]\tLoss: 0.539680, lrs: 0.0008092793378416944\n"
     ]
    },
    {
     "name": "stderr",
     "output_type": "stream",
     "text": []
    },
    {
     "name": "stdout",
     "output_type": "stream",
     "text": [
      "Train Epoch: 10 [25600/58800 (44%)]\tLoss: 0.507150, lrs: 0.0008058264901706257\n"
     ]
    },
    {
     "name": "stderr",
     "output_type": "stream",
     "text": []
    },
    {
     "name": "stdout",
     "output_type": "stream",
     "text": [
      "Train Epoch: 10 [32000/58800 (54%)]\tLoss: 0.677745, lrs: 0.0007995489938833388\n"
     ]
    },
    {
     "name": "stderr",
     "output_type": "stream",
     "text": []
    },
    {
     "name": "stdout",
     "output_type": "stream",
     "text": [
      "Train Epoch: 10 [38400/58800 (65%)]\tLoss: 0.630355, lrs: 0.0007904973916888308\n"
     ]
    },
    {
     "name": "stderr",
     "output_type": "stream",
     "text": []
    },
    {
     "name": "stdout",
     "output_type": "stream",
     "text": [
      "Train Epoch: 10 [44800/58800 (76%)]\tLoss: 0.716332, lrs: 0.0007787445617657161\n"
     ]
    },
    {
     "name": "stderr",
     "output_type": "stream",
     "text": []
    },
    {
     "name": "stdout",
     "output_type": "stream",
     "text": [
      "Train Epoch: 10 [51200/58800 (87%)]\tLoss: 0.742251, lrs: 0.0007643851309899835\n"
     ]
    },
    {
     "name": "stderr",
     "output_type": "stream",
     "text": []
    },
    {
     "name": "stdout",
     "output_type": "stream",
     "text": [
      "Train Epoch: 10 [57600/58800 (98%)]\tLoss: 0.525826, lrs: 0.0007475347130550307\n"
     ]
    },
    {
     "name": "stderr",
     "output_type": "stream",
     "text": [
      "919it [00:31, 29.32it/s]\n"
     ]
    },
    {
     "name": "stdout",
     "output_type": "stream",
     "text": [
      "Epoch: 10 - train accuracy: 77.30952380952381\n"
     ]
    },
    {
     "name": "stderr",
     "output_type": "stream",
     "text": [
      "103it [00:02, 44.59it/s]\n",
      " 50%|█████     | 10/20 [05:36<05:36, 33.63s/it]"
     ]
    },
    {
     "name": "stdout",
     "output_type": "stream",
     "text": [
      "Epoch 10 finished: train loss = 0.5514068603515625, val loss = 0.5015773177146912\n",
      "Epoch: 10 - Validation accuracy: 75.88001224364861\n"
     ]
    },
    {
     "name": "stderr",
     "output_type": "stream",
     "text": []
    },
    {
     "name": "stdout",
     "output_type": "stream",
     "text": [
      "Train Epoch: 11 [0/58800 (0%)]\tLoss: 0.467753, lrs: 0.0007440623998666044\n"
     ]
    },
    {
     "name": "stderr",
     "output_type": "stream",
     "text": []
    },
    {
     "name": "stdout",
     "output_type": "stream",
     "text": [
      "Train Epoch: 11 [6400/58800 (11%)]\tLoss: 0.678863, lrs: 0.0007244260764745673\n"
     ]
    },
    {
     "name": "stderr",
     "output_type": "stream",
     "text": []
    },
    {
     "name": "stdout",
     "output_type": "stream",
     "text": [
      "Train Epoch: 11 [12800/58800 (22%)]\tLoss: 0.669525, lrs: 0.0007026204927347244\n"
     ]
    },
    {
     "name": "stderr",
     "output_type": "stream",
     "text": []
    },
    {
     "name": "stdout",
     "output_type": "stream",
     "text": [
      "Train Epoch: 11 [19200/58800 (33%)]\tLoss: 0.620896, lrs: 0.0006788212143858734\n"
     ]
    },
    {
     "name": "stderr",
     "output_type": "stream",
     "text": []
    },
    {
     "name": "stdout",
     "output_type": "stream",
     "text": [
      "Train Epoch: 11 [25600/58800 (44%)]\tLoss: 0.943644, lrs: 0.0006532198592235302\n"
     ]
    },
    {
     "name": "stderr",
     "output_type": "stream",
     "text": []
    },
    {
     "name": "stdout",
     "output_type": "stream",
     "text": [
      "Train Epoch: 11 [32000/58800 (54%)]\tLoss: 0.564275, lrs: 0.000626022554306109\n"
     ]
    },
    {
     "name": "stderr",
     "output_type": "stream",
     "text": []
    },
    {
     "name": "stdout",
     "output_type": "stream",
     "text": [
      "Train Epoch: 11 [38400/58800 (65%)]\tLoss: 0.412591, lrs: 0.0005974482763410484\n"
     ]
    },
    {
     "name": "stderr",
     "output_type": "stream",
     "text": []
    },
    {
     "name": "stdout",
     "output_type": "stream",
     "text": [
      "Train Epoch: 11 [44800/58800 (76%)]\tLoss: 0.601604, lrs: 0.0005677270886131198\n"
     ]
    },
    {
     "name": "stderr",
     "output_type": "stream",
     "text": []
    },
    {
     "name": "stdout",
     "output_type": "stream",
     "text": [
      "Train Epoch: 11 [51200/58800 (87%)]\tLoss: 0.608783, lrs: 0.0005370982886501329\n"
     ]
    },
    {
     "name": "stderr",
     "output_type": "stream",
     "text": []
    },
    {
     "name": "stdout",
     "output_type": "stream",
     "text": [
      "Train Epoch: 11 [57600/58800 (98%)]\tLoss: 0.582017, lrs: 0.0005058084815399475\n"
     ]
    },
    {
     "name": "stderr",
     "output_type": "stream",
     "text": [
      "919it [00:31, 29.07it/s]\n"
     ]
    },
    {
     "name": "stdout",
     "output_type": "stream",
     "text": [
      "Epoch: 11 - train accuracy: 78.01190476190476\n"
     ]
    },
    {
     "name": "stderr",
     "output_type": "stream",
     "text": [
      "103it [00:02, 44.62it/s]\n",
      " 55%|█████▌    | 11/20 [06:10<05:03, 33.72s/it]"
     ]
    },
    {
     "name": "stdout",
     "output_type": "stream",
     "text": [
      "Epoch 11 finished: train loss = 0.5051079988479614, val loss = 1.0626155138015747\n",
      "Epoch: 11 - Validation accuracy: 77.02785430058158\n"
     ]
    },
    {
     "name": "stderr",
     "output_type": "stream",
     "text": []
    },
    {
     "name": "stdout",
     "output_type": "stream",
     "text": [
      "Train Epoch: 12 [0/58800 (0%)]\tLoss: 0.621399, lrs: 0.0004998094145752384\n"
     ]
    },
    {
     "name": "stderr",
     "output_type": "stream",
     "text": []
    },
    {
     "name": "stdout",
     "output_type": "stream",
     "text": [
      "Train Epoch: 12 [6400/58800 (11%)]\tLoss: 0.552614, lrs: 0.00046806158865329476\n"
     ]
    },
    {
     "name": "stderr",
     "output_type": "stream",
     "text": []
    },
    {
     "name": "stdout",
     "output_type": "stream",
     "text": [
      "Train Epoch: 12 [12800/58800 (22%)]\tLoss: 0.700028, lrs: 0.0004362085984996047\n"
     ]
    },
    {
     "name": "stderr",
     "output_type": "stream",
     "text": []
    },
    {
     "name": "stdout",
     "output_type": "stream",
     "text": [
      "Train Epoch: 12 [19200/58800 (33%)]\tLoss: 0.598622, lrs: 0.0004045069056616306\n"
     ]
    },
    {
     "name": "stderr",
     "output_type": "stream",
     "text": []
    },
    {
     "name": "stdout",
     "output_type": "stream",
     "text": [
      "Train Epoch: 12 [25600/58800 (44%)]\tLoss: 0.679824, lrs: 0.0003732117535298104\n"
     ]
    },
    {
     "name": "stderr",
     "output_type": "stream",
     "text": []
    },
    {
     "name": "stdout",
     "output_type": "stream",
     "text": [
      "Train Epoch: 12 [32000/58800 (54%)]\tLoss: 0.644229, lrs: 0.000342575112267858\n"
     ]
    },
    {
     "name": "stderr",
     "output_type": "stream",
     "text": [
      "\n"
     ]
    },
    {
     "name": "stdout",
     "output_type": "stream",
     "text": [
      "Train Epoch: 12 [38400/58800 (65%)]\tLoss: 0.428969, lrs: 0.00031284365009716126\n"
     ]
    },
    {
     "name": "stderr",
     "output_type": "stream",
     "text": [
      "606it [01:09,  3.12it/s]\u001b[A"
     ]
    },
    {
     "name": "stdout",
     "output_type": "stream",
     "text": [
      "Train Epoch: 12 [44800/58800 (76%)]\tLoss: 0.558865, lrs: 0.00028425674726930225\n"
     ]
    },
    {
     "name": "stderr",
     "output_type": "stream",
     "text": []
    },
    {
     "name": "stdout",
     "output_type": "stream",
     "text": [
      "Train Epoch: 12 [51200/58800 (87%)]\tLoss: 0.768342, lrs: 0.0002570445687170238\n"
     ]
    },
    {
     "name": "stderr",
     "output_type": "stream",
     "text": []
    },
    {
     "name": "stdout",
     "output_type": "stream",
     "text": [
      "Train Epoch: 12 [57600/58800 (98%)]\tLoss: 0.412894, lrs: 0.00023142621090152727\n"
     ]
    },
    {
     "name": "stderr",
     "output_type": "stream",
     "text": [
      "919it [01:20, 11.47it/s]\n"
     ]
    },
    {
     "name": "stdout",
     "output_type": "stream",
     "text": [
      "Epoch: 12 - train accuracy: 79.54081632653062\n"
     ]
    },
    {
     "name": "stderr",
     "output_type": "stream",
     "text": [
      "103it [00:02, 46.00it/s]\n",
      " 60%|██████    | 12/20 [07:33<06:28, 48.52s/it]"
     ]
    },
    {
     "name": "stdout",
     "output_type": "stream",
     "text": [
      "Epoch 12 finished: train loss = 0.5557355284690857, val loss = 0.6512482166290283\n",
      "Epoch: 12 - Validation accuracy: 76.92072237526783\n"
     ]
    },
    {
     "name": "stderr",
     "output_type": "stream",
     "text": []
    },
    {
     "name": "stdout",
     "output_type": "stream",
     "text": [
      "Train Epoch: 13 [0/58800 (0%)]\tLoss: 0.271762, lrs: 0.00022675615911023372\n"
     ]
    },
    {
     "name": "stderr",
     "output_type": "stream",
     "text": []
    },
    {
     "name": "stdout",
     "output_type": "stream",
     "text": [
      "Train Epoch: 13 [6400/58800 (11%)]\tLoss: 0.487943, lrs: 0.00020330205069182927\n"
     ]
    },
    {
     "name": "stderr",
     "output_type": "stream",
     "text": []
    },
    {
     "name": "stdout",
     "output_type": "stream",
     "text": [
      "Train Epoch: 13 [12800/58800 (22%)]\tLoss: 0.671688, lrs: 0.0001818744661652568\n"
     ]
    },
    {
     "name": "stderr",
     "output_type": "stream",
     "text": []
    },
    {
     "name": "stdout",
     "output_type": "stream",
     "text": [
      "Train Epoch: 13 [19200/58800 (33%)]\tLoss: 0.407629, lrs: 0.00016264592784190834\n"
     ]
    },
    {
     "name": "stderr",
     "output_type": "stream",
     "text": []
    },
    {
     "name": "stdout",
     "output_type": "stream",
     "text": [
      "Train Epoch: 13 [25600/58800 (44%)]\tLoss: 0.533180, lrs: 0.00014577125260616618\n"
     ]
    },
    {
     "name": "stderr",
     "output_type": "stream",
     "text": []
    },
    {
     "name": "stdout",
     "output_type": "stream",
     "text": [
      "Train Epoch: 13 [32000/58800 (54%)]\tLoss: 0.548180, lrs: 0.00013138630542088012\n"
     ]
    },
    {
     "name": "stderr",
     "output_type": "stream",
     "text": []
    },
    {
     "name": "stdout",
     "output_type": "stream",
     "text": [
      "Train Epoch: 13 [38400/58800 (65%)]\tLoss: 0.352312, lrs: 0.00011960690542257419\n"
     ]
    },
    {
     "name": "stderr",
     "output_type": "stream",
     "text": []
    },
    {
     "name": "stdout",
     "output_type": "stream",
     "text": [
      "Train Epoch: 13 [44800/58800 (76%)]\tLoss: 0.322530, lrs: 0.0001105278934138597\n"
     ]
    },
    {
     "name": "stderr",
     "output_type": "stream",
     "text": []
    },
    {
     "name": "stdout",
     "output_type": "stream",
     "text": [
      "Train Epoch: 13 [51200/58800 (87%)]\tLoss: 0.383110, lrs: 0.00010422236826105817\n"
     ]
    },
    {
     "name": "stderr",
     "output_type": "stream",
     "text": []
    },
    {
     "name": "stdout",
     "output_type": "stream",
     "text": [
      "Train Epoch: 13 [57600/58800 (98%)]\tLoss: 0.653603, lrs: 0.00010074109834511125\n"
     ]
    },
    {
     "name": "stderr",
     "output_type": "stream",
     "text": [
      "919it [00:31, 29.64it/s]\n"
     ]
    },
    {
     "name": "stdout",
     "output_type": "stream",
     "text": [
      "Epoch: 13 - train accuracy: 80.71088435374149\n"
     ]
    },
    {
     "name": "stderr",
     "output_type": "stream",
     "text": [
      "103it [00:02, 43.15it/s]\n",
      " 65%|██████▌   | 13/20 [08:06<05:07, 43.94s/it]"
     ]
    },
    {
     "name": "stdout",
     "output_type": "stream",
     "text": [
      "Epoch 13 finished: train loss = 0.5555355548858643, val loss = 0.9818551540374756\n",
      "Epoch: 13 - Validation accuracy: 77.28803183348639\n"
     ]
    },
    {
     "name": "stderr",
     "output_type": "stream",
     "text": []
    },
    {
     "name": "stdout",
     "output_type": "stream",
     "text": [
      "Train Epoch: 14 [0/58800 (0%)]\tLoss: 0.353467, lrs: 0.00010040163527129965\n"
     ]
    },
    {
     "name": "stderr",
     "output_type": "stream",
     "text": []
    },
    {
     "name": "stdout",
     "output_type": "stream",
     "text": [
      "Train Epoch: 14 [6400/58800 (11%)]\tLoss: 0.402892, lrs: 0.00015912600000000002\n"
     ]
    },
    {
     "name": "stderr",
     "output_type": "stream",
     "text": []
    },
    {
     "name": "stdout",
     "output_type": "stream",
     "text": [
      "Train Epoch: 14 [12800/58800 (22%)]\tLoss: 0.690613, lrs: 0.000284926\n"
     ]
    },
    {
     "name": "stderr",
     "output_type": "stream",
     "text": []
    },
    {
     "name": "stdout",
     "output_type": "stream",
     "text": [
      "Train Epoch: 14 [19200/58800 (33%)]\tLoss: 0.472230, lrs: 0.00041072600000000004\n"
     ]
    },
    {
     "name": "stderr",
     "output_type": "stream",
     "text": []
    },
    {
     "name": "stdout",
     "output_type": "stream",
     "text": [
      "Train Epoch: 14 [25600/58800 (44%)]\tLoss: 0.565204, lrs: 0.0005365260000000001\n"
     ]
    },
    {
     "name": "stderr",
     "output_type": "stream",
     "text": []
    },
    {
     "name": "stdout",
     "output_type": "stream",
     "text": [
      "Train Epoch: 14 [32000/58800 (54%)]\tLoss: 0.456069, lrs: 0.0006623260000000002\n"
     ]
    },
    {
     "name": "stderr",
     "output_type": "stream",
     "text": []
    },
    {
     "name": "stdout",
     "output_type": "stream",
     "text": [
      "Train Epoch: 14 [38400/58800 (65%)]\tLoss: 0.666897, lrs: 0.0007287201755786427\n"
     ]
    },
    {
     "name": "stderr",
     "output_type": "stream",
     "text": []
    },
    {
     "name": "stdout",
     "output_type": "stream",
     "text": [
      "Train Epoch: 14 [44800/58800 (76%)]\tLoss: 0.838602, lrs: 0.00072626624997136\n"
     ]
    },
    {
     "name": "stderr",
     "output_type": "stream",
     "text": []
    },
    {
     "name": "stdout",
     "output_type": "stream",
     "text": [
      "Train Epoch: 14 [51200/58800 (87%)]\tLoss: 0.414591, lrs: 0.0007213021658348942\n"
     ]
    },
    {
     "name": "stderr",
     "output_type": "stream",
     "text": [
      "\n",
      "907it [00:31, 29.07it/s]"
     ]
    },
    {
     "name": "stdout",
     "output_type": "stream",
     "text": [
      "Train Epoch: 14 [57600/58800 (98%)]\tLoss: 0.626427, lrs: 0.0007138678910558779\n"
     ]
    },
    {
     "name": "stderr",
     "output_type": "stream",
     "text": [
      "919it [00:32, 28.63it/s]\n"
     ]
    },
    {
     "name": "stdout",
     "output_type": "stream",
     "text": [
      "Epoch: 14 - train accuracy: 80.0561224489796\n"
     ]
    },
    {
     "name": "stderr",
     "output_type": "stream",
     "text": [
      "103it [00:02, 42.90it/s]\n",
      " 70%|███████   | 14/20 [08:41<04:06, 41.09s/it]"
     ]
    },
    {
     "name": "stdout",
     "output_type": "stream",
     "text": [
      "Epoch 14 finished: train loss = 0.7037256360054016, val loss = 0.6775205731391907\n",
      "Epoch: 14 - Validation accuracy: 76.0942760942761\n"
     ]
    },
    {
     "name": "stderr",
     "output_type": "stream",
     "text": []
    },
    {
     "name": "stdout",
     "output_type": "stream",
     "text": [
      "Train Epoch: 15 [0/58800 (0%)]\tLoss: 0.556091, lrs: 0.0007121807357962212\n"
     ]
    },
    {
     "name": "stderr",
     "output_type": "stream",
     "text": []
    },
    {
     "name": "stdout",
     "output_type": "stream",
     "text": [
      "Train Epoch: 15 [6400/58800 (11%)]\tLoss: 0.492721, lrs: 0.0007018865413395844\n"
     ]
    },
    {
     "name": "stderr",
     "output_type": "stream",
     "text": []
    },
    {
     "name": "stdout",
     "output_type": "stream",
     "text": [
      "Train Epoch: 15 [12800/58800 (22%)]\tLoss: 0.507480, lrs: 0.000689278479432631\n"
     ]
    },
    {
     "name": "stderr",
     "output_type": "stream",
     "text": []
    },
    {
     "name": "stdout",
     "output_type": "stream",
     "text": [
      "Train Epoch: 15 [19200/58800 (33%)]\tLoss: 0.660658, lrs: 0.0006744580627764156\n"
     ]
    },
    {
     "name": "stderr",
     "output_type": "stream",
     "text": []
    },
    {
     "name": "stdout",
     "output_type": "stream",
     "text": [
      "Train Epoch: 15 [25600/58800 (44%)]\tLoss: 0.696894, lrs: 0.0006575446166515901\n"
     ]
    },
    {
     "name": "stderr",
     "output_type": "stream",
     "text": []
    },
    {
     "name": "stdout",
     "output_type": "stream",
     "text": [
      "Train Epoch: 15 [32000/58800 (54%)]\tLoss: 0.724948, lrs: 0.0006386743181814063\n"
     ]
    },
    {
     "name": "stderr",
     "output_type": "stream",
     "text": []
    },
    {
     "name": "stdout",
     "output_type": "stream",
     "text": [
      "Train Epoch: 15 [38400/58800 (65%)]\tLoss: 0.535298, lrs: 0.0006179990999135905\n"
     ]
    },
    {
     "name": "stderr",
     "output_type": "stream",
     "text": []
    },
    {
     "name": "stdout",
     "output_type": "stream",
     "text": [
      "Train Epoch: 15 [44800/58800 (76%)]\tLoss: 0.588042, lrs: 0.0005956854265488032\n"
     ]
    },
    {
     "name": "stderr",
     "output_type": "stream",
     "text": []
    },
    {
     "name": "stdout",
     "output_type": "stream",
     "text": [
      "Train Epoch: 15 [51200/58800 (87%)]\tLoss: 0.496954, lrs: 0.0005719129546647507\n"
     ]
    },
    {
     "name": "stderr",
     "output_type": "stream",
     "text": []
    },
    {
     "name": "stdout",
     "output_type": "stream",
     "text": [
      "Train Epoch: 15 [57600/58800 (98%)]\tLoss: 0.605628, lrs: 0.0005468730862270561\n"
     ]
    },
    {
     "name": "stderr",
     "output_type": "stream",
     "text": [
      "919it [00:31, 29.26it/s]\n"
     ]
    },
    {
     "name": "stdout",
     "output_type": "stream",
     "text": [
      "Epoch: 15 - train accuracy: 79.67687074829932\n"
     ]
    },
    {
     "name": "stderr",
     "output_type": "stream",
     "text": [
      "103it [00:02, 46.23it/s]\n",
      " 75%|███████▌  | 15/20 [09:14<03:14, 38.84s/it]"
     ]
    },
    {
     "name": "stdout",
     "output_type": "stream",
     "text": [
      "Epoch 15 finished: train loss = 0.43499937653541565, val loss = 0.3232107162475586\n",
      "Epoch: 15 - Validation accuracy: 76.40036730945822\n"
     ]
    },
    {
     "name": "stderr",
     "output_type": "stream",
     "text": []
    },
    {
     "name": "stdout",
     "output_type": "stream",
     "text": [
      "Train Epoch: 16 [0/58800 (0%)]\tLoss: 0.467690, lrs: 0.0005419887164419738\n"
     ]
    },
    {
     "name": "stderr",
     "output_type": "stream",
     "text": []
    },
    {
     "name": "stdout",
     "output_type": "stream",
     "text": [
      "Train Epoch: 16 [6400/58800 (11%)]\tLoss: 0.661360, lrs: 0.0005157040852672245\n"
     ]
    },
    {
     "name": "stderr",
     "output_type": "stream",
     "text": []
    },
    {
     "name": "stdout",
     "output_type": "stream",
     "text": [
      "Train Epoch: 16 [12800/58800 (22%)]\tLoss: 0.454950, lrs: 0.000488604618304942\n"
     ]
    },
    {
     "name": "stderr",
     "output_type": "stream",
     "text": []
    },
    {
     "name": "stdout",
     "output_type": "stream",
     "text": [
      "Train Epoch: 16 [19200/58800 (33%)]\tLoss: 0.566178, lrs: 0.000460908504528878\n"
     ]
    },
    {
     "name": "stderr",
     "output_type": "stream",
     "text": []
    },
    {
     "name": "stdout",
     "output_type": "stream",
     "text": [
      "Train Epoch: 16 [25600/58800 (44%)]\tLoss: 0.519028, lrs: 0.0004328387367621063\n"
     ]
    },
    {
     "name": "stderr",
     "output_type": "stream",
     "text": []
    },
    {
     "name": "stdout",
     "output_type": "stream",
     "text": [
      "Train Epoch: 16 [32000/58800 (54%)]\tLoss: 0.453142, lrs: 0.0004046213162699287\n"
     ]
    },
    {
     "name": "stderr",
     "output_type": "stream",
     "text": []
    },
    {
     "name": "stdout",
     "output_type": "stream",
     "text": [
      "Train Epoch: 16 [38400/58800 (65%)]\tLoss: 0.363349, lrs: 0.00037648343313057366\n"
     ]
    },
    {
     "name": "stderr",
     "output_type": "stream",
     "text": []
    },
    {
     "name": "stdout",
     "output_type": "stream",
     "text": [
      "Train Epoch: 16 [44800/58800 (76%)]\tLoss: 0.784662, lrs: 0.0003486516370342719\n"
     ]
    },
    {
     "name": "stderr",
     "output_type": "stream",
     "text": []
    },
    {
     "name": "stdout",
     "output_type": "stream",
     "text": [
      "Train Epoch: 16 [51200/58800 (87%)]\tLoss: 0.516933, lrs: 0.0003213500132383599\n"
     ]
    },
    {
     "name": "stderr",
     "output_type": "stream",
     "text": []
    },
    {
     "name": "stdout",
     "output_type": "stream",
     "text": [
      "Train Epoch: 16 [57600/58800 (98%)]\tLoss: 0.328917, lrs: 0.00029479837836454725\n"
     ]
    },
    {
     "name": "stderr",
     "output_type": "stream",
     "text": [
      "919it [00:30, 29.78it/s]\n"
     ]
    },
    {
     "name": "stdout",
     "output_type": "stream",
     "text": [
      "Epoch: 16 - train accuracy: 80.96768707482993\n"
     ]
    },
    {
     "name": "stderr",
     "output_type": "stream",
     "text": [
      "103it [00:02, 46.92it/s]\n",
      " 80%|████████  | 16/20 [09:47<02:28, 37.10s/it]"
     ]
    },
    {
     "name": "stdout",
     "output_type": "stream",
     "text": [
      "Epoch 16 finished: train loss = 0.44128111004829407, val loss = 0.5286093950271606\n",
      "Epoch: 16 - Validation accuracy: 77.71655953474136\n"
     ]
    },
    {
     "name": "stderr",
     "output_type": "stream",
     "text": []
    },
    {
     "name": "stdout",
     "output_type": "stream",
     "text": [
      "Train Epoch: 17 [0/58800 (0%)]\tLoss: 0.442432, lrs: 0.00028985611579639625\n"
     ]
    },
    {
     "name": "stderr",
     "output_type": "stream",
     "text": []
    },
    {
     "name": "stdout",
     "output_type": "stream",
     "text": [
      "Train Epoch: 17 [6400/58800 (11%)]\tLoss: 0.471773, lrs: 0.00026447491912285503\n"
     ]
    },
    {
     "name": "stderr",
     "output_type": "stream",
     "text": []
    },
    {
     "name": "stdout",
     "output_type": "stream",
     "text": [
      "Train Epoch: 17 [12800/58800 (22%)]\tLoss: 0.552771, lrs: 0.0002403016361872175\n"
     ]
    },
    {
     "name": "stderr",
     "output_type": "stream",
     "text": []
    },
    {
     "name": "stdout",
     "output_type": "stream",
     "text": [
      "Train Epoch: 17 [19200/58800 (33%)]\tLoss: 0.510078, lrs: 0.0002175308960500214\n"
     ]
    },
    {
     "name": "stderr",
     "output_type": "stream",
     "text": []
    },
    {
     "name": "stdout",
     "output_type": "stream",
     "text": [
      "Train Epoch: 17 [25600/58800 (44%)]\tLoss: 0.432255, lrs: 0.0001963460353218729\n"
     ]
    },
    {
     "name": "stderr",
     "output_type": "stream",
     "text": []
    },
    {
     "name": "stdout",
     "output_type": "stream",
     "text": [
      "Train Epoch: 17 [32000/58800 (54%)]\tLoss: 0.539662, lrs: 0.00017691762204485862\n"
     ]
    },
    {
     "name": "stderr",
     "output_type": "stream",
     "text": []
    },
    {
     "name": "stdout",
     "output_type": "stream",
     "text": [
      "Train Epoch: 17 [38400/58800 (65%)]\tLoss: 0.518402, lrs: 0.00015940208237896322\n"
     ]
    },
    {
     "name": "stderr",
     "output_type": "stream",
     "text": []
    },
    {
     "name": "stdout",
     "output_type": "stream",
     "text": [
      "Train Epoch: 17 [44800/58800 (76%)]\tLoss: 0.313493, lrs: 0.00014394044115060585\n"
     ]
    },
    {
     "name": "stderr",
     "output_type": "stream",
     "text": []
    },
    {
     "name": "stdout",
     "output_type": "stream",
     "text": [
      "Train Epoch: 17 [51200/58800 (87%)]\tLoss: 0.598968, lrs: 0.00013065718640365955\n"
     ]
    },
    {
     "name": "stderr",
     "output_type": "stream",
     "text": []
    },
    {
     "name": "stdout",
     "output_type": "stream",
     "text": [
      "Train Epoch: 17 [57600/58800 (98%)]\tLoss: 0.478572, lrs: 0.00011965926709491925\n"
     ]
    },
    {
     "name": "stderr",
     "output_type": "stream",
     "text": [
      "919it [00:31, 29.30it/s]\n"
     ]
    },
    {
     "name": "stdout",
     "output_type": "stream",
     "text": [
      "Epoch: 17 - train accuracy: 82.62755102040816\n"
     ]
    },
    {
     "name": "stderr",
     "output_type": "stream",
     "text": [
      "103it [00:02, 43.47it/s]\n",
      " 85%|████████▌ | 17/20 [10:21<01:48, 36.09s/it]"
     ]
    },
    {
     "name": "stdout",
     "output_type": "stream",
     "text": [
      "Epoch 17 finished: train loss = 0.4646110236644745, val loss = 0.8765433430671692\n",
      "Epoch: 17 - Validation accuracy: 77.39516375880012\n"
     ]
    },
    {
     "name": "stderr",
     "output_type": "stream",
     "text": []
    },
    {
     "name": "stdout",
     "output_type": "stream",
     "text": [
      "Train Epoch: 18 [0/58800 (0%)]\tLoss: 0.306628, lrs: 0.00011783564280488549\n"
     ]
    },
    {
     "name": "stderr",
     "output_type": "stream",
     "text": []
    },
    {
     "name": "stdout",
     "output_type": "stream",
     "text": [
      "Train Epoch: 18 [6400/58800 (11%)]\tLoss: 0.465414, lrs: 0.0001096710891057598\n"
     ]
    },
    {
     "name": "stderr",
     "output_type": "stream",
     "text": []
    },
    {
     "name": "stdout",
     "output_type": "stream",
     "text": [
      "Train Epoch: 18 [12800/58800 (22%)]\tLoss: 0.430784, lrs: 0.00010396083856065746\n"
     ]
    },
    {
     "name": "stderr",
     "output_type": "stream",
     "text": []
    },
    {
     "name": "stdout",
     "output_type": "stream",
     "text": [
      "Train Epoch: 18 [19200/58800 (33%)]\tLoss: 0.327716, lrs: 0.00010075086674939466\n"
     ]
    },
    {
     "name": "stderr",
     "output_type": "stream",
     "text": []
    },
    {
     "name": "stdout",
     "output_type": "stream",
     "text": [
      "Train Epoch: 18 [25600/58800 (44%)]\tLoss: 0.506413, lrs: 0.00012558060000000002\n"
     ]
    },
    {
     "name": "stderr",
     "output_type": "stream",
     "text": []
    },
    {
     "name": "stdout",
     "output_type": "stream",
     "text": [
      "Train Epoch: 18 [32000/58800 (54%)]\tLoss: 0.388702, lrs: 0.0002368006\n"
     ]
    },
    {
     "name": "stderr",
     "output_type": "stream",
     "text": []
    },
    {
     "name": "stdout",
     "output_type": "stream",
     "text": [
      "Train Epoch: 18 [38400/58800 (65%)]\tLoss: 0.375098, lrs: 0.0003480206\n"
     ]
    },
    {
     "name": "stderr",
     "output_type": "stream",
     "text": []
    },
    {
     "name": "stdout",
     "output_type": "stream",
     "text": [
      "Train Epoch: 18 [44800/58800 (76%)]\tLoss: 0.466444, lrs: 0.0004592406\n"
     ]
    },
    {
     "name": "stderr",
     "output_type": "stream",
     "text": []
    },
    {
     "name": "stdout",
     "output_type": "stream",
     "text": [
      "Train Epoch: 18 [51200/58800 (87%)]\tLoss: 0.399460, lrs: 0.0005704606\n"
     ]
    },
    {
     "name": "stderr",
     "output_type": "stream",
     "text": []
    },
    {
     "name": "stdout",
     "output_type": "stream",
     "text": [
      "Train Epoch: 18 [57600/58800 (98%)]\tLoss: 0.561759, lrs: 0.0006560407488467843\n"
     ]
    },
    {
     "name": "stderr",
     "output_type": "stream",
     "text": [
      "919it [00:31, 28.76it/s]\n"
     ]
    },
    {
     "name": "stdout",
     "output_type": "stream",
     "text": [
      "Epoch: 18 - train accuracy: 82.87755102040816\n"
     ]
    },
    {
     "name": "stderr",
     "output_type": "stream",
     "text": [
      "103it [00:02, 43.63it/s]\n",
      " 90%|█████████ | 18/20 [10:55<01:11, 35.56s/it]"
     ]
    },
    {
     "name": "stdout",
     "output_type": "stream",
     "text": [
      "Epoch 18 finished: train loss = 0.5916315913200378, val loss = 0.43020233511924744\n",
      "Epoch: 18 - Validation accuracy: 76.81359044995408\n"
     ]
    },
    {
     "name": "stderr",
     "output_type": "stream",
     "text": []
    },
    {
     "name": "stdout",
     "output_type": "stream",
     "text": [
      "Train Epoch: 19 [0/58800 (0%)]\tLoss: 0.275502, lrs: 0.0006559024378677159\n"
     ]
    },
    {
     "name": "stderr",
     "output_type": "stream",
     "text": []
    },
    {
     "name": "stdout",
     "output_type": "stream",
     "text": [
      "Train Epoch: 19 [6400/58800 (11%)]\tLoss: 0.428252, lrs: 0.0006538444876183583\n"
     ]
    },
    {
     "name": "stderr",
     "output_type": "stream",
     "text": []
    },
    {
     "name": "stdout",
     "output_type": "stream",
     "text": [
      "Train Epoch: 19 [12800/58800 (22%)]\tLoss: 0.366067, lrs: 0.0006495660023192305\n"
     ]
    },
    {
     "name": "stderr",
     "output_type": "stream",
     "text": []
    },
    {
     "name": "stdout",
     "output_type": "stream",
     "text": [
      "Train Epoch: 19 [19200/58800 (33%)]\tLoss: 0.609024, lrs: 0.0006431014298182522\n"
     ]
    },
    {
     "name": "stderr",
     "output_type": "stream",
     "text": []
    },
    {
     "name": "stdout",
     "output_type": "stream",
     "text": [
      "Train Epoch: 19 [25600/58800 (44%)]\tLoss: 0.510363, lrs: 0.0006345028190520942\n"
     ]
    },
    {
     "name": "stderr",
     "output_type": "stream",
     "text": []
    },
    {
     "name": "stdout",
     "output_type": "stream",
     "text": [
      "Train Epoch: 19 [32000/58800 (54%)]\tLoss: 0.548422, lrs: 0.0006238394009787443\n"
     ]
    },
    {
     "name": "stderr",
     "output_type": "stream",
     "text": []
    },
    {
     "name": "stdout",
     "output_type": "stream",
     "text": [
      "Train Epoch: 19 [38400/58800 (65%)]\tLoss: 0.331402, lrs: 0.000611197031170541\n"
     ]
    },
    {
     "name": "stderr",
     "output_type": "stream",
     "text": []
    },
    {
     "name": "stdout",
     "output_type": "stream",
     "text": [
      "Train Epoch: 19 [44800/58800 (76%)]\tLoss: 0.558015, lrs: 0.0005966774985555869\n"
     ]
    },
    {
     "name": "stderr",
     "output_type": "stream",
     "text": []
    },
    {
     "name": "stdout",
     "output_type": "stream",
     "text": [
      "Train Epoch: 19 [51200/58800 (87%)]\tLoss: 0.489394, lrs: 0.0005803977058731506\n"
     ]
    },
    {
     "name": "stderr",
     "output_type": "stream",
     "text": [
      "\n",
      "907it [00:30, 30.02it/s]"
     ]
    },
    {
     "name": "stdout",
     "output_type": "stream",
     "text": [
      "Train Epoch: 19 [57600/58800 (98%)]\tLoss: 0.769912, lrs: 0.000562488728441548\n"
     ]
    },
    {
     "name": "stderr",
     "output_type": "stream",
     "text": [
      "919it [00:31, 29.63it/s]\n"
     ]
    },
    {
     "name": "stdout",
     "output_type": "stream",
     "text": [
      "Epoch: 19 - train accuracy: 81.67006802721089\n"
     ]
    },
    {
     "name": "stderr",
     "output_type": "stream",
     "text": [
      "103it [00:02, 45.31it/s]\n",
      " 95%|█████████▌| 19/20 [11:29<00:34, 34.88s/it]"
     ]
    },
    {
     "name": "stdout",
     "output_type": "stream",
     "text": [
      "Epoch 19 finished: train loss = 0.5015461444854736, val loss = 1.436134934425354\n",
      "Epoch: 19 - Validation accuracy: 77.02785430058158\n"
     ]
    },
    {
     "name": "stderr",
     "output_type": "stream",
     "text": []
    },
    {
     "name": "stdout",
     "output_type": "stream",
     "text": [
      "Train Epoch: 20 [0/58800 (0%)]\tLoss: 0.757834, lrs: 0.0005589135359462403\n"
     ]
    },
    {
     "name": "stderr",
     "output_type": "stream",
     "text": []
    },
    {
     "name": "stdout",
     "output_type": "stream",
     "text": [
      "Train Epoch: 20 [6400/58800 (11%)]\tLoss: 0.314895, lrs: 0.0005392547259428581\n"
     ]
    },
    {
     "name": "stderr",
     "output_type": "stream",
     "text": []
    },
    {
     "name": "stdout",
     "output_type": "stream",
     "text": [
      "Train Epoch: 20 [12800/58800 (22%)]\tLoss: 0.401855, lrs: 0.000518297990273028\n"
     ]
    },
    {
     "name": "stderr",
     "output_type": "stream",
     "text": []
    },
    {
     "name": "stdout",
     "output_type": "stream",
     "text": [
      "Train Epoch: 20 [19200/58800 (33%)]\tLoss: 0.542337, lrs: 0.0004962120602500023\n"
     ]
    },
    {
     "name": "stderr",
     "output_type": "stream",
     "text": []
    },
    {
     "name": "stdout",
     "output_type": "stream",
     "text": [
      "Train Epoch: 20 [25600/58800 (44%)]\tLoss: 0.597852, lrs: 0.00047317475879600984\n"
     ]
    },
    {
     "name": "stderr",
     "output_type": "stream",
     "text": []
    },
    {
     "name": "stdout",
     "output_type": "stream",
     "text": [
      "Train Epoch: 20 [32000/58800 (54%)]\tLoss: 0.414223, lrs: 0.00044937156871664437\n"
     ]
    },
    {
     "name": "stderr",
     "output_type": "stream",
     "text": []
    },
    {
     "name": "stdout",
     "output_type": "stream",
     "text": [
      "Train Epoch: 20 [38400/58800 (65%)]\tLoss: 0.446758, lrs: 0.0004249941393023756\n"
     ]
    },
    {
     "name": "stderr",
     "output_type": "stream",
     "text": []
    },
    {
     "name": "stdout",
     "output_type": "stream",
     "text": [
      "Train Epoch: 20 [44800/58800 (76%)]\tLoss: 0.477180, lrs: 0.00040023874328115117\n"
     ]
    },
    {
     "name": "stderr",
     "output_type": "stream",
     "text": []
    },
    {
     "name": "stdout",
     "output_type": "stream",
     "text": [
      "Train Epoch: 20 [51200/58800 (87%)]\tLoss: 0.299593, lrs: 0.0003753046965457967\n"
     ]
    },
    {
     "name": "stderr",
     "output_type": "stream",
     "text": []
    },
    {
     "name": "stdout",
     "output_type": "stream",
     "text": [
      "Train Epoch: 20 [57600/58800 (98%)]\tLoss: 0.546037, lrs: 0.0003503927533796431\n"
     ]
    },
    {
     "name": "stderr",
     "output_type": "stream",
     "text": [
      "919it [00:30, 29.69it/s]\n"
     ]
    },
    {
     "name": "stdout",
     "output_type": "stream",
     "text": [
      "Epoch: 20 - train accuracy: 82.6156462585034\n"
     ]
    },
    {
     "name": "stderr",
     "output_type": "stream",
     "text": [
      "103it [00:02, 45.31it/s]\n",
      "100%|██████████| 20/20 [12:02<00:00, 36.12s/it]"
     ]
    },
    {
     "name": "stdout",
     "output_type": "stream",
     "text": [
      "Epoch 20 finished: train loss = 0.3772847652435303, val loss = 0.6260377168655396\n",
      "Epoch: 20 - Validation accuracy: 76.23201714110806\n"
     ]
    },
    {
     "name": "stderr",
     "output_type": "stream",
     "text": [
      "\n"
     ]
    }
   ],
   "source": [
    "train(dataset=train_set, valid_rate=0.9, batch_size=batch_size,\n",
    "      optimizer=optimizer, scheduler=scheduler, num_of_epoch=num_of_epoch, valid_random_seed=42)"
   ]
  },
  {
   "attachments": {},
   "cell_type": "markdown",
   "metadata": {},
   "source": [
    "EarlyStopping, BestModel Saving\n"
   ]
  },
  {
   "cell_type": "code",
   "execution_count": 73,
   "metadata": {},
   "outputs": [
    {
     "name": "stderr",
     "output_type": "stream",
     "text": [
      "  0%|          | 0/20 [00:00<?, ?it/s]"
     ]
    },
    {
     "name": "stdout",
     "output_type": "stream",
     "text": [
      "Train Epoch: 1 [0/58800 (0%)]\tLoss: 1.934796, lrs: 0.0001\n"
     ]
    },
    {
     "name": "stderr",
     "output_type": "stream",
     "text": []
    },
    {
     "name": "stdout",
     "output_type": "stream",
     "text": [
      "Train Epoch: 1 [6400/58800 (11%)]\tLoss: 1.800639, lrs: 0.00028\n"
     ]
    },
    {
     "name": "stderr",
     "output_type": "stream",
     "text": []
    },
    {
     "name": "stdout",
     "output_type": "stream",
     "text": [
      "Train Epoch: 1 [12800/58800 (22%)]\tLoss: 1.439610, lrs: 0.00045999999999999996\n"
     ]
    },
    {
     "name": "stderr",
     "output_type": "stream",
     "text": []
    },
    {
     "name": "stdout",
     "output_type": "stream",
     "text": [
      "Train Epoch: 1 [19200/58800 (33%)]\tLoss: 1.337596, lrs: 0.00064\n"
     ]
    },
    {
     "name": "stderr",
     "output_type": "stream",
     "text": []
    },
    {
     "name": "stdout",
     "output_type": "stream",
     "text": [
      "Train Epoch: 1 [25600/58800 (44%)]\tLoss: 1.436871, lrs: 0.00082\n"
     ]
    },
    {
     "name": "stderr",
     "output_type": "stream",
     "text": []
    },
    {
     "name": "stdout",
     "output_type": "stream",
     "text": [
      "Train Epoch: 1 [32000/58800 (54%)]\tLoss: 1.395287, lrs: 0.001\n"
     ]
    },
    {
     "name": "stderr",
     "output_type": "stream",
     "text": []
    },
    {
     "name": "stdout",
     "output_type": "stream",
     "text": [
      "Train Epoch: 1 [38400/58800 (65%)]\tLoss: 1.282406, lrs: 0.0009981884322978576\n"
     ]
    },
    {
     "name": "stderr",
     "output_type": "stream",
     "text": []
    },
    {
     "name": "stdout",
     "output_type": "stream",
     "text": [
      "Train Epoch: 1 [44800/58800 (76%)]\tLoss: 1.402771, lrs: 0.0009927683148693834\n"
     ]
    },
    {
     "name": "stderr",
     "output_type": "stream",
     "text": []
    },
    {
     "name": "stdout",
     "output_type": "stream",
     "text": [
      "Train Epoch: 1 [51200/58800 (87%)]\tLoss: 1.095161, lrs: 0.000983783287313134\n"
     ]
    },
    {
     "name": "stderr",
     "output_type": "stream",
     "text": []
    },
    {
     "name": "stdout",
     "output_type": "stream",
     "text": [
      "Train Epoch: 1 [57600/58800 (98%)]\tLoss: 1.090347, lrs: 0.0009713056917878818\n"
     ]
    },
    {
     "name": "stderr",
     "output_type": "stream",
     "text": [
      "919it [00:31, 28.82it/s]\n"
     ]
    },
    {
     "name": "stdout",
     "output_type": "stream",
     "text": [
      "Epoch: 1 - train accuracy: 48.83843537414966\n"
     ]
    },
    {
     "name": "stderr",
     "output_type": "stream",
     "text": [
      "103it [00:02, 44.27it/s]\n",
      "  5%|▌         | 1/20 [00:34<10:50, 34.24s/it]"
     ]
    },
    {
     "name": "stdout",
     "output_type": "stream",
     "text": [
      "Epoch 1 finished: train loss = 0.888906717300415, val loss = 0.9611291885375977\n",
      "Epoch: 1 - Validation accuracy: 67.43189470462198\n"
     ]
    },
    {
     "name": "stderr",
     "output_type": "stream",
     "text": []
    },
    {
     "name": "stdout",
     "output_type": "stream",
     "text": [
      "Train Epoch: 2 [0/58800 (0%)]\tLoss: 1.165200, lrs: 0.0009685479426029321\n"
     ]
    },
    {
     "name": "stderr",
     "output_type": "stream",
     "text": []
    },
    {
     "name": "stdout",
     "output_type": "stream",
     "text": [
      "Train Epoch: 2 [6400/58800 (11%)]\tLoss: 1.042217, lrs: 0.0009520473683330851\n"
     ]
    },
    {
     "name": "stderr",
     "output_type": "stream",
     "text": []
    },
    {
     "name": "stdout",
     "output_type": "stream",
     "text": [
      "Train Epoch: 2 [12800/58800 (22%)]\tLoss: 0.713734, lrs: 0.0009323097450534443\n"
     ]
    },
    {
     "name": "stderr",
     "output_type": "stream",
     "text": []
    },
    {
     "name": "stdout",
     "output_type": "stream",
     "text": [
      "Train Epoch: 2 [19200/58800 (33%)]\tLoss: 0.906764, lrs: 0.0009094939885011229\n"
     ]
    },
    {
     "name": "stderr",
     "output_type": "stream",
     "text": []
    },
    {
     "name": "stdout",
     "output_type": "stream",
     "text": [
      "Train Epoch: 2 [25600/58800 (44%)]\tLoss: 0.984781, lrs: 0.0008837837977324327\n"
     ]
    },
    {
     "name": "stderr",
     "output_type": "stream",
     "text": []
    },
    {
     "name": "stdout",
     "output_type": "stream",
     "text": [
      "Train Epoch: 2 [32000/58800 (54%)]\tLoss: 0.711688, lrs: 0.0008553861760860957\n"
     ]
    },
    {
     "name": "stderr",
     "output_type": "stream",
     "text": []
    },
    {
     "name": "stdout",
     "output_type": "stream",
     "text": [
      "Train Epoch: 2 [38400/58800 (65%)]\tLoss: 0.871856, lrs: 0.0008245297645140772\n"
     ]
    },
    {
     "name": "stderr",
     "output_type": "stream",
     "text": []
    },
    {
     "name": "stdout",
     "output_type": "stream",
     "text": [
      "Train Epoch: 2 [44800/58800 (76%)]\tLoss: 0.793071, lrs: 0.0007914630006990788\n"
     ]
    },
    {
     "name": "stderr",
     "output_type": "stream",
     "text": []
    },
    {
     "name": "stdout",
     "output_type": "stream",
     "text": [
      "Train Epoch: 2 [51200/58800 (87%)]\tLoss: 0.747694, lrs: 0.0007564521187803966\n"
     ]
    },
    {
     "name": "stderr",
     "output_type": "stream",
     "text": []
    },
    {
     "name": "stdout",
     "output_type": "stream",
     "text": [
      "Train Epoch: 2 [57600/58800 (98%)]\tLoss: 0.920495, lrs: 0.0007197790057931746\n"
     ]
    },
    {
     "name": "stderr",
     "output_type": "stream",
     "text": [
      "919it [00:32, 28.35it/s]\n"
     ]
    },
    {
     "name": "stdout",
     "output_type": "stream",
     "text": [
      "Epoch: 2 - train accuracy: 69.81122448979592\n"
     ]
    },
    {
     "name": "stderr",
     "output_type": "stream",
     "text": [
      "103it [00:02, 42.90it/s]\n",
      " 10%|█         | 2/20 [01:09<10:22, 34.60s/it]"
     ]
    },
    {
     "name": "stdout",
     "output_type": "stream",
     "text": [
      "Epoch 2 finished: train loss = 0.7726657390594482, val loss = 1.065981149673462\n",
      "Epoch: 2 - Validation accuracy: 72.62014080195898\n"
     ]
    },
    {
     "name": "stderr",
     "output_type": "stream",
     "text": []
    },
    {
     "name": "stdout",
     "output_type": "stream",
     "text": [
      "Train Epoch: 3 [0/58800 (0%)]\tLoss: 0.825188, lrs: 0.0007126473681115207\n"
     ]
    },
    {
     "name": "stderr",
     "output_type": "stream",
     "text": []
    },
    {
     "name": "stdout",
     "output_type": "stream",
     "text": [
      "Train Epoch: 3 [6400/58800 (11%)]\tLoss: 0.710187, lrs: 0.000674381901193091\n"
     ]
    },
    {
     "name": "stderr",
     "output_type": "stream",
     "text": []
    },
    {
     "name": "stdout",
     "output_type": "stream",
     "text": [
      "Train Epoch: 3 [12800/58800 (22%)]\tLoss: 0.739631, lrs: 0.0006351149843416281\n"
     ]
    },
    {
     "name": "stderr",
     "output_type": "stream",
     "text": []
    },
    {
     "name": "stdout",
     "output_type": "stream",
     "text": [
      "Train Epoch: 3 [19200/58800 (33%)]\tLoss: 0.785266, lrs: 0.0005951627716830467\n"
     ]
    },
    {
     "name": "stderr",
     "output_type": "stream",
     "text": []
    },
    {
     "name": "stdout",
     "output_type": "stream",
     "text": [
      "Train Epoch: 3 [25600/58800 (44%)]\tLoss: 0.831361, lrs: 0.0005548469349421532\n"
     ]
    },
    {
     "name": "stderr",
     "output_type": "stream",
     "text": []
    },
    {
     "name": "stdout",
     "output_type": "stream",
     "text": [
      "Train Epoch: 3 [32000/58800 (54%)]\tLoss: 0.835127, lrs: 0.0005144920735310571\n"
     ]
    },
    {
     "name": "stderr",
     "output_type": "stream",
     "text": []
    },
    {
     "name": "stdout",
     "output_type": "stream",
     "text": [
      "Train Epoch: 3 [38400/58800 (65%)]\tLoss: 1.058106, lrs: 0.00047442310106556615\n"
     ]
    },
    {
     "name": "stderr",
     "output_type": "stream",
     "text": []
    },
    {
     "name": "stdout",
     "output_type": "stream",
     "text": [
      "Train Epoch: 3 [44800/58800 (76%)]\tLoss: 0.874417, lrs: 0.00043496262935179843\n"
     ]
    },
    {
     "name": "stderr",
     "output_type": "stream",
     "text": []
    },
    {
     "name": "stdout",
     "output_type": "stream",
     "text": [
      "Train Epoch: 3 [51200/58800 (87%)]\tLoss: 0.649386, lrs: 0.0003964283709056115\n"
     ]
    },
    {
     "name": "stderr",
     "output_type": "stream",
     "text": []
    },
    {
     "name": "stdout",
     "output_type": "stream",
     "text": [
      "Train Epoch: 3 [57600/58800 (98%)]\tLoss: 0.732666, lrs: 0.00035913058091823684\n"
     ]
    },
    {
     "name": "stderr",
     "output_type": "stream",
     "text": [
      "919it [00:32, 28.71it/s]\n"
     ]
    },
    {
     "name": "stdout",
     "output_type": "stream",
     "text": [
      "Epoch: 3 - train accuracy: 73.41666666666666\n"
     ]
    },
    {
     "name": "stderr",
     "output_type": "stream",
     "text": [
      "103it [00:02, 43.51it/s]\n",
      " 15%|█▌        | 3/20 [01:43<09:46, 34.51s/it]"
     ]
    },
    {
     "name": "stdout",
     "output_type": "stream",
     "text": [
      "Epoch 3 finished: train loss = 0.72910076379776, val loss = 0.4426006078720093\n",
      "Epoch: 3 - Validation accuracy: 75.00765228037956\n"
     ]
    },
    {
     "name": "stderr",
     "output_type": "stream",
     "text": []
    },
    {
     "name": "stdout",
     "output_type": "stream",
     "text": [
      "Train Epoch: 4 [0/58800 (0%)]\tLoss: 0.643385, lrs: 0.0003522087587217117\n"
     ]
    },
    {
     "name": "stderr",
     "output_type": "stream",
     "text": []
    },
    {
     "name": "stdout",
     "output_type": "stream",
     "text": [
      "Train Epoch: 4 [6400/58800 (11%)]\tLoss: 0.540695, lrs: 0.00031677269024325556\n"
     ]
    },
    {
     "name": "stderr",
     "output_type": "stream",
     "text": []
    },
    {
     "name": "stdout",
     "output_type": "stream",
     "text": [
      "Train Epoch: 4 [12800/58800 (22%)]\tLoss: 0.799302, lrs: 0.0002832144309275233\n"
     ]
    },
    {
     "name": "stderr",
     "output_type": "stream",
     "text": []
    },
    {
     "name": "stdout",
     "output_type": "stream",
     "text": [
      "Train Epoch: 4 [19200/58800 (33%)]\tLoss: 0.691391, lrs: 0.00025180417214658844\n"
     ]
    },
    {
     "name": "stderr",
     "output_type": "stream",
     "text": []
    },
    {
     "name": "stdout",
     "output_type": "stream",
     "text": [
      "Train Epoch: 4 [25600/58800 (44%)]\tLoss: 0.621490, lrs: 0.0002227948108352219\n"
     ]
    },
    {
     "name": "stderr",
     "output_type": "stream",
     "text": []
    },
    {
     "name": "stdout",
     "output_type": "stream",
     "text": [
      "Train Epoch: 4 [32000/58800 (54%)]\tLoss: 0.746156, lrs: 0.0001964199133134743\n"
     ]
    },
    {
     "name": "stderr",
     "output_type": "stream",
     "text": []
    },
    {
     "name": "stdout",
     "output_type": "stream",
     "text": [
      "Train Epoch: 4 [38400/58800 (65%)]\tLoss: 0.868178, lrs: 0.0001728918347480026\n"
     ]
    },
    {
     "name": "stderr",
     "output_type": "stream",
     "text": []
    },
    {
     "name": "stdout",
     "output_type": "stream",
     "text": [
      "Train Epoch: 4 [44800/58800 (76%)]\tLoss: 0.755229, lrs: 0.00015240000939312952\n"
     ]
    },
    {
     "name": "stderr",
     "output_type": "stream",
     "text": []
    },
    {
     "name": "stdout",
     "output_type": "stream",
     "text": [
      "Train Epoch: 4 [51200/58800 (87%)]\tLoss: 0.637007, lrs: 0.0001351094253776145\n"
     ]
    },
    {
     "name": "stderr",
     "output_type": "stream",
     "text": []
    },
    {
     "name": "stdout",
     "output_type": "stream",
     "text": [
      "Train Epoch: 4 [57600/58800 (98%)]\tLoss: 0.631332, lrs: 0.00012115929631725158\n"
     ]
    },
    {
     "name": "stderr",
     "output_type": "stream",
     "text": [
      "919it [00:32, 28.37it/s]\n"
     ]
    },
    {
     "name": "stdout",
     "output_type": "stream",
     "text": [
      "Epoch: 4 - train accuracy: 75.11734693877551\n"
     ]
    },
    {
     "name": "stderr",
     "output_type": "stream",
     "text": [
      "103it [00:02, 47.39it/s]\n",
      " 20%|██        | 4/20 [02:18<09:12, 34.55s/it]"
     ]
    },
    {
     "name": "stdout",
     "output_type": "stream",
     "text": [
      "Epoch 4 finished: train loss = 0.7350834012031555, val loss = 0.7707268595695496\n",
      "Epoch: 4 - Validation accuracy: 75.49739822467096\n"
     ]
    },
    {
     "name": "stderr",
     "output_type": "stream",
     "text": []
    },
    {
     "name": "stdout",
     "output_type": "stream",
     "text": [
      "Train Epoch: 5 [0/58800 (0%)]\tLoss: 0.663711, lrs: 0.00011889613927826262\n"
     ]
    },
    {
     "name": "stderr",
     "output_type": "stream",
     "text": []
    },
    {
     "name": "stdout",
     "output_type": "stream",
     "text": [
      "Train Epoch: 5 [6400/58800 (11%)]\tLoss: 0.857262, lrs: 0.00010906522642708891\n"
     ]
    },
    {
     "name": "stderr",
     "output_type": "stream",
     "text": []
    },
    {
     "name": "stdout",
     "output_type": "stream",
     "text": [
      "Train Epoch: 5 [12800/58800 (22%)]\tLoss: 0.666914, lrs: 0.00010278446110727598\n"
     ]
    },
    {
     "name": "stderr",
     "output_type": "stream",
     "text": []
    },
    {
     "name": "stdout",
     "output_type": "stream",
     "text": [
      "Train Epoch: 5 [19200/58800 (33%)]\tLoss: 0.658890, lrs: 0.00010010441234814877\n"
     ]
    },
    {
     "name": "stderr",
     "output_type": "stream",
     "text": []
    },
    {
     "name": "stdout",
     "output_type": "stream",
     "text": [
      "Train Epoch: 5 [25600/58800 (44%)]\tLoss: 0.952789, lrs: 0.00022160000000000002\n"
     ]
    },
    {
     "name": "stderr",
     "output_type": "stream",
     "text": []
    },
    {
     "name": "stdout",
     "output_type": "stream",
     "text": [
      "Train Epoch: 5 [32000/58800 (54%)]\tLoss: 0.801072, lrs: 0.0003816\n"
     ]
    },
    {
     "name": "stderr",
     "output_type": "stream",
     "text": []
    },
    {
     "name": "stdout",
     "output_type": "stream",
     "text": [
      "Train Epoch: 5 [38400/58800 (65%)]\tLoss: 0.702663, lrs: 0.0005416\n"
     ]
    },
    {
     "name": "stderr",
     "output_type": "stream",
     "text": []
    },
    {
     "name": "stdout",
     "output_type": "stream",
     "text": [
      "Train Epoch: 5 [44800/58800 (76%)]\tLoss: 0.794869, lrs: 0.0007016\n"
     ]
    },
    {
     "name": "stderr",
     "output_type": "stream",
     "text": []
    },
    {
     "name": "stdout",
     "output_type": "stream",
     "text": [
      "Train Epoch: 5 [51200/58800 (87%)]\tLoss: 0.881626, lrs: 0.0008616000000000001\n"
     ]
    },
    {
     "name": "stderr",
     "output_type": "stream",
     "text": []
    },
    {
     "name": "stdout",
     "output_type": "stream",
     "text": [
      "Train Epoch: 5 [57600/58800 (98%)]\tLoss: 0.578919, lrs: 0.0008990696370431355\n"
     ]
    },
    {
     "name": "stderr",
     "output_type": "stream",
     "text": [
      "919it [00:31, 29.31it/s]\n"
     ]
    },
    {
     "name": "stdout",
     "output_type": "stream",
     "text": [
      "Epoch: 5 - train accuracy: 75.15306122448979\n"
     ]
    },
    {
     "name": "stderr",
     "output_type": "stream",
     "text": [
      "103it [00:02, 44.76it/s]\n",
      " 25%|██▌       | 5/20 [02:51<08:33, 34.23s/it]"
     ]
    },
    {
     "name": "stdout",
     "output_type": "stream",
     "text": [
      "Epoch 5 finished: train loss = 0.4220370352268219, val loss = 0.6828530430793762\n",
      "Epoch: 5 - Validation accuracy: 73.56902356902357\n"
     ]
    },
    {
     "name": "stderr",
     "output_type": "stream",
     "text": []
    },
    {
     "name": "stdout",
     "output_type": "stream",
     "text": [
      "Train Epoch: 6 [0/58800 (0%)]\tLoss: 0.633813, lrs: 0.0008985466249828973\n"
     ]
    },
    {
     "name": "stderr",
     "output_type": "stream",
     "text": []
    },
    {
     "name": "stdout",
     "output_type": "stream",
     "text": [
      "Train Epoch: 6 [6400/58800 (11%)]\tLoss: 0.567383, lrs: 0.0008938884152862507\n"
     ]
    },
    {
     "name": "stderr",
     "output_type": "stream",
     "text": []
    },
    {
     "name": "stdout",
     "output_type": "stream",
     "text": [
      "Train Epoch: 6 [12800/58800 (22%)]\tLoss: 0.751594, lrs: 0.000886058847672357\n"
     ]
    },
    {
     "name": "stderr",
     "output_type": "stream",
     "text": []
    },
    {
     "name": "stdout",
     "output_type": "stream",
     "text": [
      "Train Epoch: 6 [19200/58800 (33%)]\tLoss: 0.784706, lrs: 0.0008751209612159317\n"
     ]
    },
    {
     "name": "stderr",
     "output_type": "stream",
     "text": []
    },
    {
     "name": "stdout",
     "output_type": "stream",
     "text": [
      "Train Epoch: 6 [25600/58800 (44%)]\tLoss: 0.784408, lrs: 0.000861162821347349\n"
     ]
    },
    {
     "name": "stderr",
     "output_type": "stream",
     "text": []
    },
    {
     "name": "stdout",
     "output_type": "stream",
     "text": [
      "Train Epoch: 6 [32000/58800 (54%)]\tLoss: 0.730041, lrs: 0.0008442968108015776\n"
     ]
    },
    {
     "name": "stderr",
     "output_type": "stream",
     "text": []
    },
    {
     "name": "stdout",
     "output_type": "stream",
     "text": [
      "Train Epoch: 6 [38400/58800 (65%)]\tLoss: 0.812102, lrs: 0.0008246587247784782\n"
     ]
    },
    {
     "name": "stderr",
     "output_type": "stream",
     "text": []
    },
    {
     "name": "stdout",
     "output_type": "stream",
     "text": [
      "Train Epoch: 6 [44800/58800 (76%)]\tLoss: 0.856344, lrs: 0.0008024066775997011\n"
     ]
    },
    {
     "name": "stderr",
     "output_type": "stream",
     "text": []
    },
    {
     "name": "stdout",
     "output_type": "stream",
     "text": [
      "Train Epoch: 6 [51200/58800 (87%)]\tLoss: 0.749941, lrs: 0.0007777198296651384\n"
     ]
    },
    {
     "name": "stderr",
     "output_type": "stream",
     "text": []
    },
    {
     "name": "stdout",
     "output_type": "stream",
     "text": [
      "Train Epoch: 6 [57600/58800 (98%)]\tLoss: 0.816554, lrs: 0.0007507969449587273\n"
     ]
    },
    {
     "name": "stderr",
     "output_type": "stream",
     "text": [
      "919it [00:31, 29.54it/s]\n"
     ]
    },
    {
     "name": "stdout",
     "output_type": "stream",
     "text": [
      "Epoch: 6 - train accuracy: 74.46088435374149\n"
     ]
    },
    {
     "name": "stderr",
     "output_type": "stream",
     "text": [
      "103it [00:02, 44.23it/s]\n",
      " 30%|███       | 6/20 [03:25<07:55, 33.96s/it]"
     ]
    },
    {
     "name": "stdout",
     "output_type": "stream",
     "text": [
      "Epoch 6 finished: train loss = 0.6615539193153381, val loss = 1.4726201295852661\n",
      "Epoch: 6 - Validation accuracy: 75.14539332721151\n"
     ]
    },
    {
     "name": "stderr",
     "output_type": "stream",
     "text": []
    },
    {
     "name": "stdout",
     "output_type": "stream",
     "text": [
      "Train Epoch: 7 [0/58800 (0%)]\tLoss: 0.770250, lrs: 0.0007454464192537046\n"
     ]
    },
    {
     "name": "stderr",
     "output_type": "stream",
     "text": []
    },
    {
     "name": "stdout",
     "output_type": "stream",
     "text": [
      "Train Epoch: 7 [6400/58800 (11%)]\tLoss: 0.650078, lrs: 0.0007161464816601902\n"
     ]
    },
    {
     "name": "stderr",
     "output_type": "stream",
     "text": []
    },
    {
     "name": "stdout",
     "output_type": "stream",
     "text": [
      "Train Epoch: 7 [12800/58800 (22%)]\tLoss: 0.630331, lrs: 0.0006851062596884212\n"
     ]
    },
    {
     "name": "stderr",
     "output_type": "stream",
     "text": []
    },
    {
     "name": "stdout",
     "output_type": "stream",
     "text": [
      "Train Epoch: 7 [19200/58800 (33%)]\tLoss: 0.677074, lrs: 0.000652575670954359\n"
     ]
    },
    {
     "name": "stderr",
     "output_type": "stream",
     "text": []
    },
    {
     "name": "stdout",
     "output_type": "stream",
     "text": [
      "Train Epoch: 7 [25600/58800 (44%)]\tLoss: 0.644990, lrs: 0.0006188166326308141\n"
     ]
    },
    {
     "name": "stderr",
     "output_type": "stream",
     "text": []
    },
    {
     "name": "stdout",
     "output_type": "stream",
     "text": [
      "Train Epoch: 7 [32000/58800 (54%)]\tLoss: 0.539097, lrs: 0.0005841009526443744\n"
     ]
    },
    {
     "name": "stderr",
     "output_type": "stream",
     "text": []
    },
    {
     "name": "stdout",
     "output_type": "stream",
     "text": [
      "Train Epoch: 7 [38400/58800 (65%)]\tLoss: 0.817052, lrs: 0.0005487081412378016\n"
     ]
    },
    {
     "name": "stderr",
     "output_type": "stream",
     "text": []
    },
    {
     "name": "stdout",
     "output_type": "stream",
     "text": [
      "Train Epoch: 7 [44800/58800 (76%)]\tLoss: 0.439689, lrs: 0.0005129231605179053\n"
     ]
    },
    {
     "name": "stderr",
     "output_type": "stream",
     "text": []
    },
    {
     "name": "stdout",
     "output_type": "stream",
     "text": [
      "Train Epoch: 7 [51200/58800 (87%)]\tLoss: 0.712899, lrs: 0.00047703413010821407\n"
     ]
    },
    {
     "name": "stderr",
     "output_type": "stream",
     "text": []
    },
    {
     "name": "stdout",
     "output_type": "stream",
     "text": [
      "Train Epoch: 7 [57600/58800 (98%)]\tLoss: 0.631104, lrs: 0.00044133000737917873\n"
     ]
    },
    {
     "name": "stderr",
     "output_type": "stream",
     "text": [
      "919it [00:31, 28.92it/s]\n"
     ]
    },
    {
     "name": "stdout",
     "output_type": "stream",
     "text": [
      "Epoch: 7 - train accuracy: 76.07312925170068\n"
     ]
    },
    {
     "name": "stderr",
     "output_type": "stream",
     "text": [
      "103it [00:02, 46.80it/s]\n",
      " 35%|███▌      | 7/20 [03:59<07:21, 33.98s/it]"
     ]
    },
    {
     "name": "stdout",
     "output_type": "stream",
     "text": [
      "Epoch 7 finished: train loss = 0.4668641984462738, val loss = 0.8247517943382263\n",
      "Epoch: 7 - Validation accuracy: 76.21671258034894\n"
     ]
    },
    {
     "name": "stderr",
     "output_type": "stream",
     "text": []
    },
    {
     "name": "stdout",
     "output_type": "stream",
     "text": [
      "Train Epoch: 8 [0/58800 (0%)]\tLoss: 0.774706, lrs: 0.00043459090128338484\n"
     ]
    },
    {
     "name": "stderr",
     "output_type": "stream",
     "text": []
    },
    {
     "name": "stdout",
     "output_type": "stream",
     "text": [
      "Train Epoch: 8 [6400/58800 (11%)]\tLoss: 0.584037, lrs: 0.00039948112919672226\n"
     ]
    },
    {
     "name": "stderr",
     "output_type": "stream",
     "text": []
    },
    {
     "name": "stdout",
     "output_type": "stream",
     "text": [
      "Train Epoch: 8 [12800/58800 (22%)]\tLoss: 0.607282, lrs: 0.0003651806759536286\n"
     ]
    },
    {
     "name": "stderr",
     "output_type": "stream",
     "text": []
    },
    {
     "name": "stdout",
     "output_type": "stream",
     "text": [
      "Train Epoch: 8 [19200/58800 (33%)]\tLoss: 0.524001, lrs: 0.0003319657086352775\n"
     ]
    },
    {
     "name": "stderr",
     "output_type": "stream",
     "text": []
    },
    {
     "name": "stdout",
     "output_type": "stream",
     "text": [
      "Train Epoch: 8 [25600/58800 (44%)]\tLoss: 0.824513, lrs: 0.00030010365462843205\n"
     ]
    },
    {
     "name": "stderr",
     "output_type": "stream",
     "text": []
    },
    {
     "name": "stdout",
     "output_type": "stream",
     "text": [
      "Train Epoch: 8 [32000/58800 (54%)]\tLoss: 0.624888, lrs: 0.0002698510484573705\n"
     ]
    },
    {
     "name": "stderr",
     "output_type": "stream",
     "text": []
    },
    {
     "name": "stdout",
     "output_type": "stream",
     "text": [
      "Train Epoch: 8 [38400/58800 (65%)]\tLoss: 0.673833, lrs: 0.0002414514663187383\n"
     ]
    },
    {
     "name": "stderr",
     "output_type": "stream",
     "text": []
    },
    {
     "name": "stdout",
     "output_type": "stream",
     "text": [
      "Train Epoch: 8 [44800/58800 (76%)]\tLoss: 0.675349, lrs: 0.00021513356494923174\n"
     ]
    },
    {
     "name": "stderr",
     "output_type": "stream",
     "text": []
    },
    {
     "name": "stdout",
     "output_type": "stream",
     "text": [
      "Train Epoch: 8 [51200/58800 (87%)]\tLoss: 0.866000, lrs: 0.00019110924061600256\n"
     ]
    },
    {
     "name": "stderr",
     "output_type": "stream",
     "text": []
    },
    {
     "name": "stdout",
     "output_type": "stream",
     "text": [
      "Train Epoch: 8 [57600/58800 (98%)]\tLoss: 0.553966, lrs: 0.00016957192305250821\n"
     ]
    },
    {
     "name": "stderr",
     "output_type": "stream",
     "text": [
      "919it [00:31, 29.63it/s]\n"
     ]
    },
    {
     "name": "stdout",
     "output_type": "stream",
     "text": [
      "Epoch: 8 - train accuracy: 77.52891156462584\n"
     ]
    },
    {
     "name": "stderr",
     "output_type": "stream",
     "text": [
      "103it [00:02, 44.33it/s]\n",
      " 40%|████      | 8/20 [04:32<06:45, 33.79s/it]"
     ]
    },
    {
     "name": "stdout",
     "output_type": "stream",
     "text": [
      "Epoch 8 finished: train loss = 0.5393394827842712, val loss = 0.4392111599445343\n",
      "Epoch: 8 - Validation accuracy: 76.76767676767676\n"
     ]
    },
    {
     "name": "stderr",
     "output_type": "stream",
     "text": []
    },
    {
     "name": "stdout",
     "output_type": "stream",
     "text": [
      "Train Epoch: 9 [0/58800 (0%)]\tLoss: 0.748792, lrs: 0.0001657756494649397\n"
     ]
    },
    {
     "name": "stderr",
     "output_type": "stream",
     "text": []
    },
    {
     "name": "stdout",
     "output_type": "stream",
     "text": [
      "Train Epoch: 9 [6400/58800 (11%)]\tLoss: 0.441472, lrs: 0.0001474220802104529\n"
     ]
    },
    {
     "name": "stderr",
     "output_type": "stream",
     "text": []
    },
    {
     "name": "stdout",
     "output_type": "stream",
     "text": [
      "Train Epoch: 9 [12800/58800 (22%)]\tLoss: 0.571363, lrs: 0.00013190726105365185\n"
     ]
    },
    {
     "name": "stderr",
     "output_type": "stream",
     "text": []
    },
    {
     "name": "stdout",
     "output_type": "stream",
     "text": [
      "Train Epoch: 9 [19200/58800 (33%)]\tLoss: 0.666749, lrs: 0.00011935610819582135\n"
     ]
    },
    {
     "name": "stderr",
     "output_type": "stream",
     "text": []
    },
    {
     "name": "stdout",
     "output_type": "stream",
     "text": [
      "Train Epoch: 9 [25600/58800 (44%)]\tLoss: 0.581547, lrs: 0.00010986967613981414\n"
     ]
    },
    {
     "name": "stderr",
     "output_type": "stream",
     "text": []
    },
    {
     "name": "stdout",
     "output_type": "stream",
     "text": [
      "Train Epoch: 9 [32000/58800 (54%)]\tLoss: 0.591835, lrs: 0.00010352434405861346\n"
     ]
    },
    {
     "name": "stderr",
     "output_type": "stream",
     "text": []
    },
    {
     "name": "stdout",
     "output_type": "stream",
     "text": [
      "Train Epoch: 9 [38400/58800 (65%)]\tLoss: 0.541553, lrs: 0.00010037120083514237\n"
     ]
    },
    {
     "name": "stderr",
     "output_type": "stream",
     "text": []
    },
    {
     "name": "stdout",
     "output_type": "stream",
     "text": [
      "Train Epoch: 9 [44800/58800 (76%)]\tLoss: 0.539962, lrs: 0.00017384\n"
     ]
    },
    {
     "name": "stderr",
     "output_type": "stream",
     "text": []
    },
    {
     "name": "stdout",
     "output_type": "stream",
     "text": [
      "Train Epoch: 9 [51200/58800 (87%)]\tLoss: 0.703650, lrs: 0.00031584\n"
     ]
    },
    {
     "name": "stderr",
     "output_type": "stream",
     "text": []
    },
    {
     "name": "stdout",
     "output_type": "stream",
     "text": [
      "Train Epoch: 9 [57600/58800 (98%)]\tLoss: 0.745880, lrs: 0.00045784\n"
     ]
    },
    {
     "name": "stderr",
     "output_type": "stream",
     "text": [
      "919it [00:31, 29.10it/s]\n"
     ]
    },
    {
     "name": "stdout",
     "output_type": "stream",
     "text": [
      "Epoch: 9 - train accuracy: 78.47789115646259\n"
     ]
    },
    {
     "name": "stderr",
     "output_type": "stream",
     "text": [
      "103it [00:02, 44.39it/s]\n",
      " 45%|████▌     | 9/20 [05:06<06:12, 33.83s/it]"
     ]
    },
    {
     "name": "stdout",
     "output_type": "stream",
     "text": [
      "Epoch 9 finished: train loss = 0.6629667282104492, val loss = 1.2664788961410522\n",
      "Epoch: 9 - Validation accuracy: 76.84419957147229\n"
     ]
    },
    {
     "name": "stderr",
     "output_type": "stream",
     "text": []
    },
    {
     "name": "stdout",
     "output_type": "stream",
     "text": [
      "Train Epoch: 10 [0/58800 (0%)]\tLoss: 0.569299, lrs: 0.00048482\n"
     ]
    },
    {
     "name": "stderr",
     "output_type": "stream",
     "text": []
    },
    {
     "name": "stdout",
     "output_type": "stream",
     "text": [
      "Train Epoch: 10 [6400/58800 (11%)]\tLoss: 0.702926, lrs: 0.0006268200000000002\n"
     ]
    },
    {
     "name": "stderr",
     "output_type": "stream",
     "text": []
    },
    {
     "name": "stdout",
     "output_type": "stream",
     "text": [
      "Train Epoch: 10 [12800/58800 (22%)]\tLoss: 0.757502, lrs: 0.00076882\n"
     ]
    },
    {
     "name": "stderr",
     "output_type": "stream",
     "text": []
    },
    {
     "name": "stdout",
     "output_type": "stream",
     "text": [
      "Train Epoch: 10 [19200/58800 (33%)]\tLoss: 0.567876, lrs: 0.0008092793378416944\n"
     ]
    },
    {
     "name": "stderr",
     "output_type": "stream",
     "text": []
    },
    {
     "name": "stdout",
     "output_type": "stream",
     "text": [
      "Train Epoch: 10 [25600/58800 (44%)]\tLoss: 0.478652, lrs: 0.0008058264901706257\n"
     ]
    },
    {
     "name": "stderr",
     "output_type": "stream",
     "text": []
    },
    {
     "name": "stdout",
     "output_type": "stream",
     "text": [
      "Train Epoch: 10 [32000/58800 (54%)]\tLoss: 0.655576, lrs: 0.0007995489938833388\n"
     ]
    },
    {
     "name": "stderr",
     "output_type": "stream",
     "text": []
    },
    {
     "name": "stdout",
     "output_type": "stream",
     "text": [
      "Train Epoch: 10 [38400/58800 (65%)]\tLoss: 0.649035, lrs: 0.0007904973916888308\n"
     ]
    },
    {
     "name": "stderr",
     "output_type": "stream",
     "text": []
    },
    {
     "name": "stdout",
     "output_type": "stream",
     "text": [
      "Train Epoch: 10 [44800/58800 (76%)]\tLoss: 0.859126, lrs: 0.0007787445617657161\n"
     ]
    },
    {
     "name": "stderr",
     "output_type": "stream",
     "text": []
    },
    {
     "name": "stdout",
     "output_type": "stream",
     "text": [
      "Train Epoch: 10 [51200/58800 (87%)]\tLoss: 0.674730, lrs: 0.0007643851309899835\n"
     ]
    },
    {
     "name": "stderr",
     "output_type": "stream",
     "text": []
    },
    {
     "name": "stdout",
     "output_type": "stream",
     "text": [
      "Train Epoch: 10 [57600/58800 (98%)]\tLoss: 0.561082, lrs: 0.0007475347130550307\n"
     ]
    },
    {
     "name": "stderr",
     "output_type": "stream",
     "text": [
      "919it [00:31, 29.62it/s]\n"
     ]
    },
    {
     "name": "stdout",
     "output_type": "stream",
     "text": [
      "Epoch: 10 - train accuracy: 77.01190476190476\n"
     ]
    },
    {
     "name": "stderr",
     "output_type": "stream",
     "text": [
      "103it [00:02, 46.50it/s]\n",
      " 50%|█████     | 10/20 [05:39<05:36, 33.65s/it]"
     ]
    },
    {
     "name": "stdout",
     "output_type": "stream",
     "text": [
      "Epoch 10 finished: train loss = 0.5722454190254211, val loss = 0.5413327217102051\n",
      "Epoch: 10 - Validation accuracy: 75.94123048668503\n"
     ]
    },
    {
     "name": "stderr",
     "output_type": "stream",
     "text": []
    },
    {
     "name": "stdout",
     "output_type": "stream",
     "text": [
      "Train Epoch: 11 [0/58800 (0%)]\tLoss: 0.487668, lrs: 0.0007440623998666044\n"
     ]
    },
    {
     "name": "stderr",
     "output_type": "stream",
     "text": []
    },
    {
     "name": "stdout",
     "output_type": "stream",
     "text": [
      "Train Epoch: 11 [6400/58800 (11%)]\tLoss: 0.625924, lrs: 0.0007244260764745673\n"
     ]
    },
    {
     "name": "stderr",
     "output_type": "stream",
     "text": []
    },
    {
     "name": "stdout",
     "output_type": "stream",
     "text": [
      "Train Epoch: 11 [12800/58800 (22%)]\tLoss: 0.606409, lrs: 0.0007026204927347244\n"
     ]
    },
    {
     "name": "stderr",
     "output_type": "stream",
     "text": []
    },
    {
     "name": "stdout",
     "output_type": "stream",
     "text": [
      "Train Epoch: 11 [19200/58800 (33%)]\tLoss: 0.674775, lrs: 0.0006788212143858734\n"
     ]
    },
    {
     "name": "stderr",
     "output_type": "stream",
     "text": []
    },
    {
     "name": "stdout",
     "output_type": "stream",
     "text": [
      "Train Epoch: 11 [25600/58800 (44%)]\tLoss: 0.902142, lrs: 0.0006532198592235302\n"
     ]
    },
    {
     "name": "stderr",
     "output_type": "stream",
     "text": []
    },
    {
     "name": "stdout",
     "output_type": "stream",
     "text": [
      "Train Epoch: 11 [32000/58800 (54%)]\tLoss: 0.575825, lrs: 0.000626022554306109\n"
     ]
    },
    {
     "name": "stderr",
     "output_type": "stream",
     "text": []
    },
    {
     "name": "stdout",
     "output_type": "stream",
     "text": [
      "Train Epoch: 11 [38400/58800 (65%)]\tLoss: 0.429796, lrs: 0.0005974482763410484\n"
     ]
    },
    {
     "name": "stderr",
     "output_type": "stream",
     "text": []
    },
    {
     "name": "stdout",
     "output_type": "stream",
     "text": [
      "Train Epoch: 11 [44800/58800 (76%)]\tLoss: 0.604619, lrs: 0.0005677270886131198\n"
     ]
    },
    {
     "name": "stderr",
     "output_type": "stream",
     "text": []
    },
    {
     "name": "stdout",
     "output_type": "stream",
     "text": [
      "Train Epoch: 11 [51200/58800 (87%)]\tLoss: 0.600340, lrs: 0.0005370982886501329\n"
     ]
    },
    {
     "name": "stderr",
     "output_type": "stream",
     "text": []
    },
    {
     "name": "stdout",
     "output_type": "stream",
     "text": [
      "Train Epoch: 11 [57600/58800 (98%)]\tLoss: 0.617935, lrs: 0.0005058084815399475\n"
     ]
    },
    {
     "name": "stderr",
     "output_type": "stream",
     "text": [
      "919it [00:31, 29.10it/s]\n"
     ]
    },
    {
     "name": "stdout",
     "output_type": "stream",
     "text": [
      "Epoch: 11 - train accuracy: 77.53571428571429\n"
     ]
    },
    {
     "name": "stderr",
     "output_type": "stream",
     "text": [
      "103it [00:02, 45.03it/s]\n",
      " 55%|█████▌    | 11/20 [06:13<05:03, 33.72s/it]"
     ]
    },
    {
     "name": "stdout",
     "output_type": "stream",
     "text": [
      "Epoch 11 finished: train loss = 0.522962749004364, val loss = 0.722527801990509\n",
      "Epoch: 11 - Validation accuracy: 76.50749923477196\n"
     ]
    },
    {
     "name": "stderr",
     "output_type": "stream",
     "text": []
    },
    {
     "name": "stdout",
     "output_type": "stream",
     "text": [
      "Train Epoch: 12 [0/58800 (0%)]\tLoss: 0.666468, lrs: 0.0004998094145752384\n"
     ]
    },
    {
     "name": "stderr",
     "output_type": "stream",
     "text": []
    },
    {
     "name": "stdout",
     "output_type": "stream",
     "text": [
      "Train Epoch: 12 [6400/58800 (11%)]\tLoss: 0.604698, lrs: 0.00046806158865329476\n"
     ]
    },
    {
     "name": "stderr",
     "output_type": "stream",
     "text": []
    },
    {
     "name": "stdout",
     "output_type": "stream",
     "text": [
      "Train Epoch: 12 [12800/58800 (22%)]\tLoss: 0.739915, lrs: 0.0004362085984996047\n"
     ]
    },
    {
     "name": "stderr",
     "output_type": "stream",
     "text": []
    },
    {
     "name": "stdout",
     "output_type": "stream",
     "text": [
      "Train Epoch: 12 [19200/58800 (33%)]\tLoss: 0.604849, lrs: 0.0004045069056616306\n"
     ]
    },
    {
     "name": "stderr",
     "output_type": "stream",
     "text": []
    },
    {
     "name": "stdout",
     "output_type": "stream",
     "text": [
      "Train Epoch: 12 [25600/58800 (44%)]\tLoss: 0.762555, lrs: 0.0003732117535298104\n"
     ]
    },
    {
     "name": "stderr",
     "output_type": "stream",
     "text": []
    },
    {
     "name": "stdout",
     "output_type": "stream",
     "text": [
      "Train Epoch: 12 [32000/58800 (54%)]\tLoss: 0.578404, lrs: 0.000342575112267858\n"
     ]
    },
    {
     "name": "stderr",
     "output_type": "stream",
     "text": []
    },
    {
     "name": "stdout",
     "output_type": "stream",
     "text": [
      "Train Epoch: 12 [38400/58800 (65%)]\tLoss: 0.470737, lrs: 0.00031284365009716126\n"
     ]
    },
    {
     "name": "stderr",
     "output_type": "stream",
     "text": []
    },
    {
     "name": "stdout",
     "output_type": "stream",
     "text": [
      "Train Epoch: 12 [44800/58800 (76%)]\tLoss: 0.577730, lrs: 0.00028425674726930225\n"
     ]
    },
    {
     "name": "stderr",
     "output_type": "stream",
     "text": []
    },
    {
     "name": "stdout",
     "output_type": "stream",
     "text": [
      "Train Epoch: 12 [51200/58800 (87%)]\tLoss: 0.751813, lrs: 0.0002570445687170238\n"
     ]
    },
    {
     "name": "stderr",
     "output_type": "stream",
     "text": []
    },
    {
     "name": "stdout",
     "output_type": "stream",
     "text": [
      "Train Epoch: 12 [57600/58800 (98%)]\tLoss: 0.462075, lrs: 0.00023142621090152727\n"
     ]
    },
    {
     "name": "stderr",
     "output_type": "stream",
     "text": [
      "919it [00:31, 29.25it/s]\n"
     ]
    },
    {
     "name": "stdout",
     "output_type": "stream",
     "text": [
      "Epoch: 12 - train accuracy: 78.98469387755101\n"
     ]
    },
    {
     "name": "stderr",
     "output_type": "stream",
     "text": [
      "103it [00:02, 44.57it/s]\n",
      " 60%|██████    | 12/20 [06:47<04:29, 33.72s/it]"
     ]
    },
    {
     "name": "stdout",
     "output_type": "stream",
     "text": [
      "Epoch 12 finished: train loss = 0.6076895594596863, val loss = 0.7683601379394531\n",
      "Epoch: 12 - Validation accuracy: 76.5840220385675\n"
     ]
    },
    {
     "name": "stderr",
     "output_type": "stream",
     "text": []
    },
    {
     "name": "stdout",
     "output_type": "stream",
     "text": [
      "Train Epoch: 13 [0/58800 (0%)]\tLoss: 0.358330, lrs: 0.00022675615911023372\n"
     ]
    },
    {
     "name": "stderr",
     "output_type": "stream",
     "text": []
    },
    {
     "name": "stdout",
     "output_type": "stream",
     "text": [
      "Train Epoch: 13 [6400/58800 (11%)]\tLoss: 0.475745, lrs: 0.00020330205069182927\n"
     ]
    },
    {
     "name": "stderr",
     "output_type": "stream",
     "text": []
    },
    {
     "name": "stdout",
     "output_type": "stream",
     "text": [
      "Train Epoch: 13 [12800/58800 (22%)]\tLoss: 0.664406, lrs: 0.0001818744661652568\n"
     ]
    },
    {
     "name": "stderr",
     "output_type": "stream",
     "text": []
    },
    {
     "name": "stdout",
     "output_type": "stream",
     "text": [
      "Train Epoch: 13 [19200/58800 (33%)]\tLoss: 0.436667, lrs: 0.00016264592784190834\n"
     ]
    },
    {
     "name": "stderr",
     "output_type": "stream",
     "text": []
    },
    {
     "name": "stdout",
     "output_type": "stream",
     "text": [
      "Train Epoch: 13 [25600/58800 (44%)]\tLoss: 0.521035, lrs: 0.00014577125260616618\n"
     ]
    },
    {
     "name": "stderr",
     "output_type": "stream",
     "text": []
    },
    {
     "name": "stdout",
     "output_type": "stream",
     "text": [
      "Train Epoch: 13 [32000/58800 (54%)]\tLoss: 0.500760, lrs: 0.00013138630542088012\n"
     ]
    },
    {
     "name": "stderr",
     "output_type": "stream",
     "text": []
    },
    {
     "name": "stdout",
     "output_type": "stream",
     "text": [
      "Train Epoch: 13 [38400/58800 (65%)]\tLoss: 0.416317, lrs: 0.00011960690542257419\n"
     ]
    },
    {
     "name": "stderr",
     "output_type": "stream",
     "text": []
    },
    {
     "name": "stdout",
     "output_type": "stream",
     "text": [
      "Train Epoch: 13 [44800/58800 (76%)]\tLoss: 0.410177, lrs: 0.0001105278934138597\n"
     ]
    },
    {
     "name": "stderr",
     "output_type": "stream",
     "text": []
    },
    {
     "name": "stdout",
     "output_type": "stream",
     "text": [
      "Train Epoch: 13 [51200/58800 (87%)]\tLoss: 0.444553, lrs: 0.00010422236826105817\n"
     ]
    },
    {
     "name": "stderr",
     "output_type": "stream",
     "text": []
    },
    {
     "name": "stdout",
     "output_type": "stream",
     "text": [
      "Train Epoch: 13 [57600/58800 (98%)]\tLoss: 0.792724, lrs: 0.00010074109834511125\n"
     ]
    },
    {
     "name": "stderr",
     "output_type": "stream",
     "text": [
      "919it [00:31, 29.52it/s]\n"
     ]
    },
    {
     "name": "stdout",
     "output_type": "stream",
     "text": [
      "Epoch: 13 - train accuracy: 80.15816326530613\n"
     ]
    },
    {
     "name": "stderr",
     "output_type": "stream",
     "text": [
      "103it [00:02, 47.14it/s]\n",
      " 65%|██████▌   | 13/20 [07:20<03:55, 33.61s/it]"
     ]
    },
    {
     "name": "stdout",
     "output_type": "stream",
     "text": [
      "Epoch 13 finished: train loss = 0.483186811208725, val loss = 0.7640678286552429\n",
      "Epoch: 13 - Validation accuracy: 77.24211815120906\n"
     ]
    },
    {
     "name": "stderr",
     "output_type": "stream",
     "text": []
    },
    {
     "name": "stdout",
     "output_type": "stream",
     "text": [
      "Train Epoch: 14 [0/58800 (0%)]\tLoss: 0.393066, lrs: 0.00010040163527129965\n"
     ]
    },
    {
     "name": "stderr",
     "output_type": "stream",
     "text": []
    },
    {
     "name": "stdout",
     "output_type": "stream",
     "text": [
      "Train Epoch: 14 [6400/58800 (11%)]\tLoss: 0.452694, lrs: 0.00015912600000000002\n"
     ]
    },
    {
     "name": "stderr",
     "output_type": "stream",
     "text": []
    },
    {
     "name": "stdout",
     "output_type": "stream",
     "text": [
      "Train Epoch: 14 [12800/58800 (22%)]\tLoss: 0.677614, lrs: 0.000284926\n"
     ]
    },
    {
     "name": "stderr",
     "output_type": "stream",
     "text": []
    },
    {
     "name": "stdout",
     "output_type": "stream",
     "text": [
      "Train Epoch: 14 [19200/58800 (33%)]\tLoss: 0.424001, lrs: 0.00041072600000000004\n"
     ]
    },
    {
     "name": "stderr",
     "output_type": "stream",
     "text": []
    },
    {
     "name": "stdout",
     "output_type": "stream",
     "text": [
      "Train Epoch: 14 [25600/58800 (44%)]\tLoss: 0.576112, lrs: 0.0005365260000000001\n"
     ]
    },
    {
     "name": "stderr",
     "output_type": "stream",
     "text": []
    },
    {
     "name": "stdout",
     "output_type": "stream",
     "text": [
      "Train Epoch: 14 [32000/58800 (54%)]\tLoss: 0.491246, lrs: 0.0006623260000000002\n"
     ]
    },
    {
     "name": "stderr",
     "output_type": "stream",
     "text": []
    },
    {
     "name": "stdout",
     "output_type": "stream",
     "text": [
      "Train Epoch: 14 [38400/58800 (65%)]\tLoss: 0.725551, lrs: 0.0007287201755786427\n"
     ]
    },
    {
     "name": "stderr",
     "output_type": "stream",
     "text": []
    },
    {
     "name": "stdout",
     "output_type": "stream",
     "text": [
      "Train Epoch: 14 [44800/58800 (76%)]\tLoss: 0.736121, lrs: 0.00072626624997136\n"
     ]
    },
    {
     "name": "stderr",
     "output_type": "stream",
     "text": []
    },
    {
     "name": "stdout",
     "output_type": "stream",
     "text": [
      "Train Epoch: 14 [51200/58800 (87%)]\tLoss: 0.447746, lrs: 0.0007213021658348942\n"
     ]
    },
    {
     "name": "stderr",
     "output_type": "stream",
     "text": []
    },
    {
     "name": "stdout",
     "output_type": "stream",
     "text": [
      "Train Epoch: 14 [57600/58800 (98%)]\tLoss: 0.689464, lrs: 0.0007138678910558779\n"
     ]
    },
    {
     "name": "stderr",
     "output_type": "stream",
     "text": [
      "919it [00:31, 29.60it/s]\n"
     ]
    },
    {
     "name": "stdout",
     "output_type": "stream",
     "text": [
      "Epoch: 14 - train accuracy: 79.47789115646259\n"
     ]
    },
    {
     "name": "stderr",
     "output_type": "stream",
     "text": [
      "103it [00:02, 42.94it/s]\n",
      " 70%|███████   | 14/20 [07:54<03:21, 33.56s/it]"
     ]
    },
    {
     "name": "stdout",
     "output_type": "stream",
     "text": [
      "Epoch 14 finished: train loss = 0.6536851525306702, val loss = 0.8335626125335693\n",
      "Epoch: 14 - Validation accuracy: 76.21671258034894\n"
     ]
    },
    {
     "name": "stderr",
     "output_type": "stream",
     "text": []
    },
    {
     "name": "stdout",
     "output_type": "stream",
     "text": [
      "Train Epoch: 15 [0/58800 (0%)]\tLoss: 0.477160, lrs: 0.0007121807357962212\n"
     ]
    },
    {
     "name": "stderr",
     "output_type": "stream",
     "text": []
    },
    {
     "name": "stdout",
     "output_type": "stream",
     "text": [
      "Train Epoch: 15 [6400/58800 (11%)]\tLoss: 0.555758, lrs: 0.0007018865413395844\n"
     ]
    },
    {
     "name": "stderr",
     "output_type": "stream",
     "text": []
    },
    {
     "name": "stdout",
     "output_type": "stream",
     "text": [
      "Train Epoch: 15 [12800/58800 (22%)]\tLoss: 0.530757, lrs: 0.000689278479432631\n"
     ]
    },
    {
     "name": "stderr",
     "output_type": "stream",
     "text": []
    },
    {
     "name": "stdout",
     "output_type": "stream",
     "text": [
      "Train Epoch: 15 [19200/58800 (33%)]\tLoss: 0.608920, lrs: 0.0006744580627764156\n"
     ]
    },
    {
     "name": "stderr",
     "output_type": "stream",
     "text": []
    },
    {
     "name": "stdout",
     "output_type": "stream",
     "text": [
      "Train Epoch: 15 [25600/58800 (44%)]\tLoss: 0.715955, lrs: 0.0006575446166515901\n"
     ]
    },
    {
     "name": "stderr",
     "output_type": "stream",
     "text": []
    },
    {
     "name": "stdout",
     "output_type": "stream",
     "text": [
      "Train Epoch: 15 [32000/58800 (54%)]\tLoss: 0.707798, lrs: 0.0006386743181814063\n"
     ]
    },
    {
     "name": "stderr",
     "output_type": "stream",
     "text": []
    },
    {
     "name": "stdout",
     "output_type": "stream",
     "text": [
      "Train Epoch: 15 [38400/58800 (65%)]\tLoss: 0.612975, lrs: 0.0006179990999135905\n"
     ]
    },
    {
     "name": "stderr",
     "output_type": "stream",
     "text": []
    },
    {
     "name": "stdout",
     "output_type": "stream",
     "text": [
      "Train Epoch: 15 [44800/58800 (76%)]\tLoss: 0.615999, lrs: 0.0005956854265488032\n"
     ]
    },
    {
     "name": "stderr",
     "output_type": "stream",
     "text": []
    },
    {
     "name": "stdout",
     "output_type": "stream",
     "text": [
      "Train Epoch: 15 [51200/58800 (87%)]\tLoss: 0.488863, lrs: 0.0005719129546647507\n"
     ]
    },
    {
     "name": "stderr",
     "output_type": "stream",
     "text": []
    },
    {
     "name": "stdout",
     "output_type": "stream",
     "text": [
      "Train Epoch: 15 [57600/58800 (98%)]\tLoss: 0.573075, lrs: 0.0005468730862270561\n"
     ]
    },
    {
     "name": "stderr",
     "output_type": "stream",
     "text": [
      "919it [00:31, 29.20it/s]\n"
     ]
    },
    {
     "name": "stdout",
     "output_type": "stream",
     "text": [
      "Epoch: 15 - train accuracy: 79.18877551020408\n"
     ]
    },
    {
     "name": "stderr",
     "output_type": "stream",
     "text": [
      "103it [00:02, 42.11it/s]\n",
      " 75%|███████▌  | 15/20 [08:28<02:48, 33.67s/it]"
     ]
    },
    {
     "name": "stdout",
     "output_type": "stream",
     "text": [
      "Epoch 15 finished: train loss = 0.35621872544288635, val loss = 0.24041543900966644\n",
      "Epoch: 15 - Validation accuracy: 76.41567187021732\n"
     ]
    },
    {
     "name": "stderr",
     "output_type": "stream",
     "text": []
    },
    {
     "name": "stdout",
     "output_type": "stream",
     "text": [
      "Train Epoch: 16 [0/58800 (0%)]\tLoss: 0.385006, lrs: 0.0005419887164419738\n"
     ]
    },
    {
     "name": "stderr",
     "output_type": "stream",
     "text": []
    },
    {
     "name": "stdout",
     "output_type": "stream",
     "text": [
      "Train Epoch: 16 [6400/58800 (11%)]\tLoss: 0.548565, lrs: 0.0005157040852672245\n"
     ]
    },
    {
     "name": "stderr",
     "output_type": "stream",
     "text": []
    },
    {
     "name": "stdout",
     "output_type": "stream",
     "text": [
      "Train Epoch: 16 [12800/58800 (22%)]\tLoss: 0.509539, lrs: 0.000488604618304942\n"
     ]
    },
    {
     "name": "stderr",
     "output_type": "stream",
     "text": []
    },
    {
     "name": "stdout",
     "output_type": "stream",
     "text": [
      "Train Epoch: 16 [19200/58800 (33%)]\tLoss: 0.530463, lrs: 0.000460908504528878\n"
     ]
    },
    {
     "name": "stderr",
     "output_type": "stream",
     "text": []
    },
    {
     "name": "stdout",
     "output_type": "stream",
     "text": [
      "Train Epoch: 16 [25600/58800 (44%)]\tLoss: 0.619353, lrs: 0.0004328387367621063\n"
     ]
    },
    {
     "name": "stderr",
     "output_type": "stream",
     "text": []
    },
    {
     "name": "stdout",
     "output_type": "stream",
     "text": [
      "Train Epoch: 16 [32000/58800 (54%)]\tLoss: 0.478654, lrs: 0.0004046213162699287\n"
     ]
    },
    {
     "name": "stderr",
     "output_type": "stream",
     "text": []
    },
    {
     "name": "stdout",
     "output_type": "stream",
     "text": [
      "Train Epoch: 16 [38400/58800 (65%)]\tLoss: 0.446363, lrs: 0.00037648343313057366\n"
     ]
    },
    {
     "name": "stderr",
     "output_type": "stream",
     "text": []
    },
    {
     "name": "stdout",
     "output_type": "stream",
     "text": [
      "Train Epoch: 16 [44800/58800 (76%)]\tLoss: 0.685314, lrs: 0.0003486516370342719\n"
     ]
    },
    {
     "name": "stderr",
     "output_type": "stream",
     "text": []
    },
    {
     "name": "stdout",
     "output_type": "stream",
     "text": [
      "Train Epoch: 16 [51200/58800 (87%)]\tLoss: 0.559050, lrs: 0.0003213500132383599\n"
     ]
    },
    {
     "name": "stderr",
     "output_type": "stream",
     "text": []
    },
    {
     "name": "stdout",
     "output_type": "stream",
     "text": [
      "Train Epoch: 16 [57600/58800 (98%)]\tLoss: 0.331504, lrs: 0.00029479837836454725\n"
     ]
    },
    {
     "name": "stderr",
     "output_type": "stream",
     "text": [
      "919it [00:31, 28.89it/s]\n"
     ]
    },
    {
     "name": "stdout",
     "output_type": "stream",
     "text": [
      "Epoch: 16 - train accuracy: 80.43877551020408\n"
     ]
    },
    {
     "name": "stderr",
     "output_type": "stream",
     "text": [
      "103it [00:02, 43.47it/s]\n",
      " 80%|████████  | 16/20 [09:02<02:15, 33.83s/it]"
     ]
    },
    {
     "name": "stdout",
     "output_type": "stream",
     "text": [
      "Epoch 16 finished: train loss = 0.36725378036499023, val loss = 0.313333660364151\n",
      "Epoch: 16 - Validation accuracy: 76.87480869299051\n"
     ]
    },
    {
     "name": "stderr",
     "output_type": "stream",
     "text": []
    },
    {
     "name": "stdout",
     "output_type": "stream",
     "text": [
      "Train Epoch: 17 [0/58800 (0%)]\tLoss: 0.506977, lrs: 0.00028985611579639625\n"
     ]
    },
    {
     "name": "stderr",
     "output_type": "stream",
     "text": []
    },
    {
     "name": "stdout",
     "output_type": "stream",
     "text": [
      "Train Epoch: 17 [6400/58800 (11%)]\tLoss: 0.503331, lrs: 0.00026447491912285503\n"
     ]
    },
    {
     "name": "stderr",
     "output_type": "stream",
     "text": []
    },
    {
     "name": "stdout",
     "output_type": "stream",
     "text": [
      "Train Epoch: 17 [12800/58800 (22%)]\tLoss: 0.517570, lrs: 0.0002403016361872175\n"
     ]
    },
    {
     "name": "stderr",
     "output_type": "stream",
     "text": []
    },
    {
     "name": "stdout",
     "output_type": "stream",
     "text": [
      "Train Epoch: 17 [19200/58800 (33%)]\tLoss: 0.501769, lrs: 0.0002175308960500214\n"
     ]
    },
    {
     "name": "stderr",
     "output_type": "stream",
     "text": []
    },
    {
     "name": "stdout",
     "output_type": "stream",
     "text": [
      "Train Epoch: 17 [25600/58800 (44%)]\tLoss: 0.404532, lrs: 0.0001963460353218729\n"
     ]
    },
    {
     "name": "stderr",
     "output_type": "stream",
     "text": []
    },
    {
     "name": "stdout",
     "output_type": "stream",
     "text": [
      "Train Epoch: 17 [32000/58800 (54%)]\tLoss: 0.559350, lrs: 0.00017691762204485862\n"
     ]
    },
    {
     "name": "stderr",
     "output_type": "stream",
     "text": []
    },
    {
     "name": "stdout",
     "output_type": "stream",
     "text": [
      "Train Epoch: 17 [38400/58800 (65%)]\tLoss: 0.506017, lrs: 0.00015940208237896322\n"
     ]
    },
    {
     "name": "stderr",
     "output_type": "stream",
     "text": []
    },
    {
     "name": "stdout",
     "output_type": "stream",
     "text": [
      "Train Epoch: 17 [44800/58800 (76%)]\tLoss: 0.441383, lrs: 0.00014394044115060585\n"
     ]
    },
    {
     "name": "stderr",
     "output_type": "stream",
     "text": []
    },
    {
     "name": "stdout",
     "output_type": "stream",
     "text": [
      "Train Epoch: 17 [51200/58800 (87%)]\tLoss: 0.638245, lrs: 0.00013065718640365955\n"
     ]
    },
    {
     "name": "stderr",
     "output_type": "stream",
     "text": []
    },
    {
     "name": "stdout",
     "output_type": "stream",
     "text": [
      "Train Epoch: 17 [57600/58800 (98%)]\tLoss: 0.458803, lrs: 0.00011965926709491925\n"
     ]
    },
    {
     "name": "stderr",
     "output_type": "stream",
     "text": [
      "919it [00:31, 28.86it/s]\n"
     ]
    },
    {
     "name": "stdout",
     "output_type": "stream",
     "text": [
      "Epoch: 17 - train accuracy: 82.00170068027211\n"
     ]
    },
    {
     "name": "stderr",
     "output_type": "stream",
     "text": [
      "103it [00:02, 47.46it/s]\n",
      " 80%|████████  | 16/20 [09:36<02:24, 36.02s/it]"
     ]
    },
    {
     "name": "stdout",
     "output_type": "stream",
     "text": [
      "Early Stopping!\n",
      "Epoch 17 finished: train loss = 0.4632008969783783, val loss = 1.0022176504135132\n",
      "Epoch: 17 - Validation accuracy: 77.089072543618\n"
     ]
    },
    {
     "name": "stderr",
     "output_type": "stream",
     "text": [
      "\n"
     ]
    }
   ],
   "source": [
    "train(dataset=train_set, valid_rate=0.9, batch_size=batch_size,\n",
    "      optimizer=optimizer, scheduler=scheduler, num_of_epoch=num_of_epoch, valid_random_seed=42)"
   ]
  }
 ],
 "metadata": {
  "kernelspec": {
   "display_name": "Python 3",
   "language": "python",
   "name": "python3"
  },
  "language_info": {
   "codemirror_mode": {
    "name": "ipython",
    "version": 3
   },
   "file_extension": ".py",
   "mimetype": "text/x-python",
   "name": "python",
   "nbconvert_exporter": "python",
   "pygments_lexer": "ipython3",
   "version": "3.11.3"
  },
  "orig_nbformat": 4
 },
 "nbformat": 4,
 "nbformat_minor": 2
}
